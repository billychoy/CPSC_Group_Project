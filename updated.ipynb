{
 "cells": [
  {
   "cell_type": "markdown",
   "metadata": {},
   "source": [
    "# TABLE OF CONTENTS\n",
    "1. [PROBLEM STATEMENT](#prob-stat)\n",
    "2. [THE DATA](#data)\n",
    "    1. [Supplemental Data - Olympic](#supdata-olympic)\n",
    "3. [BACKGROUND AND FINDING](#finding)\n",
    "4. [READ IN THE DATA](#read)\n",
    "    1. [Reading Olympic .csv files](#read_olympic) \n",
    "    2. [GETTING TO KNOW THE DATA](#know)\n",
    "5. [DATA PREPARATION](#prepare)\n",
    "    1. [Happy 2016 Dataframe](#happy-2016)\n",
    "        1. [Rename Key Column](#rename_col_2016)\n",
    "    2. [Happy 2017 Dataframe](#happy-2017)\n",
    "        1. [Rename Key Column](#rename_col_2017)\n",
    "        2. [Align country name](#col_2017)\n",
    "    3. [Athletes Dataframe](#athletes)\n",
    "        1. [Data Selection](#select_athletes) \n",
    "        2. [Create Medal Count for analysis purpose](#create_col_athletes)\n",
    "    4. [Countries Dataframe](#countries)\n",
    "        1. [Data Selection](#select_class)\n",
    "        2. [Create Key Column](#create_col_class)\n",
    "        3. [Sync nationality between Country and Medals](#sync_national) \n",
    "6. [COMBINE THE DATASETS](#combine)\n",
    "    1. [Combine dataset-happiness data](#combine_happy)\n",
    "    2. [Combine dataset-Olympic Game data](#combine_olympic)\n",
    "    3. [Combine dataset-Happiness Clean and Olympic Clean](#combine_happy_olymic) \n",
    "    \n",
    "*** TBC ***\n",
    "7. [FIND CORRELATIONS](#find_corr)\n",
    "    1. [Correlations Plots](#corr_plots)\n",
    "        1. [Positive Correlations Plot](#pos_corr_plot)\n",
    "        1. [Negative Correlations Plot](#neg_corr_plot)\n",
    "    2. [Correlations Analysis](#corr_analysis)"
   ]
  },
  {
   "cell_type": "markdown",
   "metadata": {},
   "source": [
    "# PROBLEM STATEMENT<a id='prob-stat'></a>"
   ]
  },
  {
   "cell_type": "markdown",
   "metadata": {},
   "source": [
    "We would like to explorer whether the world happiest index in 2016 and 2017 has any correlation with Olympic Game 2016\n",
    "\n",
    "In this project, we'll collect the raw data from Olympic game 206 and the world happiest index on the years 2016 and year 2017.\n",
    "We will then perform data cleaning, table join, and aggregation before analysing. \n",
    "\n",
    "Our team members of Group 6: Ashley Keung, Jill Lau, Jonathan Chu and Billy Choy"
   ]
  },
  {
   "cell_type": "markdown",
   "metadata": {},
   "source": [
    "***"
   ]
  },
  {
   "cell_type": "markdown",
   "metadata": {},
   "source": [
    "# THE DATA<a id='data'></a>"
   ]
  },
  {
   "cell_type": "markdown",
   "metadata": {},
   "source": [
    "The World Happiness Report is a United Nations Sustainable Development Solutions Network publication. It contains articles and rankings of national happiness, based on respondent ratings of their own lives, which the report also correlates with various life factors. As of March 2021, Finland had been ranked the happiest country in the world four times in a row.\n",
    "\n",
    "The happiness index files are made available by World Happiest Report on the Kaggle website https://www.kaggle.com/unsdsn/world-happiness. So let's create a new directory named \"happiness\" in our project directory and download these two files in the directory. Also, for the sake of brevity, let's rename the data files as \"Happiness_2016.csv\" and \"Happiness_2017.csv\", respectively. A concise description of our primary datasets is as follows:\n",
    "\n",
    "Main datasets:\n",
    "- __Happiness_2016.csv__ - World Happiest Index in 2016\n",
    "- __Happiness_2017.csv__ - World Happiest Index in 2017\n",
    "\n",
    "Now let's go ahead and have a look at these datasets."
   ]
  },
  {
   "cell_type": "code",
   "execution_count": 2,
   "metadata": {},
   "outputs": [],
   "source": [
    "#import libraries\n",
    "import pandas as pd\n",
    "import numpy as np\n",
    "import matplotlib.pyplot as plt\n",
    "import seaborn as sns\n",
    "from scipy.stats import pearsonr\n",
    "%matplotlib inline"
   ]
  },
  {
   "cell_type": "code",
   "execution_count": 3,
   "metadata": {},
   "outputs": [
    {
     "data": {
      "text/html": [
       "<div>\n",
       "<style scoped>\n",
       "    .dataframe tbody tr th:only-of-type {\n",
       "        vertical-align: middle;\n",
       "    }\n",
       "\n",
       "    .dataframe tbody tr th {\n",
       "        vertical-align: top;\n",
       "    }\n",
       "\n",
       "    .dataframe thead th {\n",
       "        text-align: right;\n",
       "    }\n",
       "</style>\n",
       "<table border=\"1\" class=\"dataframe\">\n",
       "  <thead>\n",
       "    <tr style=\"text-align: right;\">\n",
       "      <th></th>\n",
       "      <th>Country</th>\n",
       "      <th>Region</th>\n",
       "      <th>Happiness Rank</th>\n",
       "      <th>Happiness Score</th>\n",
       "      <th>Lower Confidence Interval</th>\n",
       "      <th>Upper Confidence Interval</th>\n",
       "      <th>Economy (GDP per Capita)</th>\n",
       "      <th>Family</th>\n",
       "      <th>Health (Life Expectancy)</th>\n",
       "      <th>Freedom</th>\n",
       "      <th>Trust (Government Corruption)</th>\n",
       "      <th>Generosity</th>\n",
       "      <th>Dystopia Residual</th>\n",
       "    </tr>\n",
       "  </thead>\n",
       "  <tbody>\n",
       "    <tr>\n",
       "      <th>0</th>\n",
       "      <td>Denmark</td>\n",
       "      <td>Western Europe</td>\n",
       "      <td>1</td>\n",
       "      <td>7.526</td>\n",
       "      <td>7.460</td>\n",
       "      <td>7.592</td>\n",
       "      <td>1.44178</td>\n",
       "      <td>1.16374</td>\n",
       "      <td>0.79504</td>\n",
       "      <td>0.57941</td>\n",
       "      <td>0.44453</td>\n",
       "      <td>0.36171</td>\n",
       "      <td>2.73939</td>\n",
       "    </tr>\n",
       "    <tr>\n",
       "      <th>1</th>\n",
       "      <td>Switzerland</td>\n",
       "      <td>Western Europe</td>\n",
       "      <td>2</td>\n",
       "      <td>7.509</td>\n",
       "      <td>7.428</td>\n",
       "      <td>7.590</td>\n",
       "      <td>1.52733</td>\n",
       "      <td>1.14524</td>\n",
       "      <td>0.86303</td>\n",
       "      <td>0.58557</td>\n",
       "      <td>0.41203</td>\n",
       "      <td>0.28083</td>\n",
       "      <td>2.69463</td>\n",
       "    </tr>\n",
       "    <tr>\n",
       "      <th>2</th>\n",
       "      <td>Iceland</td>\n",
       "      <td>Western Europe</td>\n",
       "      <td>3</td>\n",
       "      <td>7.501</td>\n",
       "      <td>7.333</td>\n",
       "      <td>7.669</td>\n",
       "      <td>1.42666</td>\n",
       "      <td>1.18326</td>\n",
       "      <td>0.86733</td>\n",
       "      <td>0.56624</td>\n",
       "      <td>0.14975</td>\n",
       "      <td>0.47678</td>\n",
       "      <td>2.83137</td>\n",
       "    </tr>\n",
       "    <tr>\n",
       "      <th>3</th>\n",
       "      <td>Norway</td>\n",
       "      <td>Western Europe</td>\n",
       "      <td>4</td>\n",
       "      <td>7.498</td>\n",
       "      <td>7.421</td>\n",
       "      <td>7.575</td>\n",
       "      <td>1.57744</td>\n",
       "      <td>1.12690</td>\n",
       "      <td>0.79579</td>\n",
       "      <td>0.59609</td>\n",
       "      <td>0.35776</td>\n",
       "      <td>0.37895</td>\n",
       "      <td>2.66465</td>\n",
       "    </tr>\n",
       "    <tr>\n",
       "      <th>4</th>\n",
       "      <td>Finland</td>\n",
       "      <td>Western Europe</td>\n",
       "      <td>5</td>\n",
       "      <td>7.413</td>\n",
       "      <td>7.351</td>\n",
       "      <td>7.475</td>\n",
       "      <td>1.40598</td>\n",
       "      <td>1.13464</td>\n",
       "      <td>0.81091</td>\n",
       "      <td>0.57104</td>\n",
       "      <td>0.41004</td>\n",
       "      <td>0.25492</td>\n",
       "      <td>2.82596</td>\n",
       "    </tr>\n",
       "  </tbody>\n",
       "</table>\n",
       "</div>"
      ],
      "text/plain": [
       "       Country          Region  Happiness Rank  Happiness Score  \\\n",
       "0      Denmark  Western Europe               1            7.526   \n",
       "1  Switzerland  Western Europe               2            7.509   \n",
       "2      Iceland  Western Europe               3            7.501   \n",
       "3       Norway  Western Europe               4            7.498   \n",
       "4      Finland  Western Europe               5            7.413   \n",
       "\n",
       "   Lower Confidence Interval  Upper Confidence Interval  \\\n",
       "0                      7.460                      7.592   \n",
       "1                      7.428                      7.590   \n",
       "2                      7.333                      7.669   \n",
       "3                      7.421                      7.575   \n",
       "4                      7.351                      7.475   \n",
       "\n",
       "   Economy (GDP per Capita)   Family  Health (Life Expectancy)  Freedom  \\\n",
       "0                   1.44178  1.16374                   0.79504  0.57941   \n",
       "1                   1.52733  1.14524                   0.86303  0.58557   \n",
       "2                   1.42666  1.18326                   0.86733  0.56624   \n",
       "3                   1.57744  1.12690                   0.79579  0.59609   \n",
       "4                   1.40598  1.13464                   0.81091  0.57104   \n",
       "\n",
       "   Trust (Government Corruption)  Generosity  Dystopia Residual  \n",
       "0                        0.44453     0.36171            2.73939  \n",
       "1                        0.41203     0.28083            2.69463  \n",
       "2                        0.14975     0.47678            2.83137  \n",
       "3                        0.35776     0.37895            2.66465  \n",
       "4                        0.41004     0.25492            2.82596  "
      ]
     },
     "execution_count": 3,
     "metadata": {},
     "output_type": "execute_result"
    }
   ],
   "source": [
    "#Read Happiness_2016 csv and store as happy_2016 dataframe\n",
    "happy_2016 = pd.read_csv(\"Happiness_2016.csv\")\n",
    "happy_2016.head()"
   ]
  },
  {
   "cell_type": "code",
   "execution_count": 4,
   "metadata": {},
   "outputs": [
    {
     "data": {
      "text/html": [
       "<div>\n",
       "<style scoped>\n",
       "    .dataframe tbody tr th:only-of-type {\n",
       "        vertical-align: middle;\n",
       "    }\n",
       "\n",
       "    .dataframe tbody tr th {\n",
       "        vertical-align: top;\n",
       "    }\n",
       "\n",
       "    .dataframe thead th {\n",
       "        text-align: right;\n",
       "    }\n",
       "</style>\n",
       "<table border=\"1\" class=\"dataframe\">\n",
       "  <thead>\n",
       "    <tr style=\"text-align: right;\">\n",
       "      <th></th>\n",
       "      <th>Country</th>\n",
       "      <th>Happiness.Rank</th>\n",
       "      <th>Happiness.Score</th>\n",
       "      <th>Whisker.high</th>\n",
       "      <th>Whisker.low</th>\n",
       "      <th>Economy..GDP.per.Capita.</th>\n",
       "      <th>Family</th>\n",
       "      <th>Health..Life.Expectancy.</th>\n",
       "      <th>Freedom</th>\n",
       "      <th>Generosity</th>\n",
       "      <th>Trust..Government.Corruption.</th>\n",
       "      <th>Dystopia.Residual</th>\n",
       "    </tr>\n",
       "  </thead>\n",
       "  <tbody>\n",
       "    <tr>\n",
       "      <th>0</th>\n",
       "      <td>Norway</td>\n",
       "      <td>1</td>\n",
       "      <td>7.537</td>\n",
       "      <td>7.594445</td>\n",
       "      <td>7.479556</td>\n",
       "      <td>1.616463</td>\n",
       "      <td>1.533524</td>\n",
       "      <td>0.796667</td>\n",
       "      <td>0.635423</td>\n",
       "      <td>0.362012</td>\n",
       "      <td>0.315964</td>\n",
       "      <td>2.277027</td>\n",
       "    </tr>\n",
       "    <tr>\n",
       "      <th>1</th>\n",
       "      <td>Denmark</td>\n",
       "      <td>2</td>\n",
       "      <td>7.522</td>\n",
       "      <td>7.581728</td>\n",
       "      <td>7.462272</td>\n",
       "      <td>1.482383</td>\n",
       "      <td>1.551122</td>\n",
       "      <td>0.792566</td>\n",
       "      <td>0.626007</td>\n",
       "      <td>0.355280</td>\n",
       "      <td>0.400770</td>\n",
       "      <td>2.313707</td>\n",
       "    </tr>\n",
       "    <tr>\n",
       "      <th>2</th>\n",
       "      <td>Iceland</td>\n",
       "      <td>3</td>\n",
       "      <td>7.504</td>\n",
       "      <td>7.622030</td>\n",
       "      <td>7.385970</td>\n",
       "      <td>1.480633</td>\n",
       "      <td>1.610574</td>\n",
       "      <td>0.833552</td>\n",
       "      <td>0.627163</td>\n",
       "      <td>0.475540</td>\n",
       "      <td>0.153527</td>\n",
       "      <td>2.322715</td>\n",
       "    </tr>\n",
       "    <tr>\n",
       "      <th>3</th>\n",
       "      <td>Switzerland</td>\n",
       "      <td>4</td>\n",
       "      <td>7.494</td>\n",
       "      <td>7.561772</td>\n",
       "      <td>7.426227</td>\n",
       "      <td>1.564980</td>\n",
       "      <td>1.516912</td>\n",
       "      <td>0.858131</td>\n",
       "      <td>0.620071</td>\n",
       "      <td>0.290549</td>\n",
       "      <td>0.367007</td>\n",
       "      <td>2.276716</td>\n",
       "    </tr>\n",
       "    <tr>\n",
       "      <th>4</th>\n",
       "      <td>Finland</td>\n",
       "      <td>5</td>\n",
       "      <td>7.469</td>\n",
       "      <td>7.527542</td>\n",
       "      <td>7.410458</td>\n",
       "      <td>1.443572</td>\n",
       "      <td>1.540247</td>\n",
       "      <td>0.809158</td>\n",
       "      <td>0.617951</td>\n",
       "      <td>0.245483</td>\n",
       "      <td>0.382612</td>\n",
       "      <td>2.430182</td>\n",
       "    </tr>\n",
       "  </tbody>\n",
       "</table>\n",
       "</div>"
      ],
      "text/plain": [
       "       Country  Happiness.Rank  Happiness.Score  Whisker.high  Whisker.low  \\\n",
       "0       Norway               1            7.537      7.594445     7.479556   \n",
       "1      Denmark               2            7.522      7.581728     7.462272   \n",
       "2      Iceland               3            7.504      7.622030     7.385970   \n",
       "3  Switzerland               4            7.494      7.561772     7.426227   \n",
       "4      Finland               5            7.469      7.527542     7.410458   \n",
       "\n",
       "   Economy..GDP.per.Capita.    Family  Health..Life.Expectancy.   Freedom  \\\n",
       "0                  1.616463  1.533524                  0.796667  0.635423   \n",
       "1                  1.482383  1.551122                  0.792566  0.626007   \n",
       "2                  1.480633  1.610574                  0.833552  0.627163   \n",
       "3                  1.564980  1.516912                  0.858131  0.620071   \n",
       "4                  1.443572  1.540247                  0.809158  0.617951   \n",
       "\n",
       "   Generosity  Trust..Government.Corruption.  Dystopia.Residual  \n",
       "0    0.362012                       0.315964           2.277027  \n",
       "1    0.355280                       0.400770           2.313707  \n",
       "2    0.475540                       0.153527           2.322715  \n",
       "3    0.290549                       0.367007           2.276716  \n",
       "4    0.245483                       0.382612           2.430182  "
      ]
     },
     "execution_count": 4,
     "metadata": {},
     "output_type": "execute_result"
    }
   ],
   "source": [
    "#Read Happiness_2017 csv and store as happy_2017 dataframe\n",
    "happy_2017 = pd.read_csv(\"Happiness_2017.csv\")\n",
    "happy_2017.head()"
   ]
  },
  {
   "cell_type": "markdown",
   "metadata": {},
   "source": [
    "We can see that happy_2016 has 13 columns while happy_2017 has 12 columns. Even though the exact measurements are between years, some column names changed, and one column (Region) is missing in 2017. Data cleansing is required before our analysis.\n",
    "\n",
    "On the other hand, we would like to explore the happiness and related index before and after the Olympic games in 2016. Consequently, we must supplement the Olympic Games 2016 to complete the analysis."
   ]
  },
  {
   "cell_type": "markdown",
   "metadata": {},
   "source": [
    "***"
   ]
  },
  {
   "cell_type": "markdown",
   "metadata": {},
   "source": [
    "# Supplemental Data - Olympic<a id='supdata-olympic'></a>"
   ]
  },
  {
   "cell_type": "markdown",
   "metadata": {},
   "source": [
    "The Kaggle website https://www.kaggle.com/rio2016/olympic-games, \"2016 Olympics in Rio de Janeiro\", has several related datasets on Olympic Games 2016. So let's also download these files and their associated metadata files in the \"Olympic\" directory.\n",
    "\n",
    "The data files and their descriptions are as follows:\n",
    "\n",
    "Supplemental datasets:\n",
    "\n",
    "- __athletes.csv__ - This file contains Athlete information, including the name, nationality, gender (sex), date of birth(dob), height, weight, type of sports, the number of gold medal, silver medal, and bronze medal.\n",
    "- __countries.csv__ - This file contain country name, code, population and GDP per capital."
   ]
  },
  {
   "cell_type": "markdown",
   "metadata": {},
   "source": [
    "***"
   ]
  },
  {
   "cell_type": "markdown",
   "metadata": {},
   "source": [
    "# BACKGROUND AND FINDING<a id='finding'></a>"
   ]
  },
  {
   "cell_type": "markdown",
   "metadata": {},
   "source": [
    "So let's do some background research on Google before moving on to coding, as this will help us understand how to combine and analyze the data.\n",
    "\n",
    "In this case, we'll want to research the following:\n",
    "\n",
    "    Olympic Game 2016\n",
    "    World Happiest Index 2016\n",
    "    World Happiest Index 2017\n",
    "\n",
    "Based on our research on each of the topics as mentioned above and an examination of the metadata file associated with each dataset, we can state the following:\n",
    "\n",
    "- Olympic Games, 2016, has 201 countries joined the game. \n",
    "- World Happiest Index 2016 has a rating of 157 countries.\n",
    "To analyze the Happiest Index change, we will use the countries from the World Happiest Index as a base to match with the country in the Olympic Games.\n",
    "- On the other hand, the linkage between Olympic files are:\n",
    "    - Countries.[code] link up with Athlete.[nationality]"
   ]
  },
  {
   "cell_type": "markdown",
   "metadata": {},
   "source": [
    "Now the assumptions are all set up. We are ready to examine the data. Since all of these datasets are interrelated, we'll need to combine them into a single data set before finding correlations."
   ]
  },
  {
   "cell_type": "markdown",
   "metadata": {},
   "source": [
    "***"
   ]
  },
  {
   "cell_type": "markdown",
   "metadata": {},
   "source": [
    "# READ IN THE DATA<a id='read'></a>"
   ]
  },
  {
   "cell_type": "markdown",
   "metadata": {},
   "source": [
    "## Reading .csv files of Olympic Game<a id='read_olympic'></a>"
   ]
  },
  {
   "cell_type": "markdown",
   "metadata": {},
   "source": [
    "Let's read the Olympic game CSV files with the command below."
   ]
  },
  {
   "cell_type": "code",
   "execution_count": 5,
   "metadata": {},
   "outputs": [],
   "source": [
    "#import olympic data\n",
    "athletes = pd.read_csv(\"athletes.csv\")\n",
    "countries = pd.read_csv(\"countries.csv\")"
   ]
  },
  {
   "cell_type": "markdown",
   "metadata": {},
   "source": [
    "Our primary analysis uses Happiest Index as a base, and we store Olympic related tables with the data frame named above for later usage. The ideal key to join both datasets will be the country code."
   ]
  },
  {
   "cell_type": "markdown",
   "metadata": {},
   "source": [
    "## GETTING TO KNOW THE DATA<a id='know'></a>"
   ]
  },
  {
   "cell_type": "markdown",
   "metadata": {},
   "source": [
    "Now it's about to explore each of the individual datasets we stored into a central repository (the dictionary) above. We will also closely examine the Excel metadata file associated with each data file. This will ensure no gaps in our understanding of the data, such as thinking that a column represents something other than what it does."
   ]
  },
  {
   "cell_type": "code",
   "execution_count": 6,
   "metadata": {
    "scrolled": false
   },
   "outputs": [
    {
     "data": {
      "text/html": [
       "<div>\n",
       "<style scoped>\n",
       "    .dataframe tbody tr th:only-of-type {\n",
       "        vertical-align: middle;\n",
       "    }\n",
       "\n",
       "    .dataframe tbody tr th {\n",
       "        vertical-align: top;\n",
       "    }\n",
       "\n",
       "    .dataframe thead th {\n",
       "        text-align: right;\n",
       "    }\n",
       "</style>\n",
       "<table border=\"1\" class=\"dataframe\">\n",
       "  <thead>\n",
       "    <tr style=\"text-align: right;\">\n",
       "      <th></th>\n",
       "      <th>id</th>\n",
       "      <th>name</th>\n",
       "      <th>nationality</th>\n",
       "      <th>sex</th>\n",
       "      <th>dob</th>\n",
       "      <th>height</th>\n",
       "      <th>weight</th>\n",
       "      <th>sport</th>\n",
       "      <th>gold</th>\n",
       "      <th>silver</th>\n",
       "      <th>bronze</th>\n",
       "    </tr>\n",
       "  </thead>\n",
       "  <tbody>\n",
       "    <tr>\n",
       "      <th>0</th>\n",
       "      <td>736041664</td>\n",
       "      <td>A Jesus Garcia</td>\n",
       "      <td>ESP</td>\n",
       "      <td>male</td>\n",
       "      <td>10/17/69</td>\n",
       "      <td>1.72</td>\n",
       "      <td>64.0</td>\n",
       "      <td>athletics</td>\n",
       "      <td>0</td>\n",
       "      <td>0</td>\n",
       "      <td>0</td>\n",
       "    </tr>\n",
       "    <tr>\n",
       "      <th>1</th>\n",
       "      <td>532037425</td>\n",
       "      <td>A Lam Shin</td>\n",
       "      <td>KOR</td>\n",
       "      <td>female</td>\n",
       "      <td>9/23/86</td>\n",
       "      <td>1.68</td>\n",
       "      <td>56.0</td>\n",
       "      <td>fencing</td>\n",
       "      <td>0</td>\n",
       "      <td>0</td>\n",
       "      <td>0</td>\n",
       "    </tr>\n",
       "    <tr>\n",
       "      <th>2</th>\n",
       "      <td>435962603</td>\n",
       "      <td>Aaron Brown</td>\n",
       "      <td>CAN</td>\n",
       "      <td>male</td>\n",
       "      <td>5/27/92</td>\n",
       "      <td>1.98</td>\n",
       "      <td>79.0</td>\n",
       "      <td>athletics</td>\n",
       "      <td>0</td>\n",
       "      <td>0</td>\n",
       "      <td>1</td>\n",
       "    </tr>\n",
       "    <tr>\n",
       "      <th>3</th>\n",
       "      <td>521041435</td>\n",
       "      <td>Aaron Cook</td>\n",
       "      <td>MDA</td>\n",
       "      <td>male</td>\n",
       "      <td>1/2/91</td>\n",
       "      <td>1.83</td>\n",
       "      <td>80.0</td>\n",
       "      <td>taekwondo</td>\n",
       "      <td>0</td>\n",
       "      <td>0</td>\n",
       "      <td>0</td>\n",
       "    </tr>\n",
       "    <tr>\n",
       "      <th>4</th>\n",
       "      <td>33922579</td>\n",
       "      <td>Aaron Gate</td>\n",
       "      <td>NZL</td>\n",
       "      <td>male</td>\n",
       "      <td>11/26/90</td>\n",
       "      <td>1.81</td>\n",
       "      <td>71.0</td>\n",
       "      <td>cycling</td>\n",
       "      <td>0</td>\n",
       "      <td>0</td>\n",
       "      <td>0</td>\n",
       "    </tr>\n",
       "  </tbody>\n",
       "</table>\n",
       "</div>"
      ],
      "text/plain": [
       "          id            name nationality     sex       dob  height  weight  \\\n",
       "0  736041664  A Jesus Garcia         ESP    male  10/17/69    1.72    64.0   \n",
       "1  532037425      A Lam Shin         KOR  female   9/23/86    1.68    56.0   \n",
       "2  435962603     Aaron Brown         CAN    male   5/27/92    1.98    79.0   \n",
       "3  521041435      Aaron Cook         MDA    male    1/2/91    1.83    80.0   \n",
       "4   33922579      Aaron Gate         NZL    male  11/26/90    1.81    71.0   \n",
       "\n",
       "       sport  gold  silver  bronze  \n",
       "0  athletics     0       0       0  \n",
       "1    fencing     0       0       0  \n",
       "2  athletics     0       0       1  \n",
       "3  taekwondo     0       0       0  \n",
       "4    cycling     0       0       0  "
      ]
     },
     "execution_count": 6,
     "metadata": {},
     "output_type": "execute_result"
    }
   ],
   "source": [
    "#Check athletes data frame with header record\n",
    "athletes.head()"
   ]
  },
  {
   "cell_type": "markdown",
   "metadata": {},
   "source": [
    "By looking at the Athlete dataset, it tells us:\n",
    " 1. 'ID' is a unique assigned key that ideally can join with an events data frame.\n",
    " 2. Nationality refers to a country's short form to map with code in the country's data frame.\n",
    " 3. 'dob refers to the date of birth which is not a unique variable.\n",
    " 4. 'Sport' refers to the type of sport that can join with an events data frame."
   ]
  },
  {
   "cell_type": "code",
   "execution_count": 7,
   "metadata": {},
   "outputs": [
    {
     "data": {
      "text/html": [
       "<div>\n",
       "<style scoped>\n",
       "    .dataframe tbody tr th:only-of-type {\n",
       "        vertical-align: middle;\n",
       "    }\n",
       "\n",
       "    .dataframe tbody tr th {\n",
       "        vertical-align: top;\n",
       "    }\n",
       "\n",
       "    .dataframe thead th {\n",
       "        text-align: right;\n",
       "    }\n",
       "</style>\n",
       "<table border=\"1\" class=\"dataframe\">\n",
       "  <thead>\n",
       "    <tr style=\"text-align: right;\">\n",
       "      <th></th>\n",
       "      <th>country</th>\n",
       "      <th>code</th>\n",
       "      <th>population</th>\n",
       "      <th>gdp_per_capita</th>\n",
       "    </tr>\n",
       "  </thead>\n",
       "  <tbody>\n",
       "    <tr>\n",
       "      <th>0</th>\n",
       "      <td>Afghanistan</td>\n",
       "      <td>AFG</td>\n",
       "      <td>32526562.0</td>\n",
       "      <td>594.323081</td>\n",
       "    </tr>\n",
       "    <tr>\n",
       "      <th>1</th>\n",
       "      <td>Albania</td>\n",
       "      <td>ALB</td>\n",
       "      <td>2889167.0</td>\n",
       "      <td>3945.217582</td>\n",
       "    </tr>\n",
       "    <tr>\n",
       "      <th>2</th>\n",
       "      <td>Algeria</td>\n",
       "      <td>ALG</td>\n",
       "      <td>39666519.0</td>\n",
       "      <td>4206.031232</td>\n",
       "    </tr>\n",
       "    <tr>\n",
       "      <th>3</th>\n",
       "      <td>American Samoa*</td>\n",
       "      <td>ASA</td>\n",
       "      <td>55538.0</td>\n",
       "      <td>NaN</td>\n",
       "    </tr>\n",
       "    <tr>\n",
       "      <th>4</th>\n",
       "      <td>Andorra</td>\n",
       "      <td>AND</td>\n",
       "      <td>70473.0</td>\n",
       "      <td>NaN</td>\n",
       "    </tr>\n",
       "  </tbody>\n",
       "</table>\n",
       "</div>"
      ],
      "text/plain": [
       "           country code  population  gdp_per_capita\n",
       "0      Afghanistan  AFG  32526562.0      594.323081\n",
       "1          Albania  ALB   2889167.0     3945.217582\n",
       "2          Algeria  ALG  39666519.0     4206.031232\n",
       "3  American Samoa*  ASA     55538.0             NaN\n",
       "4          Andorra  AND     70473.0             NaN"
      ]
     },
     "execution_count": 7,
     "metadata": {},
     "output_type": "execute_result"
    }
   ],
   "source": [
    "#Check countries data frame with header record\n",
    "countries.head()"
   ]
  },
  {
   "cell_type": "markdown",
   "metadata": {},
   "source": [
    "Country data frame shows the country name with national code, population and GDP per capital.\n",
    "By looking at the first five records, gdp_per_capita which contains a Null value may need to be handled later on."
   ]
  },
  {
   "cell_type": "markdown",
   "metadata": {},
   "source": [
    "***"
   ]
  },
  {
   "cell_type": "markdown",
   "metadata": {},
   "source": [
    "# DATA PREPARATION<a id='prepare'></a>"
   ]
  },
  {
   "cell_type": "markdown",
   "metadata": {},
   "source": [
    "We'll now look at each dataset one by one to see more details about the data contained in each column and its type. To do this, we'll import a custom function from a module we wrote in another project."
   ]
  },
  {
   "cell_type": "markdown",
   "metadata": {},
   "source": [
    "## Happy 2016 Dataframe <a id='happy-2016'></a>"
   ]
  },
  {
   "cell_type": "markdown",
   "metadata": {},
   "source": [
    "Let's look into the Happy 2016 Dataframe in detail, starting with a data type check on all columns."
   ]
  },
  {
   "cell_type": "code",
   "execution_count": 8,
   "metadata": {},
   "outputs": [
    {
     "data": {
      "text/plain": [
       "Country                           object\n",
       "Region                            object\n",
       "Happiness Rank                     int64\n",
       "Happiness Score                  float64\n",
       "Lower Confidence Interval        float64\n",
       "Upper Confidence Interval        float64\n",
       "Economy (GDP per Capita)         float64\n",
       "Family                           float64\n",
       "Health (Life Expectancy)         float64\n",
       "Freedom                          float64\n",
       "Trust (Government Corruption)    float64\n",
       "Generosity                       float64\n",
       "Dystopia Residual                float64\n",
       "dtype: object"
      ]
     },
     "execution_count": 8,
     "metadata": {},
     "output_type": "execute_result"
    }
   ],
   "source": [
    "#Check Data type in Happy_2016 data frame\n",
    "happy_2016.dtypes"
   ]
  },
  {
   "cell_type": "markdown",
   "metadata": {},
   "source": [
    "After checking the data type, there is no casting required for this data frame."
   ]
  },
  {
   "cell_type": "markdown",
   "metadata": {},
   "source": [
    "### Rename Key Column <a id='rename_col_2016'></a>"
   ]
  },
  {
   "cell_type": "markdown",
   "metadata": {},
   "source": [
    "As mentioned earlier, column names are different in happy_2016 and happy_2017. All column names must align on both datasets to perform data checking. After checking the data type, there is no casting required for this data frame."
   ]
  },
  {
   "cell_type": "code",
   "execution_count": 9,
   "metadata": {},
   "outputs": [],
   "source": [
    "#rename happy_2016 column names\n",
    "#This transformation take care of space and bracket\n",
    "happy_2016 = happy_2016.rename(\n",
    "    columns={'Happiness Rank': 'Happiness_Rank', \n",
    "             'Happiness Score': 'Happiness_Score', \n",
    "             'Lower Confidence Interval': 'Lower_Confidence_Interval', \n",
    "             'Upper Confidence Interval': 'Upper_Confidence_Interval',\n",
    "             'Economy (GDP per Capita)': 'Economy_GDP_per_Capita', \n",
    "             'Health (Life Expectancy)': 'Health_Life Expectancy', \n",
    "             'Trust (Government Corruption)': 'Trust_Government_Corruption', \n",
    "             'Dystopia Residual': 'Dystopia_Residual'})"
   ]
  },
  {
   "cell_type": "code",
   "execution_count": 10,
   "metadata": {},
   "outputs": [
    {
     "data": {
      "text/plain": [
       "Index(['Country', 'Region', 'Happiness_Rank', 'Happiness_Score',\n",
       "       'Lower_Confidence_Interval', 'Upper_Confidence_Interval',\n",
       "       'Economy_GDP_per_Capita', 'Family', 'Health_Life Expectancy', 'Freedom',\n",
       "       'Trust_Government_Corruption', 'Generosity', 'Dystopia_Residual'],\n",
       "      dtype='object')"
      ]
     },
     "execution_count": 10,
     "metadata": {},
     "output_type": "execute_result"
    }
   ],
   "source": [
    "#Validate the results\n",
    "happy_2016.columns"
   ]
  },
  {
   "cell_type": "markdown",
   "metadata": {},
   "source": [
    "## Happy 2017 Dataframe<a id='happy-2017'></a>"
   ]
  },
  {
   "cell_type": "markdown",
   "metadata": {},
   "source": [
    "Let's look into the Happy 2017 Dataframe in detail, starting with a data type check on all columns."
   ]
  },
  {
   "cell_type": "code",
   "execution_count": 11,
   "metadata": {},
   "outputs": [
    {
     "data": {
      "text/plain": [
       "Country                           object\n",
       "Happiness.Rank                     int64\n",
       "Happiness.Score                  float64\n",
       "Whisker.high                     float64\n",
       "Whisker.low                      float64\n",
       "Economy..GDP.per.Capita.         float64\n",
       "Family                           float64\n",
       "Health..Life.Expectancy.         float64\n",
       "Freedom                          float64\n",
       "Generosity                       float64\n",
       "Trust..Government.Corruption.    float64\n",
       "Dystopia.Residual                float64\n",
       "dtype: object"
      ]
     },
     "execution_count": 11,
     "metadata": {},
     "output_type": "execute_result"
    }
   ],
   "source": [
    "#Check Data type in Happy_2017 data frame\n",
    "happy_2017.dtypes"
   ]
  },
  {
   "cell_type": "markdown",
   "metadata": {},
   "source": [
    "After checking the data type, there is no casting required for this data frame."
   ]
  },
  {
   "cell_type": "markdown",
   "metadata": {},
   "source": [
    "### Rename Key Column<a id='rename_col_2017'></a>"
   ]
  },
  {
   "cell_type": "markdown",
   "metadata": {},
   "source": [
    "Similar to the previous session, the year_2017 dataset almost requires data cleansing on column names."
   ]
  },
  {
   "cell_type": "code",
   "execution_count": 12,
   "metadata": {},
   "outputs": [],
   "source": [
    "#rename happy_2017 column names\n",
    "#This transformation take care of space and bracket\n",
    "happy_2017 = happy_2017.rename(\n",
    "    columns={'Happiness.Rank': 'Happiness_Rank', \n",
    "             'Happiness.Score': 'Happiness_Score', \n",
    "             'Whisker.low': 'Lower_Confidence_Interval', \n",
    "             'Whisker.high': 'Upper_Confidence_Interval',\n",
    "             'Economy..GDP.per.Capita.': 'Economy_GDP_per_Capita', \n",
    "             'Health..Life.Expectancy.': 'Health_Life Expectancy', \n",
    "             'Trust..Government.Corruption.': 'Trust_Government_Corruption', \n",
    "             'Dystopia.Residual': 'Dystopia_Residual'})"
   ]
  },
  {
   "cell_type": "code",
   "execution_count": 13,
   "metadata": {},
   "outputs": [
    {
     "data": {
      "text/plain": [
       "Index(['Country', 'Happiness_Rank', 'Happiness_Score',\n",
       "       'Upper_Confidence_Interval', 'Lower_Confidence_Interval',\n",
       "       'Economy_GDP_per_Capita', 'Family', 'Health_Life Expectancy', 'Freedom',\n",
       "       'Generosity', 'Trust_Government_Corruption', 'Dystopia_Residual'],\n",
       "      dtype='object')"
      ]
     },
     "execution_count": 13,
     "metadata": {},
     "output_type": "execute_result"
    }
   ],
   "source": [
    "#double check result\n",
    "happy_2017.columns"
   ]
  },
  {
   "cell_type": "markdown",
   "metadata": {},
   "source": [
    "### Align country name  <a id='col_2017'></a>"
   ]
  },
  {
   "cell_type": "markdown",
   "metadata": {},
   "source": [
    "There are value different on Country in year 2016 and 2017, by using the diff functions. We found.\n",
    "- Hong Kong\n",
    "- Taiwan"
   ]
  },
  {
   "cell_type": "code",
   "execution_count": 14,
   "metadata": {},
   "outputs": [
    {
     "data": {
      "text/plain": [
       "{'Comoros',\n",
       " 'Hong Kong',\n",
       " 'Laos',\n",
       " 'Puerto Rico',\n",
       " 'Somaliland Region',\n",
       " 'Suriname',\n",
       " 'Taiwan'}"
      ]
     },
     "execution_count": 14,
     "metadata": {},
     "output_type": "execute_result"
    }
   ],
   "source": [
    "#locate the difference of Country between happy_2016 and happy_2017\n",
    "set(happy_2016['Country'].unique())-set(happy_2017['Country'].unique())"
   ]
  },
  {
   "cell_type": "code",
   "execution_count": 15,
   "metadata": {},
   "outputs": [
    {
     "data": {
      "text/plain": [
       "{'Central African Republic',\n",
       " 'Hong Kong S.A.R., China',\n",
       " 'Lesotho',\n",
       " 'Mozambique',\n",
       " 'Taiwan Province of China'}"
      ]
     },
     "execution_count": 15,
     "metadata": {},
     "output_type": "execute_result"
    }
   ],
   "source": [
    "#locate the difference of Country between happy_2017 and happy_2016\n",
    "set(happy_2017['Country'].unique())-set(happy_2016['Country'].unique())"
   ]
  },
  {
   "cell_type": "code",
   "execution_count": 16,
   "metadata": {},
   "outputs": [
    {
     "name": "stderr",
     "output_type": "stream",
     "text": [
      "<ipython-input-16-81b6ba741fc7>:2: SettingWithCopyWarning: \n",
      "A value is trying to be set on a copy of a slice from a DataFrame\n",
      "\n",
      "See the caveats in the documentation: https://pandas.pydata.org/pandas-docs/stable/user_guide/indexing.html#returning-a-view-versus-a-copy\n",
      "  happy_2017['Country'][happy_2017['Country'] == 'Taiwan Province of China']  = 'Taiwan'\n",
      "<ipython-input-16-81b6ba741fc7>:3: SettingWithCopyWarning: \n",
      "A value is trying to be set on a copy of a slice from a DataFrame\n",
      "\n",
      "See the caveats in the documentation: https://pandas.pydata.org/pandas-docs/stable/user_guide/indexing.html#returning-a-view-versus-a-copy\n",
      "  happy_2017['Country'][happy_2017['Country'] == 'Hong Kong S.A.R., China']  = 'Hong Kong'\n"
     ]
    }
   ],
   "source": [
    "#rename the Country names which should be matched\n",
    "happy_2017['Country'][happy_2017['Country'] == 'Taiwan Province of China']  = 'Taiwan'\n",
    "happy_2017['Country'][happy_2017['Country'] == 'Hong Kong S.A.R., China']  = 'Hong Kong'"
   ]
  },
  {
   "cell_type": "code",
   "execution_count": 17,
   "metadata": {},
   "outputs": [
    {
     "data": {
      "text/plain": [
       "{'Central African Republic', 'Lesotho', 'Mozambique'}"
      ]
     },
     "execution_count": 17,
     "metadata": {},
     "output_type": "execute_result"
    }
   ],
   "source": [
    "#check the renaming result\n",
    "set(happy_2017['Country'].unique())-set(happy_2016['Country'].unique())"
   ]
  },
  {
   "cell_type": "markdown",
   "metadata": {},
   "source": [
    "## Athletes Dataframe<a id='athletes'></a>"
   ]
  },
  {
   "cell_type": "markdown",
   "metadata": {},
   "source": [
    "Examine the Athlete table and check on its columns."
   ]
  },
  {
   "cell_type": "code",
   "execution_count": 18,
   "metadata": {
    "scrolled": true
   },
   "outputs": [
    {
     "data": {
      "text/plain": [
       "id               int64\n",
       "name            object\n",
       "nationality     object\n",
       "sex             object\n",
       "dob             object\n",
       "height         float64\n",
       "weight         float64\n",
       "sport           object\n",
       "gold             int64\n",
       "silver           int64\n",
       "bronze           int64\n",
       "dtype: object"
      ]
     },
     "execution_count": 18,
     "metadata": {},
     "output_type": "execute_result"
    }
   ],
   "source": [
    "#Check Data type in Happy_2016 data frame\n",
    "athletes.dtypes"
   ]
  },
  {
   "cell_type": "markdown",
   "metadata": {},
   "source": [
    "### Data Selection<a id='select_athletes'></a>"
   ]
  },
  {
   "cell_type": "markdown",
   "metadata": {},
   "source": [
    "For our analysis purpose, we only focus on several dataset columns. We create a subset of data with Nationality, gold, silver, bronze for analysis usage."
   ]
  },
  {
   "cell_type": "code",
   "execution_count": 19,
   "metadata": {},
   "outputs": [],
   "source": [
    "#Create subset of dataframe athlete1 which only contains 4 columns below\n",
    "athletes1 = athletes[[\"nationality\",\"gold\",\"silver\",\"bronze\"]]"
   ]
  },
  {
   "cell_type": "markdown",
   "metadata": {},
   "source": [
    "### Create Medal Count for analysis purpose<a id='create_col_athletes'></a>"
   ]
  },
  {
   "cell_type": "markdown",
   "metadata": {},
   "source": [
    "Since our analysis is on the country level, athlete tables contain multiple records per nationality; we provide a grouping by nationality and medal count for further analysis."
   ]
  },
  {
   "cell_type": "code",
   "execution_count": 20,
   "metadata": {},
   "outputs": [],
   "source": [
    "#Create medals counts from athletes1 dataframe with group up nationality\n",
    "medals = athletes1.groupby(by='nationality', axis=0, as_index=False).sum()\n",
    "\n",
    "#Create new series as total medal onto the medals dataset\n",
    "medals['total_medals'] = medals['gold'] + medals['silver'] + medals['bronze']"
   ]
  },
  {
   "cell_type": "code",
   "execution_count": 21,
   "metadata": {},
   "outputs": [
    {
     "data": {
      "text/html": [
       "<div>\n",
       "<style scoped>\n",
       "    .dataframe tbody tr th:only-of-type {\n",
       "        vertical-align: middle;\n",
       "    }\n",
       "\n",
       "    .dataframe tbody tr th {\n",
       "        vertical-align: top;\n",
       "    }\n",
       "\n",
       "    .dataframe thead th {\n",
       "        text-align: right;\n",
       "    }\n",
       "</style>\n",
       "<table border=\"1\" class=\"dataframe\">\n",
       "  <thead>\n",
       "    <tr style=\"text-align: right;\">\n",
       "      <th></th>\n",
       "      <th>nationality</th>\n",
       "      <th>gold</th>\n",
       "      <th>silver</th>\n",
       "      <th>bronze</th>\n",
       "      <th>total_medals</th>\n",
       "    </tr>\n",
       "  </thead>\n",
       "  <tbody>\n",
       "    <tr>\n",
       "      <th>0</th>\n",
       "      <td>AFG</td>\n",
       "      <td>0</td>\n",
       "      <td>0</td>\n",
       "      <td>0</td>\n",
       "      <td>0</td>\n",
       "    </tr>\n",
       "    <tr>\n",
       "      <th>1</th>\n",
       "      <td>ALB</td>\n",
       "      <td>0</td>\n",
       "      <td>0</td>\n",
       "      <td>0</td>\n",
       "      <td>0</td>\n",
       "    </tr>\n",
       "    <tr>\n",
       "      <th>2</th>\n",
       "      <td>ALG</td>\n",
       "      <td>0</td>\n",
       "      <td>2</td>\n",
       "      <td>0</td>\n",
       "      <td>2</td>\n",
       "    </tr>\n",
       "    <tr>\n",
       "      <th>3</th>\n",
       "      <td>AND</td>\n",
       "      <td>0</td>\n",
       "      <td>0</td>\n",
       "      <td>0</td>\n",
       "      <td>0</td>\n",
       "    </tr>\n",
       "    <tr>\n",
       "      <th>4</th>\n",
       "      <td>ANG</td>\n",
       "      <td>0</td>\n",
       "      <td>0</td>\n",
       "      <td>0</td>\n",
       "      <td>0</td>\n",
       "    </tr>\n",
       "  </tbody>\n",
       "</table>\n",
       "</div>"
      ],
      "text/plain": [
       "  nationality  gold  silver  bronze  total_medals\n",
       "0         AFG     0       0       0             0\n",
       "1         ALB     0       0       0             0\n",
       "2         ALG     0       2       0             2\n",
       "3         AND     0       0       0             0\n",
       "4         ANG     0       0       0             0"
      ]
     },
     "execution_count": 21,
     "metadata": {},
     "output_type": "execute_result"
    }
   ],
   "source": [
    "#Check Medal table after transformation\n",
    "medals.head()"
   ]
  },
  {
   "cell_type": "markdown",
   "metadata": {},
   "source": [
    "## Countries Dataframe<a id='countries'></a>"
   ]
  },
  {
   "cell_type": "code",
   "execution_count": 22,
   "metadata": {},
   "outputs": [
    {
     "data": {
      "text/plain": [
       "country            object\n",
       "code               object\n",
       "population        float64\n",
       "gdp_per_capita    float64\n",
       "dtype: object"
      ]
     },
     "execution_count": 22,
     "metadata": {},
     "output_type": "execute_result"
    }
   ],
   "source": [
    "#Check on the countries data type\n",
    "countries.dtypes"
   ]
  },
  {
   "cell_type": "markdown",
   "metadata": {},
   "source": [
    "### Sync nationality between Country and Medals <a id='sync_national'></a>"
   ]
  },
  {
   "cell_type": "code",
   "execution_count": 23,
   "metadata": {},
   "outputs": [
    {
     "data": {
      "text/plain": [
       "{'IOA', 'KIR', 'KOS', 'MHL', 'MNE', 'ROT', 'ROU', 'SRB', 'SSD', 'TTO', 'TUV'}"
      ]
     },
     "execution_count": 23,
     "metadata": {},
     "output_type": "execute_result"
    }
   ],
   "source": [
    "#find out if there is any unmatch nationality and country between medals and countries\n",
    "set(medals['nationality'].unique())-set(countries['code'].unique())"
   ]
  },
  {
   "cell_type": "code",
   "execution_count": 24,
   "metadata": {},
   "outputs": [
    {
     "data": {
      "text/plain": [
       "{'AHO', 'KUW', 'ROM', 'SCG', 'TRI'}"
      ]
     },
     "execution_count": 24,
     "metadata": {},
     "output_type": "execute_result"
    }
   ],
   "source": [
    "#find out if there is any unmatch nationality and country between countries and medals\n",
    "set(countries['code'].unique())-set(medals['nationality'].unique())"
   ]
  },
  {
   "cell_type": "code",
   "execution_count": 25,
   "metadata": {},
   "outputs": [],
   "source": [
    "extra_countries1 = {'country': 'Independent Olympic Athletes', 'code':'IOA' }\n",
    "extra_countries2 = {'country': 'Kiribati', 'code':'KIR' }\n",
    "extra_countries3 = {'country': 'Kosovo', 'code':'KOS' }\n",
    "extra_countries4 = {'country': 'Marshall Islands', 'code':'MHL' }\n",
    "extra_countries5 = {'country': 'Montenegro', 'code':'MNE' }\n",
    "extra_countries6 = {'country': 'Refugee Olympic Team', 'code':'ROT' }\n",
    "extra_countries7 = {'country': 'Romania', 'code':'ROU' }\n",
    "extra_countries8 = {'country': 'Serbia', 'code':'SRB' }\n",
    "extra_countries9 = {'country': 'South Sudan', 'code':'SSD' }\n",
    "extra_countries10 = {'country': 'Trinidad and Tobago', 'code':'TTO' }\n",
    "extra_countries11 = {'country': 'Tuvalu', 'code':'TUV' }\n",
    "\n",
    "countries = countries.append(extra_countries1, ignore_index=True)\n",
    "countries = countries.append(extra_countries2, ignore_index=True)\n",
    "countries = countries.append(extra_countries3, ignore_index=True)\n",
    "countries = countries.append(extra_countries4, ignore_index=True)\n",
    "countries = countries.append(extra_countries5, ignore_index=True)\n",
    "countries = countries.append(extra_countries6, ignore_index=True)\n",
    "countries = countries.append(extra_countries7, ignore_index=True)\n",
    "countries = countries.append(extra_countries8, ignore_index=True)\n",
    "countries = countries.append(extra_countries9, ignore_index=True)\n",
    "countries = countries.append(extra_countries10, ignore_index=True)\n",
    "countries = countries.append(extra_countries11, ignore_index=True)"
   ]
  },
  {
   "cell_type": "code",
   "execution_count": 26,
   "metadata": {},
   "outputs": [
    {
     "data": {
      "text/plain": [
       "212"
      ]
     },
     "execution_count": 26,
     "metadata": {},
     "output_type": "execute_result"
    }
   ],
   "source": [
    "#check if the countries table is updated\n",
    "len(countries)"
   ]
  },
  {
   "cell_type": "code",
   "execution_count": 27,
   "metadata": {},
   "outputs": [
    {
     "data": {
      "text/html": [
       "<div>\n",
       "<style scoped>\n",
       "    .dataframe tbody tr th:only-of-type {\n",
       "        vertical-align: middle;\n",
       "    }\n",
       "\n",
       "    .dataframe tbody tr th {\n",
       "        vertical-align: top;\n",
       "    }\n",
       "\n",
       "    .dataframe thead th {\n",
       "        text-align: right;\n",
       "    }\n",
       "</style>\n",
       "<table border=\"1\" class=\"dataframe\">\n",
       "  <thead>\n",
       "    <tr style=\"text-align: right;\">\n",
       "      <th></th>\n",
       "      <th>country</th>\n",
       "      <th>code</th>\n",
       "      <th>population</th>\n",
       "      <th>gdp_per_capita</th>\n",
       "    </tr>\n",
       "  </thead>\n",
       "  <tbody>\n",
       "    <tr>\n",
       "      <th>201</th>\n",
       "      <td>Independent Olympic Athletes</td>\n",
       "      <td>IOA</td>\n",
       "      <td>NaN</td>\n",
       "      <td>NaN</td>\n",
       "    </tr>\n",
       "    <tr>\n",
       "      <th>202</th>\n",
       "      <td>Kiribati</td>\n",
       "      <td>KIR</td>\n",
       "      <td>NaN</td>\n",
       "      <td>NaN</td>\n",
       "    </tr>\n",
       "    <tr>\n",
       "      <th>203</th>\n",
       "      <td>Kosovo</td>\n",
       "      <td>KOS</td>\n",
       "      <td>NaN</td>\n",
       "      <td>NaN</td>\n",
       "    </tr>\n",
       "    <tr>\n",
       "      <th>204</th>\n",
       "      <td>Marshall Islands</td>\n",
       "      <td>MHL</td>\n",
       "      <td>NaN</td>\n",
       "      <td>NaN</td>\n",
       "    </tr>\n",
       "    <tr>\n",
       "      <th>205</th>\n",
       "      <td>Montenegro</td>\n",
       "      <td>MNE</td>\n",
       "      <td>NaN</td>\n",
       "      <td>NaN</td>\n",
       "    </tr>\n",
       "    <tr>\n",
       "      <th>206</th>\n",
       "      <td>Refugee Olympic Team</td>\n",
       "      <td>ROT</td>\n",
       "      <td>NaN</td>\n",
       "      <td>NaN</td>\n",
       "    </tr>\n",
       "    <tr>\n",
       "      <th>207</th>\n",
       "      <td>Romania</td>\n",
       "      <td>ROU</td>\n",
       "      <td>NaN</td>\n",
       "      <td>NaN</td>\n",
       "    </tr>\n",
       "    <tr>\n",
       "      <th>208</th>\n",
       "      <td>Serbia</td>\n",
       "      <td>SRB</td>\n",
       "      <td>NaN</td>\n",
       "      <td>NaN</td>\n",
       "    </tr>\n",
       "    <tr>\n",
       "      <th>209</th>\n",
       "      <td>South Sudan</td>\n",
       "      <td>SSD</td>\n",
       "      <td>NaN</td>\n",
       "      <td>NaN</td>\n",
       "    </tr>\n",
       "    <tr>\n",
       "      <th>210</th>\n",
       "      <td>Trinidad and Tobago</td>\n",
       "      <td>TTO</td>\n",
       "      <td>NaN</td>\n",
       "      <td>NaN</td>\n",
       "    </tr>\n",
       "    <tr>\n",
       "      <th>211</th>\n",
       "      <td>Tuvalu</td>\n",
       "      <td>TUV</td>\n",
       "      <td>NaN</td>\n",
       "      <td>NaN</td>\n",
       "    </tr>\n",
       "  </tbody>\n",
       "</table>\n",
       "</div>"
      ],
      "text/plain": [
       "                          country code  population  gdp_per_capita\n",
       "201  Independent Olympic Athletes  IOA         NaN             NaN\n",
       "202                      Kiribati  KIR         NaN             NaN\n",
       "203                        Kosovo  KOS         NaN             NaN\n",
       "204              Marshall Islands  MHL         NaN             NaN\n",
       "205                    Montenegro  MNE         NaN             NaN\n",
       "206          Refugee Olympic Team  ROT         NaN             NaN\n",
       "207                       Romania  ROU         NaN             NaN\n",
       "208                        Serbia  SRB         NaN             NaN\n",
       "209                   South Sudan  SSD         NaN             NaN\n",
       "210           Trinidad and Tobago  TTO         NaN             NaN\n",
       "211                        Tuvalu  TUV         NaN             NaN"
      ]
     },
     "execution_count": 27,
     "metadata": {},
     "output_type": "execute_result"
    }
   ],
   "source": [
    "#double check the update of nationality \n",
    "countries[countries[\"code\"].str.\n",
    "          contains(\"IOA|KIR|KOS|MHL|MNE|ROT|ROU|SRB|SSD|TTO|TUV\")]"
   ]
  },
  {
   "cell_type": "markdown",
   "metadata": {},
   "source": [
    "***"
   ]
  },
  {
   "cell_type": "markdown",
   "metadata": {},
   "source": [
    "# COMBINE THE DATASETS<a id='combine'></a>"
   ]
  },
  {
   "cell_type": "markdown",
   "metadata": {},
   "source": [
    "Finally, we can now manipulate the data frame above and turn them into meaningful datasets. Before starting the merge, let's quickly visualize the number of rows in each cleaned dataset, which can help us decide which join strategies (left, right, inner, or outer).\n",
    "\n",
    "To perform correlation, here have three datasets required as below: \n",
    "- Blend two sets of happiness data together - happy_2016 + happy_2017\n",
    "- Join Olympic Game tables into one data frame - countries + medals (aggregated from athletes)\n",
    "- Combine the above two tables for correlation analysis\n",
    "\n",
    "We will discuss these steps one by one."
   ]
  },
  {
   "cell_type": "markdown",
   "metadata": {},
   "source": [
    "## 1.Combine dataset - happiness data <a id='combine_happy'></a>"
   ]
  },
  {
   "cell_type": "markdown",
   "metadata": {},
   "source": [
    "After cleaning the happiness data, we could first check for the row count of the key (country) from both tables."
   ]
  },
  {
   "cell_type": "code",
   "execution_count": 28,
   "metadata": {},
   "outputs": [
    {
     "data": {
      "image/png": "[encoded data removed]",
      "text/plain": [
       "<Figure size 432x288 with 1 Axes>"
      ]
     },
     "metadata": {
      "needs_background": "light"
     },
     "output_type": "display_data"
    }
   ],
   "source": [
    "table = ['Happy 2016','Happy 2017']\n",
    "unique_key = [happy_2016['Country'].nunique(),happy_2017['Country'].nunique()]\n",
    "plots = sns.barplot(x=table, y=unique_key)\n",
    "for bar in plots.patches:\n",
    "    plots.annotate(bar.get_height(),\n",
    "                   (bar.get_x() + bar.get_width() / 2,\n",
    "                    bar.get_height()), ha='center', va='center',\n",
    "                   size=14, xytext=(0, -10),\n",
    "                   textcoords='offset points')\n",
    "plt.xlabel(\"Tables\", size=12)\n",
    "plt.ylabel(\"Unique Key Count\", size=12)\n",
    "plt.title(\"Unique Key Count in Happiness Tables\", size=18)\n",
    "plt.show()"
   ]
  },
  {
   "cell_type": "markdown",
   "metadata": {},
   "source": [
    "The critical value count on both tables is unmatched. We could take a closer look at the unmatched value before merging them."
   ]
  },
  {
   "cell_type": "code",
   "execution_count": 29,
   "metadata": {},
   "outputs": [
    {
     "data": {
      "text/plain": [
       "{'Comoros', 'Laos', 'Puerto Rico', 'Somaliland Region', 'Suriname'}"
      ]
     },
     "execution_count": 29,
     "metadata": {},
     "output_type": "execute_result"
    }
   ],
   "source": [
    "set(happy_2016['Country'].unique())-set(happy_2017['Country'].unique())"
   ]
  },
  {
   "cell_type": "code",
   "execution_count": 30,
   "metadata": {},
   "outputs": [
    {
     "data": {
      "text/plain": [
       "{'Central African Republic', 'Lesotho', 'Mozambique'}"
      ]
     },
     "execution_count": 30,
     "metadata": {},
     "output_type": "execute_result"
    }
   ],
   "source": [
    "set(happy_2017['Country'].unique())-set(happy_2016['Country'].unique())"
   ]
  },
  {
   "cell_type": "markdown",
   "metadata": {},
   "source": [
    "From the result above, we notice that both tables have unmatched countries. The odd columns are around __5% of the total row counts__. We would decide to keep all data first to try to match the Olympic Game data in a later stage. Therefore, we will merge the happiness data \"happy_2016\" and \"happy_2017\" into \"happy_compare_clean\" by using outer join to keep all the data first."
   ]
  },
  {
   "cell_type": "code",
   "execution_count": 80,
   "metadata": {},
   "outputs": [
    {
     "data": {
      "text/plain": [
       "0"
      ]
     },
     "execution_count": 80,
     "metadata": {},
     "output_type": "execute_result"
    }
   ],
   "source": [
    "happy_compare_clean = pd.merge(happy_2016, happy_2017, \n",
    "                               how='outer', on='Country', \n",
    "                               suffixes=('_2016', '_2017'))\n",
    "##check any duplicated rows\n",
    "len(happy_compare_clean) - happy_compare_clean['Country'].nunique()"
   ]
  },
  {
   "cell_type": "markdown",
   "metadata": {},
   "source": [
    "***"
   ]
  },
  {
   "cell_type": "markdown",
   "metadata": {},
   "source": [
    "## 2. Combine dataset - Olympic Game data<a id='combine_olympic'></a>"
   ]
  },
  {
   "cell_type": "markdown",
   "metadata": {},
   "source": [
    "There are two tables source from Olympic Game,  \"athletes\" and \"countries\". From the cleaning process, we aggregated the \"athletes\" data into \"medals\", so we would try to combine the \"medals\" and \"countries\" tables.\n",
    "\n",
    "First of all, we should define the key in both tables. In this case, the key is that two tables are not in the same name. The key of the two tables are as follow:\n",
    "- Medals table -> nationality\n",
    "- Countries table -> code"
   ]
  },
  {
   "cell_type": "code",
   "execution_count": 32,
   "metadata": {},
   "outputs": [
    {
     "data": {
      "image/png": "[encoded data removed]",
      "text/plain": [
       "<Figure size 432x288 with 1 Axes>"
      ]
     },
     "metadata": {
      "needs_background": "light"
     },
     "output_type": "display_data"
    }
   ],
   "source": [
    "table = ['Medals','Countries']\n",
    "unique_key = [medals['nationality'].nunique(),countries['code'].nunique()]\n",
    "plots = sns.barplot(x=table, y=unique_key)\n",
    "for bar in plots.patches:\n",
    "    plots.annotate(bar.get_height(),\n",
    "                   (bar.get_x() + bar.get_width() / 2,\n",
    "                    bar.get_height()), ha='center', va='center',\n",
    "                   size=14, xytext=(0, -10),\n",
    "                   textcoords='offset points')\n",
    "plt.xlabel(\"Tables\", size=12)\n",
    "plt.ylabel(\"Unique Key Count\", size=12)\n",
    "plt.title(\"Unique Key Count in Olympic Game Tables\", size=18)\n",
    "plt.show()"
   ]
  },
  {
   "cell_type": "markdown",
   "metadata": {},
   "source": [
    "The critical value count of both tables are unmatched, and we could take a closer look before merging them."
   ]
  },
  {
   "cell_type": "code",
   "execution_count": 33,
   "metadata": {},
   "outputs": [
    {
     "data": {
      "text/plain": [
       "set()"
      ]
     },
     "execution_count": 33,
     "metadata": {},
     "output_type": "execute_result"
    }
   ],
   "source": [
    "set(medals['nationality'].unique())-set(countries['code'].unique())"
   ]
  },
  {
   "cell_type": "code",
   "execution_count": 34,
   "metadata": {},
   "outputs": [
    {
     "data": {
      "text/plain": [
       "{'AHO', 'KUW', 'ROM', 'SCG', 'TRI'}"
      ]
     },
     "execution_count": 34,
     "metadata": {},
     "output_type": "execute_result"
    }
   ],
   "source": [
    "set(countries['code'].unique())-set(medals['nationality'].unique())"
   ]
  },
  {
   "cell_type": "markdown",
   "metadata": {},
   "source": [
    "From the result of the above checking, we notice that there is unmatched countries appearted in countries table. The odd columns are around __2% of the total row counts__. However, we would only consider the countries with medals. The countries are not appearing on the medals table can be ignored. Therefore, we will merge the Olympic data \"medals\" and \"countries\" into \"Olympic\" by using left join to keep all the medal related data first."
   ]
  },
  {
   "cell_type": "code",
   "execution_count": 35,
   "metadata": {},
   "outputs": [
    {
     "data": {
      "text/plain": [
       "0"
      ]
     },
     "execution_count": 35,
     "metadata": {},
     "output_type": "execute_result"
    }
   ],
   "source": [
    "olympic = pd.merge(medals, countries, how='left', \n",
    "                   left_on='nationality', right_on='code')\n",
    "##check any duplicated rows\n",
    "len(olympic) - olympic['nationality'].nunique()"
   ]
  },
  {
   "cell_type": "markdown",
   "metadata": {},
   "source": [
    "***"
   ]
  },
  {
   "cell_type": "markdown",
   "metadata": {},
   "source": [
    "### 3. Combine dataset - Happiness Clean and Olympic Clean <a id='combine_happy_olymic'></a>"
   ]
  },
  {
   "cell_type": "markdown",
   "metadata": {},
   "source": [
    "We combine the previous two clean datasets into a single dataset for analysis and correlation check. Let's check on the value count on both data set, and we are using the country value for mapping purposes."
   ]
  },
  {
   "cell_type": "code",
   "execution_count": 36,
   "metadata": {},
   "outputs": [
    {
     "data": {
      "image/png": "[encoded data removed]",
      "text/plain": [
       "<Figure size 432x288 with 1 Axes>"
      ]
     },
     "metadata": {
      "needs_background": "light"
     },
     "output_type": "display_data"
    }
   ],
   "source": [
    "table = ['Olympic','Happy Compare Clean']\n",
    "unique_key = [olympic['country'].nunique(),happy_compare_clean['Country'].nunique()]\n",
    "plots = sns.barplot(x=table, y=unique_key)\n",
    "for bar in plots.patches:\n",
    "    plots.annotate(bar.get_height(),\n",
    "                   (bar.get_x() + bar.get_width() / 2,\n",
    "                    bar.get_height()), ha='center', va='center',\n",
    "                   size=14, xytext=(0, -10),\n",
    "                   textcoords='offset points')\n",
    "plt.xlabel(\"Tables\", size=12)\n",
    "plt.ylabel(\"Unique Key Count\", size=12)\n",
    "plt.title(\"Unique Key Count in two Dataset\", size=18)\n",
    "plt.show()"
   ]
  },
  {
   "cell_type": "markdown",
   "metadata": {},
   "source": [
    "The critical value count of both tables are mismatched, and let investigate before further actions."
   ]
  },
  {
   "cell_type": "code",
   "execution_count": 37,
   "metadata": {
    "scrolled": true
   },
   "outputs": [
    {
     "data": {
      "text/plain": [
       "{'American Samoa*',\n",
       " 'Andorra',\n",
       " 'Antigua and Barbuda',\n",
       " 'Aruba*',\n",
       " 'Bahamas',\n",
       " 'Barbados',\n",
       " 'Bermuda*',\n",
       " 'British Virgin Islands',\n",
       " 'Brunei',\n",
       " 'Burma',\n",
       " 'Cape Verde',\n",
       " 'Cayman Islands*',\n",
       " 'Congo',\n",
       " 'Congo, Dem Rep',\n",
       " 'Cook Islands',\n",
       " \"Cote d'Ivoire\",\n",
       " 'Cuba',\n",
       " 'Djibouti',\n",
       " 'Dominica',\n",
       " 'East Timor (Timor-Leste)',\n",
       " 'Equatorial Guinea',\n",
       " 'Eritrea',\n",
       " 'Fiji',\n",
       " 'Gambia',\n",
       " 'Grenada',\n",
       " 'Guam',\n",
       " 'Guinea-Bissau',\n",
       " 'Guyana',\n",
       " 'Hong Kong*',\n",
       " 'Independent Olympic Athletes',\n",
       " 'Kiribati',\n",
       " 'Korea, North',\n",
       " 'Korea, South',\n",
       " 'Liechtenstein',\n",
       " 'Maldives',\n",
       " 'Marshall Islands',\n",
       " 'Micronesia',\n",
       " 'Monaco',\n",
       " 'Nauru',\n",
       " 'Oman',\n",
       " 'Palau',\n",
       " 'Palestine, Occupied Territories',\n",
       " 'Papua New Guinea',\n",
       " 'Puerto Rico*',\n",
       " 'Refugee Olympic Team',\n",
       " 'Saint Kitts and Nevis',\n",
       " 'Saint Lucia',\n",
       " 'Saint Vincent and the Grenadines',\n",
       " 'Samoa',\n",
       " 'San Marino',\n",
       " 'Sao Tome and Principe',\n",
       " 'Seychelles',\n",
       " 'Solomon Islands',\n",
       " 'Swaziland',\n",
       " 'Tonga',\n",
       " 'Tuvalu',\n",
       " 'Vanuatu',\n",
       " 'Virgin Islands*'}"
      ]
     },
     "execution_count": 37,
     "metadata": {},
     "output_type": "execute_result"
    }
   ],
   "source": [
    "set(olympic['country'].unique())-set(happy_compare_clean['Country'].unique())"
   ]
  },
  {
   "cell_type": "code",
   "execution_count": 38,
   "metadata": {},
   "outputs": [
    {
     "data": {
      "text/plain": [
       "{'Congo (Brazzaville)',\n",
       " 'Congo (Kinshasa)',\n",
       " 'Hong Kong',\n",
       " 'Ivory Coast',\n",
       " 'Kuwait',\n",
       " 'Myanmar',\n",
       " 'North Cyprus',\n",
       " 'Palestinian Territories',\n",
       " 'Puerto Rico',\n",
       " 'Somaliland Region',\n",
       " 'South Korea'}"
      ]
     },
     "execution_count": 38,
     "metadata": {},
     "output_type": "execute_result"
    }
   ],
   "source": [
    "set(happy_compare_clean['Country'].unique())-set(olympic['country'].unique())"
   ]
  },
  {
   "cell_type": "markdown",
   "metadata": {},
   "source": [
    "From the result above, we notice that both tables have unmatched countries. The unmatched columns are around __23% of the total row counts__. We need further cleansing before joining two tables."
   ]
  },
  {
   "cell_type": "markdown",
   "metadata": {},
   "source": [
    "### Data cleansing before correlation"
   ]
  },
  {
   "cell_type": "markdown",
   "metadata": {},
   "source": [
    "After the investigation, some country names do not match on both datasets; for instance, Congo is used in Olympic while happiness uses Congo(Brazzaville). We will perform another data cleansing before combining these datasets.\n",
    "\n",
    "List of unmatch country that should be match:\n",
    "- 'Congo' in olympic Congo(Brazzaville) in happy_compare_clean\n",
    "- 'Congo, Dem Rep' in olympic vs Congo(Kinshasa) in happy_compare_clean\n",
    "- Hong Kong* in olympic vs Hong Kong in happy_compare_clean\n",
    "- Puerto Rico* in olympic vs Puerto Rico in happy_compare_clean\n",
    "- Korea, South in olympic vs South Korea in happy_compare_clean"
   ]
  },
  {
   "cell_type": "markdown",
   "metadata": {},
   "source": [
    "1. Update the unmatched countries name"
   ]
  },
  {
   "cell_type": "code",
   "execution_count": 39,
   "metadata": {},
   "outputs": [
    {
     "name": "stderr",
     "output_type": "stream",
     "text": [
      "<ipython-input-39-18ef0f027dd1>:2: SettingWithCopyWarning: \n",
      "A value is trying to be set on a copy of a slice from a DataFrame\n",
      "\n",
      "See the caveats in the documentation: https://pandas.pydata.org/pandas-docs/stable/user_guide/indexing.html#returning-a-view-versus-a-copy\n",
      "  olympic['country'][olympic['country'] == 'Congo']  = 'Congo (Brazzaville)'\n",
      "<ipython-input-39-18ef0f027dd1>:3: SettingWithCopyWarning: \n",
      "A value is trying to be set on a copy of a slice from a DataFrame\n",
      "\n",
      "See the caveats in the documentation: https://pandas.pydata.org/pandas-docs/stable/user_guide/indexing.html#returning-a-view-versus-a-copy\n",
      "  olympic['country'][olympic['country'] == 'Congo, Dem Rep']  = 'Congo (Kinshasa)'\n",
      "<ipython-input-39-18ef0f027dd1>:5: SettingWithCopyWarning: \n",
      "A value is trying to be set on a copy of a slice from a DataFrame\n",
      "\n",
      "See the caveats in the documentation: https://pandas.pydata.org/pandas-docs/stable/user_guide/indexing.html#returning-a-view-versus-a-copy\n",
      "  olympic['country'][olympic['country'] == 'Korea, South']  = 'South Korea'\n"
     ]
    }
   ],
   "source": [
    "#Update Congo\n",
    "olympic['country'][olympic['country'] == 'Congo']  = 'Congo (Brazzaville)'\n",
    "olympic['country'][olympic['country'] == 'Congo, Dem Rep']  = 'Congo (Kinshasa)'\n",
    "#Korea, South in olympic vs South Korea in happiness_2016\n",
    "olympic['country'][olympic['country'] == 'Korea, South']  = 'South Korea'"
   ]
  },
  {
   "cell_type": "code",
   "execution_count": 40,
   "metadata": {},
   "outputs": [
    {
     "data": {
      "text/html": [
       "<div>\n",
       "<style scoped>\n",
       "    .dataframe tbody tr th:only-of-type {\n",
       "        vertical-align: middle;\n",
       "    }\n",
       "\n",
       "    .dataframe tbody tr th {\n",
       "        vertical-align: top;\n",
       "    }\n",
       "\n",
       "    .dataframe thead th {\n",
       "        text-align: right;\n",
       "    }\n",
       "</style>\n",
       "<table border=\"1\" class=\"dataframe\">\n",
       "  <thead>\n",
       "    <tr style=\"text-align: right;\">\n",
       "      <th></th>\n",
       "      <th>nationality</th>\n",
       "      <th>gold</th>\n",
       "      <th>silver</th>\n",
       "      <th>bronze</th>\n",
       "      <th>total_medals</th>\n",
       "      <th>country</th>\n",
       "      <th>code</th>\n",
       "      <th>population</th>\n",
       "      <th>gdp_per_capita</th>\n",
       "    </tr>\n",
       "  </thead>\n",
       "  <tbody>\n",
       "    <tr>\n",
       "      <th>81</th>\n",
       "      <td>HKG</td>\n",
       "      <td>0</td>\n",
       "      <td>0</td>\n",
       "      <td>0</td>\n",
       "      <td>0</td>\n",
       "      <td>Hong Kong*</td>\n",
       "      <td>HKG</td>\n",
       "      <td>7305700.0</td>\n",
       "      <td>42327.839957</td>\n",
       "    </tr>\n",
       "    <tr>\n",
       "      <th>154</th>\n",
       "      <td>PUR</td>\n",
       "      <td>1</td>\n",
       "      <td>0</td>\n",
       "      <td>0</td>\n",
       "      <td>1</td>\n",
       "      <td>Puerto Rico*</td>\n",
       "      <td>PUR</td>\n",
       "      <td>3474182.0</td>\n",
       "      <td>NaN</td>\n",
       "    </tr>\n",
       "  </tbody>\n",
       "</table>\n",
       "</div>"
      ],
      "text/plain": [
       "    nationality  gold  silver  bronze  total_medals       country code  \\\n",
       "81          HKG     0       0       0             0    Hong Kong*  HKG   \n",
       "154         PUR     1       0       0             1  Puerto Rico*  PUR   \n",
       "\n",
       "     population  gdp_per_capita  \n",
       "81    7305700.0    42327.839957  \n",
       "154   3474182.0             NaN  "
      ]
     },
     "execution_count": 40,
     "metadata": {},
     "output_type": "execute_result"
    }
   ],
   "source": [
    "#Validation check after remove asterisk\n",
    "olympic[olympic[\"country\"].str.\n",
    "          contains(\"Hong Kong|Puerto Rico\")] "
   ]
  },
  {
   "cell_type": "code",
   "execution_count": 41,
   "metadata": {},
   "outputs": [
    {
     "data": {
      "text/html": [
       "<div>\n",
       "<style scoped>\n",
       "    .dataframe tbody tr th:only-of-type {\n",
       "        vertical-align: middle;\n",
       "    }\n",
       "\n",
       "    .dataframe tbody tr th {\n",
       "        vertical-align: top;\n",
       "    }\n",
       "\n",
       "    .dataframe thead th {\n",
       "        text-align: right;\n",
       "    }\n",
       "</style>\n",
       "<table border=\"1\" class=\"dataframe\">\n",
       "  <thead>\n",
       "    <tr style=\"text-align: right;\">\n",
       "      <th></th>\n",
       "      <th>nationality</th>\n",
       "      <th>gold</th>\n",
       "      <th>silver</th>\n",
       "      <th>bronze</th>\n",
       "      <th>total_medals</th>\n",
       "      <th>country</th>\n",
       "      <th>code</th>\n",
       "      <th>population</th>\n",
       "      <th>gdp_per_capita</th>\n",
       "    </tr>\n",
       "  </thead>\n",
       "  <tbody>\n",
       "    <tr>\n",
       "      <th>102</th>\n",
       "      <td>KOR</td>\n",
       "      <td>13</td>\n",
       "      <td>3</td>\n",
       "      <td>10</td>\n",
       "      <td>26</td>\n",
       "      <td>South Korea</td>\n",
       "      <td>KOR</td>\n",
       "      <td>50617045.0</td>\n",
       "      <td>27221.524051</td>\n",
       "    </tr>\n",
       "  </tbody>\n",
       "</table>\n",
       "</div>"
      ],
      "text/plain": [
       "    nationality  gold  silver  bronze  total_medals      country code  \\\n",
       "102         KOR    13       3      10            26  South Korea  KOR   \n",
       "\n",
       "     population  gdp_per_capita  \n",
       "102  50617045.0    27221.524051  "
      ]
     },
     "execution_count": 41,
     "metadata": {},
     "output_type": "execute_result"
    }
   ],
   "source": [
    "# Validation check on South Korea\n",
    "olympic[olympic['country'] == 'South Korea']"
   ]
  },
  {
   "cell_type": "markdown",
   "metadata": {},
   "source": [
    "2. Remove asterisk ('*') from the country name"
   ]
  },
  {
   "cell_type": "code",
   "execution_count": 42,
   "metadata": {},
   "outputs": [],
   "source": [
    "#solve problems of #Hong Kong* in olympic vs Hong Kong in happiness_2016 & \n",
    "#Puerto Rico* in olympic vs Puerto Rico in happiness_2016\n",
    "olympic['country'] = olympic['country'].str.rstrip('*')"
   ]
  },
  {
   "cell_type": "markdown",
   "metadata": {},
   "source": [
    "After further cleaning on the data, we could join the tables together now. As we would like to compare the countries with Happiness data and Olympic together, we choose to use inner join to merge them together to keep the data existing in both tables only. "
   ]
  },
  {
   "cell_type": "code",
   "execution_count": 43,
   "metadata": {},
   "outputs": [
    {
     "data": {
      "text/plain": [
       "0"
      ]
     },
     "execution_count": 43,
     "metadata": {},
     "output_type": "execute_result"
    }
   ],
   "source": [
    "olympic_corr = pd.merge(olympic, happy_compare_clean, how='inner', \n",
    "                        left_on='country', right_on='Country')\n",
    "##check any duplicated rows\n",
    "len(olympic_corr) - olympic_corr['country'].nunique()"
   ]
  },
  {
   "cell_type": "markdown",
   "metadata": {},
   "source": [
    "After all the cleansing, we can now merge both tables into olympic_corr for data analysis.\n",
    "\n",
    "First, check all the column names."
   ]
  },
  {
   "cell_type": "code",
   "execution_count": 44,
   "metadata": {},
   "outputs": [
    {
     "data": {
      "text/plain": [
       "Index(['nationality', 'gold', 'silver', 'bronze', 'total_medals', 'country',\n",
       "       'code', 'population', 'gdp_per_capita', 'Country', 'Region',\n",
       "       'Happiness_Rank_2016', 'Happiness_Score_2016',\n",
       "       'Lower_Confidence_Interval_2016', 'Upper_Confidence_Interval_2016',\n",
       "       'Economy_GDP_per_Capita_2016', 'Family_2016',\n",
       "       'Health_Life Expectancy_2016', 'Freedom_2016',\n",
       "       'Trust_Government_Corruption_2016', 'Generosity_2016',\n",
       "       'Dystopia_Residual_2016', 'Happiness_Rank_2017', 'Happiness_Score_2017',\n",
       "       'Upper_Confidence_Interval_2017', 'Lower_Confidence_Interval_2017',\n",
       "       'Economy_GDP_per_Capita_2017', 'Family_2017',\n",
       "       'Health_Life Expectancy_2017', 'Freedom_2017', 'Generosity_2017',\n",
       "       'Trust_Government_Corruption_2017', 'Dystopia_Residual_2017'],\n",
       "      dtype='object')"
      ]
     },
     "execution_count": 44,
     "metadata": {},
     "output_type": "execute_result"
    }
   ],
   "source": [
    "olympic_corr.columns"
   ]
  },
  {
   "cell_type": "code",
   "execution_count": 45,
   "metadata": {},
   "outputs": [
    {
     "data": {
      "text/plain": [
       "0"
      ]
     },
     "execution_count": 45,
     "metadata": {},
     "output_type": "execute_result"
    }
   ],
   "source": [
    "olympic_corr['Country'].isna().sum()"
   ]
  },
  {
   "cell_type": "code",
   "execution_count": 46,
   "metadata": {},
   "outputs": [
    {
     "data": {
      "text/html": [
       "<div>\n",
       "<style scoped>\n",
       "    .dataframe tbody tr th:only-of-type {\n",
       "        vertical-align: middle;\n",
       "    }\n",
       "\n",
       "    .dataframe tbody tr th {\n",
       "        vertical-align: top;\n",
       "    }\n",
       "\n",
       "    .dataframe thead th {\n",
       "        text-align: right;\n",
       "    }\n",
       "</style>\n",
       "<table border=\"1\" class=\"dataframe\">\n",
       "  <thead>\n",
       "    <tr style=\"text-align: right;\">\n",
       "      <th></th>\n",
       "      <th>nationality</th>\n",
       "      <th>gold</th>\n",
       "      <th>silver</th>\n",
       "      <th>bronze</th>\n",
       "      <th>total_medals</th>\n",
       "      <th>country</th>\n",
       "      <th>code</th>\n",
       "      <th>population</th>\n",
       "      <th>gdp_per_capita</th>\n",
       "    </tr>\n",
       "  </thead>\n",
       "  <tbody>\n",
       "    <tr>\n",
       "      <th>198</th>\n",
       "      <td>USA</td>\n",
       "      <td>139</td>\n",
       "      <td>54</td>\n",
       "      <td>71</td>\n",
       "      <td>264</td>\n",
       "      <td>United States</td>\n",
       "      <td>USA</td>\n",
       "      <td>3.214188e+08</td>\n",
       "      <td>56115.718426</td>\n",
       "    </tr>\n",
       "    <tr>\n",
       "      <th>72</th>\n",
       "      <td>GER</td>\n",
       "      <td>49</td>\n",
       "      <td>44</td>\n",
       "      <td>67</td>\n",
       "      <td>160</td>\n",
       "      <td>Germany</td>\n",
       "      <td>GER</td>\n",
       "      <td>8.141314e+07</td>\n",
       "      <td>41313.313995</td>\n",
       "    </tr>\n",
       "    <tr>\n",
       "      <th>68</th>\n",
       "      <td>GBR</td>\n",
       "      <td>64</td>\n",
       "      <td>55</td>\n",
       "      <td>26</td>\n",
       "      <td>145</td>\n",
       "      <td>United Kingdom</td>\n",
       "      <td>GBR</td>\n",
       "      <td>6.513823e+07</td>\n",
       "      <td>43875.969614</td>\n",
       "    </tr>\n",
       "    <tr>\n",
       "      <th>159</th>\n",
       "      <td>RUS</td>\n",
       "      <td>52</td>\n",
       "      <td>29</td>\n",
       "      <td>34</td>\n",
       "      <td>115</td>\n",
       "      <td>Russia</td>\n",
       "      <td>RUS</td>\n",
       "      <td>1.440968e+08</td>\n",
       "      <td>9092.580536</td>\n",
       "    </tr>\n",
       "    <tr>\n",
       "      <th>38</th>\n",
       "      <td>CHN</td>\n",
       "      <td>46</td>\n",
       "      <td>30</td>\n",
       "      <td>37</td>\n",
       "      <td>113</td>\n",
       "      <td>China</td>\n",
       "      <td>CHN</td>\n",
       "      <td>1.371220e+09</td>\n",
       "      <td>8027.683810</td>\n",
       "    </tr>\n",
       "    <tr>\n",
       "      <th>...</th>\n",
       "      <td>...</td>\n",
       "      <td>...</td>\n",
       "      <td>...</td>\n",
       "      <td>...</td>\n",
       "      <td>...</td>\n",
       "      <td>...</td>\n",
       "      <td>...</td>\n",
       "      <td>...</td>\n",
       "      <td>...</td>\n",
       "    </tr>\n",
       "    <tr>\n",
       "      <th>94</th>\n",
       "      <td>IVB</td>\n",
       "      <td>0</td>\n",
       "      <td>0</td>\n",
       "      <td>0</td>\n",
       "      <td>0</td>\n",
       "      <td>British Virgin Islands</td>\n",
       "      <td>IVB</td>\n",
       "      <td>3.011700e+04</td>\n",
       "      <td>NaN</td>\n",
       "    </tr>\n",
       "    <tr>\n",
       "      <th>100</th>\n",
       "      <td>KGZ</td>\n",
       "      <td>0</td>\n",
       "      <td>0</td>\n",
       "      <td>0</td>\n",
       "      <td>0</td>\n",
       "      <td>Kyrgyzstan</td>\n",
       "      <td>KGZ</td>\n",
       "      <td>5.957000e+06</td>\n",
       "      <td>1103.215352</td>\n",
       "    </tr>\n",
       "    <tr>\n",
       "      <th>101</th>\n",
       "      <td>KIR</td>\n",
       "      <td>0</td>\n",
       "      <td>0</td>\n",
       "      <td>0</td>\n",
       "      <td>0</td>\n",
       "      <td>Kiribati</td>\n",
       "      <td>KIR</td>\n",
       "      <td>NaN</td>\n",
       "      <td>NaN</td>\n",
       "    </tr>\n",
       "    <tr>\n",
       "      <th>1</th>\n",
       "      <td>ALB</td>\n",
       "      <td>0</td>\n",
       "      <td>0</td>\n",
       "      <td>0</td>\n",
       "      <td>0</td>\n",
       "      <td>Albania</td>\n",
       "      <td>ALB</td>\n",
       "      <td>2.889167e+06</td>\n",
       "      <td>3945.217582</td>\n",
       "    </tr>\n",
       "    <tr>\n",
       "      <th>206</th>\n",
       "      <td>ZIM</td>\n",
       "      <td>0</td>\n",
       "      <td>0</td>\n",
       "      <td>0</td>\n",
       "      <td>0</td>\n",
       "      <td>Zimbabwe</td>\n",
       "      <td>ZIM</td>\n",
       "      <td>1.560275e+07</td>\n",
       "      <td>924.143819</td>\n",
       "    </tr>\n",
       "  </tbody>\n",
       "</table>\n",
       "<p>207 rows × 9 columns</p>\n",
       "</div>"
      ],
      "text/plain": [
       "    nationality  gold  silver  bronze  total_medals                 country  \\\n",
       "198         USA   139      54      71           264           United States   \n",
       "72          GER    49      44      67           160                 Germany   \n",
       "68          GBR    64      55      26           145          United Kingdom   \n",
       "159         RUS    52      29      34           115                  Russia   \n",
       "38          CHN    46      30      37           113                   China   \n",
       "..          ...   ...     ...     ...           ...                     ...   \n",
       "94          IVB     0       0       0             0  British Virgin Islands   \n",
       "100         KGZ     0       0       0             0              Kyrgyzstan   \n",
       "101         KIR     0       0       0             0                Kiribati   \n",
       "1           ALB     0       0       0             0                 Albania   \n",
       "206         ZIM     0       0       0             0                Zimbabwe   \n",
       "\n",
       "    code    population  gdp_per_capita  \n",
       "198  USA  3.214188e+08    56115.718426  \n",
       "72   GER  8.141314e+07    41313.313995  \n",
       "68   GBR  6.513823e+07    43875.969614  \n",
       "159  RUS  1.440968e+08     9092.580536  \n",
       "38   CHN  1.371220e+09     8027.683810  \n",
       "..   ...           ...             ...  \n",
       "94   IVB  3.011700e+04             NaN  \n",
       "100  KGZ  5.957000e+06     1103.215352  \n",
       "101  KIR           NaN             NaN  \n",
       "1    ALB  2.889167e+06     3945.217582  \n",
       "206  ZIM  1.560275e+07      924.143819  \n",
       "\n",
       "[207 rows x 9 columns]"
      ]
     },
     "execution_count": 46,
     "metadata": {},
     "output_type": "execute_result"
    }
   ],
   "source": [
    "olympic.sort_values(by='total_medals',ascending=False)"
   ]
  },
  {
   "cell_type": "markdown",
   "metadata": {},
   "source": [
    "### Missing Data<a id='missing_combined'></a>"
   ]
  },
  {
   "cell_type": "code",
   "execution_count": 47,
   "metadata": {},
   "outputs": [
    {
     "data": {
      "text/plain": [
       "nationality                          0\n",
       "gold                                 0\n",
       "silver                               0\n",
       "bronze                               0\n",
       "total_medals                         0\n",
       "country                              0\n",
       "code                                 0\n",
       "population                           7\n",
       "gdp_per_capita                      13\n",
       "Country                              0\n",
       "Region                               3\n",
       "Happiness_Rank_2016                  3\n",
       "Happiness_Score_2016                 3\n",
       "Lower_Confidence_Interval_2016       3\n",
       "Upper_Confidence_Interval_2016       3\n",
       "Economy_GDP_per_Capita_2016          3\n",
       "Family_2016                          3\n",
       "Health_Life Expectancy_2016          3\n",
       "Freedom_2016                         3\n",
       "Trust_Government_Corruption_2016     3\n",
       "Generosity_2016                      3\n",
       "Dystopia_Residual_2016               3\n",
       "Happiness_Rank_2017                  4\n",
       "Happiness_Score_2017                 4\n",
       "Upper_Confidence_Interval_2017       4\n",
       "Lower_Confidence_Interval_2017       4\n",
       "Economy_GDP_per_Capita_2017          4\n",
       "Family_2017                          4\n",
       "Health_Life Expectancy_2017          4\n",
       "Freedom_2017                         4\n",
       "Generosity_2017                      4\n",
       "Trust_Government_Corruption_2017     4\n",
       "Dystopia_Residual_2017               4\n",
       "dtype: int64"
      ]
     },
     "execution_count": 47,
     "metadata": {},
     "output_type": "execute_result"
    }
   ],
   "source": [
    "#check missing data of every columns\n",
    "olympic_corr.isnull().sum()"
   ]
  },
  {
   "cell_type": "code",
   "execution_count": 48,
   "metadata": {
    "scrolled": true
   },
   "outputs": [
    {
     "data": {
      "text/plain": [
       "100"
      ]
     },
     "execution_count": 48,
     "metadata": {},
     "output_type": "execute_result"
    }
   ],
   "source": [
    "#Compute total missing records\n",
    "olympic_corr.isnull().sum().sum()"
   ]
  },
  {
   "cell_type": "code",
   "execution_count": 49,
   "metadata": {},
   "outputs": [
    {
     "data": {
      "text/plain": [
       "(154, 33)"
      ]
     },
     "execution_count": 49,
     "metadata": {},
     "output_type": "execute_result"
    }
   ],
   "source": [
    "#Calculate the rows and columns of the original table\n",
    "olympic_corr.shape"
   ]
  },
  {
   "cell_type": "code",
   "execution_count": 50,
   "metadata": {},
   "outputs": [],
   "source": [
    "#Drop rows with null values\n",
    "olympic_corr_clean=olympic_corr.dropna()"
   ]
  },
  {
   "cell_type": "code",
   "execution_count": 51,
   "metadata": {},
   "outputs": [
    {
     "data": {
      "text/plain": [
       "(135, 33)"
      ]
     },
     "execution_count": 51,
     "metadata": {},
     "output_type": "execute_result"
    }
   ],
   "source": [
    "#Calculate the rows and columns of the cleaned table\n",
    "olympic_corr_clean.shape"
   ]
  },
  {
   "cell_type": "markdown",
   "metadata": {},
   "source": [
    "We can see that the number of missing values is low. Since these 19 columns(12%) are not useful in further analysis anyway, let's drop them."
   ]
  },
  {
   "cell_type": "markdown",
   "metadata": {},
   "source": [
    "Let's confirm that there are no more missing values in our \"combined\" dataset."
   ]
  },
  {
   "cell_type": "code",
   "execution_count": 52,
   "metadata": {},
   "outputs": [
    {
     "data": {
      "text/plain": [
       "0"
      ]
     },
     "execution_count": 52,
     "metadata": {},
     "output_type": "execute_result"
    }
   ],
   "source": [
    "#check the total null records\n",
    "olympic_corr_clean.isnull().sum().sum()"
   ]
  },
  {
   "cell_type": "code",
   "execution_count": null,
   "metadata": {},
   "outputs": [],
   "source": []
  },
  {
   "cell_type": "code",
   "execution_count": 152,
   "metadata": {},
   "outputs": [
    {
     "data": {
      "text/plain": [
       "0      2.73939\n",
       "1      2.69463\n",
       "2      2.83137\n",
       "3      2.66465\n",
       "4      2.82596\n",
       "        ...   \n",
       "152    2.10812\n",
       "153    2.14558\n",
       "154    2.13540\n",
       "155    0.81789\n",
       "156    2.10404\n",
       "Name: Dystopia_Residual_2016, Length: 152, dtype: float64"
      ]
     },
     "execution_count": 152,
     "metadata": {},
     "output_type": "execute_result"
    }
   ],
   "source": [
    "happy_compare_clean=happy_compare_clean.dropna()\n",
    "happy_compare_clean.iloc[:,12]"
   ]
  },
  {
   "cell_type": "code",
   "execution_count": 158,
   "metadata": {
    "scrolled": false
   },
   "outputs": [
    {
     "data": {
      "image/png": "[encoded data removed]",
      "text/plain": [
       "<Figure size 1440x1440 with 7 Axes>"
      ]
     },
     "metadata": {
      "needs_background": "light"
     },
     "output_type": "display_data"
    }
   ],
   "source": [
    "fig, axes = plt.subplots(4,2)\n",
    "axes[0,0].boxplot([happy_compare_clean['Happiness_Score_2016'],happy_compare_clean['Happiness_Score_2017']])\n",
    "axes[0,1].boxplot([happy_compare_clean['Economy_GDP_per_Capita_2016'],happy_compare_clean['Economy_GDP_per_Capita_2017']])\n",
    "axes[1,0].boxplot([happy_compare_clean['Freedom_2016'],happy_compare_clean['Freedom_2017']])\n",
    "axes[1,1].boxplot([happy_compare_clean['Health_Life Expectancy_2016'],happy_compare_clean['Health_Life Expectancy_2017']])\n",
    "axes[2,0].boxplot([happy_compare_clean['Trust_Government_Corruption_2016'],happy_compare_clean['Trust_Government_Corruption_2017']])\n",
    "axes[2,1].boxplot([happy_compare_clean['Generosity_2016'],happy_compare_clean['Generosity_2017']])\n",
    "axes[3,0].boxplot([happy_compare_clean['Dystopia_Residual_2016'],happy_compare_clean['Dystopia_Residual_2017']])\n",
    "fig.delaxes(axes[3,1])"
   ]
  },
  {
   "cell_type": "markdown",
   "metadata": {},
   "source": [
    "# FIND CORRELATIONS<a id='find_corr'></a>"
   ]
  },
  {
   "cell_type": "markdown",
   "metadata": {},
   "source": [
    "In the following section, we would like to see how happniess affect the athletes of each country performance in the Olympic Games."
   ]
  },
  {
   "cell_type": "code",
   "execution_count": 62,
   "metadata": {
    "scrolled": true
   },
   "outputs": [
    {
     "data": {
      "image/png": "[encoded data removed]",
      "text/plain": [
       "<Figure size 1440x1440 with 7 Axes>"
      ]
     },
     "metadata": {
      "needs_background": "light"
     },
     "output_type": "display_data"
    }
   ],
   "source": [
    "plt.rc('figure', figsize=(20,20))\n",
    "fig, axes = plt.subplots(4,2)\n",
    "axes[0,0].scatter(olympic_corr_clean['Happiness_Score_2016'],olympic_corr_clean['total_medals'],c='r')\n",
    "axes[0,0].set_title('Happiness Score vs Total medals earned in 2016 RIO Olympic')\n",
    "axes[0,1].scatter(olympic_corr_clean['Economy_GDP_per_Capita_2016'],olympic_corr_clean['total_medals'],c='b')\n",
    "axes[0,1].set_title('GDP per capita vs Total medals earned in 2016 RIO Olympic')\n",
    "axes[1,0].scatter(olympic_corr_clean['Freedom_2016'],olympic_corr_clean['total_medals'],c='g')\n",
    "axes[1,0].set_title('Freedom Score vs Total medals earned in 2016 RIO Olympic')\n",
    "axes[1,1].scatter(olympic_corr_clean['Health_Life Expectancy_2016'],olympic_corr_clean['total_medals'],c='orange')\n",
    "axes[1,1].set_title('Health Life Expectancy vs Total medals earned in 2016 RIO Olympic')\n",
    "axes[2,0].scatter(olympic_corr_clean['Trust_Government_Corruption_2016'],olympic_corr_clean['total_medals'],c='purple')\n",
    "axes[2,0].set_title('Trust Government_Corruption vs Total medals earned in 2016 RIO Olympic')\n",
    "axes[2,1].scatter(olympic_corr_clean['Generosity_2016'],olympic_corr_clean['total_medals'],c='pink')\n",
    "axes[2,1].set_title('Generosity SCore vs Total medals earned in 2016 RIO Olympic')\n",
    "axes[3,0].scatter(olympic_corr_clean['Dystopia_Residual_2016'],olympic_corr_clean['total_medals'],c='black')\n",
    "axes[3,0].set_title('Dystopia Residual Score vs Total medals earned in 2016 RIO Olympic')\n",
    "fig.delaxes(axes[3,1])"
   ]
  },
  {
   "cell_type": "markdown",
   "metadata": {},
   "source": [
    "From the above scatter plot, we can see there are possibly correlation for Happiness Score/GDP/Freedom/Health of a country and the amount of medal they can get in the Olympics. However, for Government Trust/Generosity/Dystopia Residual Score, we cannot observe any relation."
   ]
  },
  {
   "cell_type": "markdown",
   "metadata": {},
   "source": [
    "## Pearson Correlation Test"
   ]
  },
  {
   "cell_type": "code",
   "execution_count": 68,
   "metadata": {
    "scrolled": true
   },
   "outputs": [
    {
     "data": {
      "text/html": [
       "<style  type=\"text/css\" >\n",
       "</style><table id=\"T_7554793c_5875_11ec_af76_54a0503596be\" ><caption>Correlation of different factors with total number of medals</caption><thead>    <tr>        <th class=\"blank level0\" ></th>        <th class=\"col_heading level0 col0\" >correlation coefficient</th>        <th class=\"col_heading level0 col1\" >p-value</th>    </tr></thead><tbody>\n",
       "                <tr>\n",
       "                        <th id=\"T_7554793c_5875_11ec_af76_54a0503596belevel0_row0\" class=\"row_heading level0 row0\" >Happiness_Score_2016</th>\n",
       "                        <td id=\"T_7554793c_5875_11ec_af76_54a0503596berow0_col0\" class=\"data row0 col0\" >0.354049</td>\n",
       "                        <td id=\"T_7554793c_5875_11ec_af76_54a0503596berow0_col1\" class=\"data row0 col1\" >0.000025</td>\n",
       "            </tr>\n",
       "            <tr>\n",
       "                        <th id=\"T_7554793c_5875_11ec_af76_54a0503596belevel0_row1\" class=\"row_heading level0 row1\" >Economy_GDP_per_Capita_2016</th>\n",
       "                        <td id=\"T_7554793c_5875_11ec_af76_54a0503596berow1_col0\" class=\"data row1 col0\" >0.340695</td>\n",
       "                        <td id=\"T_7554793c_5875_11ec_af76_54a0503596berow1_col1\" class=\"data row1 col1\" >0.000053</td>\n",
       "            </tr>\n",
       "            <tr>\n",
       "                        <th id=\"T_7554793c_5875_11ec_af76_54a0503596belevel0_row2\" class=\"row_heading level0 row2\" >Freedom_2016</th>\n",
       "                        <td id=\"T_7554793c_5875_11ec_af76_54a0503596berow2_col0\" class=\"data row2 col0\" >0.180498</td>\n",
       "                        <td id=\"T_7554793c_5875_11ec_af76_54a0503596berow2_col1\" class=\"data row2 col1\" >0.036177</td>\n",
       "            </tr>\n",
       "            <tr>\n",
       "                        <th id=\"T_7554793c_5875_11ec_af76_54a0503596belevel0_row3\" class=\"row_heading level0 row3\" >Health_Life Expectancy_2016</th>\n",
       "                        <td id=\"T_7554793c_5875_11ec_af76_54a0503596berow3_col0\" class=\"data row3 col0\" >0.317100</td>\n",
       "                        <td id=\"T_7554793c_5875_11ec_af76_54a0503596berow3_col1\" class=\"data row3 col1\" >0.000179</td>\n",
       "            </tr>\n",
       "            <tr>\n",
       "                        <th id=\"T_7554793c_5875_11ec_af76_54a0503596belevel0_row4\" class=\"row_heading level0 row4\" >Trust_Government_Corruption_2016</th>\n",
       "                        <td id=\"T_7554793c_5875_11ec_af76_54a0503596berow4_col0\" class=\"data row4 col0\" >0.133911</td>\n",
       "                        <td id=\"T_7554793c_5875_11ec_af76_54a0503596berow4_col1\" class=\"data row4 col1\" >0.121522</td>\n",
       "            </tr>\n",
       "            <tr>\n",
       "                        <th id=\"T_7554793c_5875_11ec_af76_54a0503596belevel0_row5\" class=\"row_heading level0 row5\" >Generosity_2016</th>\n",
       "                        <td id=\"T_7554793c_5875_11ec_af76_54a0503596berow5_col0\" class=\"data row5 col0\" >0.103263</td>\n",
       "                        <td id=\"T_7554793c_5875_11ec_af76_54a0503596berow5_col1\" class=\"data row5 col1\" >0.233326</td>\n",
       "            </tr>\n",
       "            <tr>\n",
       "                        <th id=\"T_7554793c_5875_11ec_af76_54a0503596belevel0_row6\" class=\"row_heading level0 row6\" >Dystopia_Residual_2016</th>\n",
       "                        <td id=\"T_7554793c_5875_11ec_af76_54a0503596berow6_col0\" class=\"data row6 col0\" >0.105453</td>\n",
       "                        <td id=\"T_7554793c_5875_11ec_af76_54a0503596berow6_col1\" class=\"data row6 col1\" >0.223506</td>\n",
       "            </tr>\n",
       "    </tbody></table>"
      ],
      "text/plain": [
       "<pandas.io.formats.style.Styler at 0x203fd8b00a0>"
      ]
     },
     "execution_count": 68,
     "metadata": {},
     "output_type": "execute_result"
    }
   ],
   "source": [
    "factor_list=['Happiness_Score_2016',\n",
    "             'Economy_GDP_per_Capita_2016',\n",
    "             'Freedom_2016',\n",
    "             'Health_Life Expectancy_2016',\n",
    "             'Trust_Government_Corruption_2016',\n",
    "             'Generosity_2016',\n",
    "             'Dystopia_Residual_2016']\n",
    "corr=[]\n",
    "for i in range(len(factor_list)):\n",
    "    corr.append(pearsonr\n",
    "                (olympic_corr_clean[factor_list[i]],\n",
    "                 olympic_corr_clean['total_medals']))\n",
    "df=pd.DataFrame(corr,index=factor_list,columns=['correlation coefficient','p-value'])\n",
    "df.style.set_caption('Correlation of different factors with total number of medals')"
   ]
  },
  {
   "cell_type": "markdown",
   "metadata": {},
   "source": [
    "The above table showing the result of Pearson correlation test result. Pearson correlation coefficient tells us that there are slight positive correlation between happiness score/GDP/Health of the country with repect to the numbers of medal they can get in the Olympics. Furthermore, we check the p-value. We set our level of significant to 0.05 in this case. We can also conclude that the result above is statistical significance because the p-value for those results are less than the level of significance. "
   ]
  },
  {
   "cell_type": "markdown",
   "metadata": {},
   "source": [
    "The below part is to see how the being the Host of the Olympic Game (In 2016, it is Brazil) will affect themselves.\n",
    "First, we take a look at their happiness score in 2016 and 2017 and produce a column of the difference in between two years."
   ]
  },
  {
   "cell_type": "code",
   "execution_count": 120,
   "metadata": {},
   "outputs": [
    {
     "name": "stderr",
     "output_type": "stream",
     "text": [
      "<ipython-input-120-87bfeaa7c1d3>:1: SettingWithCopyWarning: \n",
      "A value is trying to be set on a copy of a slice from a DataFrame.\n",
      "Try using .loc[row_indexer,col_indexer] = value instead\n",
      "\n",
      "See the caveats in the documentation: https://pandas.pydata.org/pandas-docs/stable/user_guide/indexing.html#returning-a-view-versus-a-copy\n",
      "  olympic_corr_clean['Happy_diff']=olympic_corr_clean['Happiness_Score_2017']-olympic_corr_clean['Happiness_Score_2016']\n"
     ]
    }
   ],
   "source": [
    "olympic_corr_clean['Happy_diff']=olympic_corr_clean['Happiness_Score_2017']-olympic_corr_clean['Happiness_Score_2016']"
   ]
  },
  {
   "cell_type": "code",
   "execution_count": 137,
   "metadata": {},
   "outputs": [
    {
     "data": {
      "text/html": [
       "<div>\n",
       "<style scoped>\n",
       "    .dataframe tbody tr th:only-of-type {\n",
       "        vertical-align: middle;\n",
       "    }\n",
       "\n",
       "    .dataframe tbody tr th {\n",
       "        vertical-align: top;\n",
       "    }\n",
       "\n",
       "    .dataframe thead th {\n",
       "        text-align: right;\n",
       "    }\n",
       "</style>\n",
       "<table border=\"1\" class=\"dataframe\">\n",
       "  <thead>\n",
       "    <tr style=\"text-align: right;\">\n",
       "      <th></th>\n",
       "      <th>nationality</th>\n",
       "      <th>gold</th>\n",
       "      <th>silver</th>\n",
       "      <th>bronze</th>\n",
       "      <th>total_medals</th>\n",
       "      <th>country</th>\n",
       "      <th>code</th>\n",
       "      <th>population</th>\n",
       "      <th>gdp_per_capita</th>\n",
       "      <th>Country</th>\n",
       "      <th>...</th>\n",
       "      <th>Lower_Confidence_Interval_2017</th>\n",
       "      <th>Economy_GDP_per_Capita_2017</th>\n",
       "      <th>Family_2017</th>\n",
       "      <th>Health_Life Expectancy_2017</th>\n",
       "      <th>Freedom_2017</th>\n",
       "      <th>Generosity_2017</th>\n",
       "      <th>Trust_Government_Corruption_2017</th>\n",
       "      <th>Dystopia_Residual_2017</th>\n",
       "      <th>Happy_diff</th>\n",
       "      <th>GDP_diff</th>\n",
       "    </tr>\n",
       "  </thead>\n",
       "  <tbody>\n",
       "    <tr>\n",
       "      <th>0</th>\n",
       "      <td>BUL</td>\n",
       "      <td>0</td>\n",
       "      <td>1</td>\n",
       "      <td>6</td>\n",
       "      <td>7</td>\n",
       "      <td>Bulgaria</td>\n",
       "      <td>BUL</td>\n",
       "      <td>7177991.0</td>\n",
       "      <td>6993.477360</td>\n",
       "      <td>Bulgaria</td>\n",
       "      <td>...</td>\n",
       "      <td>4.624306</td>\n",
       "      <td>1.161459</td>\n",
       "      <td>1.434379</td>\n",
       "      <td>0.708218</td>\n",
       "      <td>0.289232</td>\n",
       "      <td>0.113178</td>\n",
       "      <td>0.011052</td>\n",
       "      <td>0.996139</td>\n",
       "      <td>0.497</td>\n",
       "      <td>0.048399</td>\n",
       "    </tr>\n",
       "    <tr>\n",
       "      <th>1</th>\n",
       "      <td>AFG</td>\n",
       "      <td>0</td>\n",
       "      <td>0</td>\n",
       "      <td>0</td>\n",
       "      <td>0</td>\n",
       "      <td>Afghanistan</td>\n",
       "      <td>AFG</td>\n",
       "      <td>32526562.0</td>\n",
       "      <td>594.323081</td>\n",
       "      <td>Afghanistan</td>\n",
       "      <td>...</td>\n",
       "      <td>3.714338</td>\n",
       "      <td>0.401477</td>\n",
       "      <td>0.581543</td>\n",
       "      <td>0.180747</td>\n",
       "      <td>0.106180</td>\n",
       "      <td>0.311871</td>\n",
       "      <td>0.061158</td>\n",
       "      <td>2.150801</td>\n",
       "      <td>0.434</td>\n",
       "      <td>0.019207</td>\n",
       "    </tr>\n",
       "    <tr>\n",
       "      <th>2</th>\n",
       "      <td>EGY</td>\n",
       "      <td>0</td>\n",
       "      <td>0</td>\n",
       "      <td>3</td>\n",
       "      <td>3</td>\n",
       "      <td>Egypt</td>\n",
       "      <td>EGY</td>\n",
       "      <td>91508084.0</td>\n",
       "      <td>3614.746766</td>\n",
       "      <td>Egypt</td>\n",
       "      <td>...</td>\n",
       "      <td>4.644866</td>\n",
       "      <td>0.989702</td>\n",
       "      <td>0.997471</td>\n",
       "      <td>0.520187</td>\n",
       "      <td>0.282110</td>\n",
       "      <td>0.128631</td>\n",
       "      <td>0.114381</td>\n",
       "      <td>1.702161</td>\n",
       "      <td>0.373</td>\n",
       "      <td>0.035752</td>\n",
       "    </tr>\n",
       "    <tr>\n",
       "      <th>3</th>\n",
       "      <td>RSA</td>\n",
       "      <td>2</td>\n",
       "      <td>7</td>\n",
       "      <td>14</td>\n",
       "      <td>23</td>\n",
       "      <td>South Africa</td>\n",
       "      <td>RSA</td>\n",
       "      <td>54956920.0</td>\n",
       "      <td>5723.973357</td>\n",
       "      <td>South Africa</td>\n",
       "      <td>...</td>\n",
       "      <td>4.728565</td>\n",
       "      <td>1.054699</td>\n",
       "      <td>1.384789</td>\n",
       "      <td>0.187080</td>\n",
       "      <td>0.479247</td>\n",
       "      <td>0.139362</td>\n",
       "      <td>0.072509</td>\n",
       "      <td>1.510909</td>\n",
       "      <td>0.370</td>\n",
       "      <td>0.030539</td>\n",
       "    </tr>\n",
       "    <tr>\n",
       "      <th>4</th>\n",
       "      <td>GAB</td>\n",
       "      <td>0</td>\n",
       "      <td>0</td>\n",
       "      <td>0</td>\n",
       "      <td>0</td>\n",
       "      <td>Gabon</td>\n",
       "      <td>GAB</td>\n",
       "      <td>1725292.0</td>\n",
       "      <td>8266.445605</td>\n",
       "      <td>Gabon</td>\n",
       "      <td>...</td>\n",
       "      <td>4.372639</td>\n",
       "      <td>1.198210</td>\n",
       "      <td>1.155620</td>\n",
       "      <td>0.356579</td>\n",
       "      <td>0.312329</td>\n",
       "      <td>0.043785</td>\n",
       "      <td>0.076047</td>\n",
       "      <td>1.322916</td>\n",
       "      <td>0.344</td>\n",
       "      <td>0.039700</td>\n",
       "    </tr>\n",
       "    <tr>\n",
       "      <th>...</th>\n",
       "      <td>...</td>\n",
       "      <td>...</td>\n",
       "      <td>...</td>\n",
       "      <td>...</td>\n",
       "      <td>...</td>\n",
       "      <td>...</td>\n",
       "      <td>...</td>\n",
       "      <td>...</td>\n",
       "      <td>...</td>\n",
       "      <td>...</td>\n",
       "      <td>...</td>\n",
       "      <td>...</td>\n",
       "      <td>...</td>\n",
       "      <td>...</td>\n",
       "      <td>...</td>\n",
       "      <td>...</td>\n",
       "      <td>...</td>\n",
       "      <td>...</td>\n",
       "      <td>...</td>\n",
       "      <td>...</td>\n",
       "      <td>...</td>\n",
       "    </tr>\n",
       "    <tr>\n",
       "      <th>130</th>\n",
       "      <td>BRA</td>\n",
       "      <td>37</td>\n",
       "      <td>8</td>\n",
       "      <td>6</td>\n",
       "      <td>51</td>\n",
       "      <td>Brazil</td>\n",
       "      <td>BRA</td>\n",
       "      <td>207847528.0</td>\n",
       "      <td>8538.589975</td>\n",
       "      <td>Brazil</td>\n",
       "      <td>...</td>\n",
       "      <td>6.544531</td>\n",
       "      <td>1.107353</td>\n",
       "      <td>1.431306</td>\n",
       "      <td>0.616552</td>\n",
       "      <td>0.437454</td>\n",
       "      <td>0.162350</td>\n",
       "      <td>0.111093</td>\n",
       "      <td>2.769267</td>\n",
       "      <td>-0.317</td>\n",
       "      <td>0.019813</td>\n",
       "    </tr>\n",
       "    <tr>\n",
       "      <th>131</th>\n",
       "      <td>TAN</td>\n",
       "      <td>0</td>\n",
       "      <td>0</td>\n",
       "      <td>0</td>\n",
       "      <td>0</td>\n",
       "      <td>Tanzania</td>\n",
       "      <td>TAN</td>\n",
       "      <td>53470420.0</td>\n",
       "      <td>878.975106</td>\n",
       "      <td>Tanzania</td>\n",
       "      <td>...</td>\n",
       "      <td>3.236570</td>\n",
       "      <td>0.511136</td>\n",
       "      <td>1.041990</td>\n",
       "      <td>0.364509</td>\n",
       "      <td>0.390018</td>\n",
       "      <td>0.354256</td>\n",
       "      <td>0.066035</td>\n",
       "      <td>0.621130</td>\n",
       "      <td>-0.317</td>\n",
       "      <td>0.039586</td>\n",
       "    </tr>\n",
       "    <tr>\n",
       "      <th>132</th>\n",
       "      <td>ZIM</td>\n",
       "      <td>0</td>\n",
       "      <td>0</td>\n",
       "      <td>0</td>\n",
       "      <td>0</td>\n",
       "      <td>Zimbabwe</td>\n",
       "      <td>ZIM</td>\n",
       "      <td>15602751.0</td>\n",
       "      <td>924.143819</td>\n",
       "      <td>Zimbabwe</td>\n",
       "      <td>...</td>\n",
       "      <td>3.771300</td>\n",
       "      <td>0.375847</td>\n",
       "      <td>1.083096</td>\n",
       "      <td>0.196764</td>\n",
       "      <td>0.336384</td>\n",
       "      <td>0.189143</td>\n",
       "      <td>0.095375</td>\n",
       "      <td>1.597970</td>\n",
       "      <td>-0.318</td>\n",
       "      <td>0.025437</td>\n",
       "    </tr>\n",
       "    <tr>\n",
       "      <th>133</th>\n",
       "      <td>HAI</td>\n",
       "      <td>0</td>\n",
       "      <td>0</td>\n",
       "      <td>0</td>\n",
       "      <td>0</td>\n",
       "      <td>Haiti</td>\n",
       "      <td>HAI</td>\n",
       "      <td>10711067.0</td>\n",
       "      <td>818.343298</td>\n",
       "      <td>Haiti</td>\n",
       "      <td>...</td>\n",
       "      <td>3.471285</td>\n",
       "      <td>0.368610</td>\n",
       "      <td>0.640450</td>\n",
       "      <td>0.277321</td>\n",
       "      <td>0.030370</td>\n",
       "      <td>0.489204</td>\n",
       "      <td>0.099872</td>\n",
       "      <td>1.697168</td>\n",
       "      <td>-0.425</td>\n",
       "      <td>0.027640</td>\n",
       "    </tr>\n",
       "    <tr>\n",
       "      <th>134</th>\n",
       "      <td>ALG</td>\n",
       "      <td>0</td>\n",
       "      <td>2</td>\n",
       "      <td>0</td>\n",
       "      <td>2</td>\n",
       "      <td>Algeria</td>\n",
       "      <td>ALG</td>\n",
       "      <td>39666519.0</td>\n",
       "      <td>4206.031232</td>\n",
       "      <td>Algeria</td>\n",
       "      <td>...</td>\n",
       "      <td>5.765714</td>\n",
       "      <td>1.091864</td>\n",
       "      <td>1.146217</td>\n",
       "      <td>0.617585</td>\n",
       "      <td>0.233336</td>\n",
       "      <td>0.069437</td>\n",
       "      <td>0.146096</td>\n",
       "      <td>2.567604</td>\n",
       "      <td>-0.483</td>\n",
       "      <td>0.039204</td>\n",
       "    </tr>\n",
       "  </tbody>\n",
       "</table>\n",
       "<p>135 rows × 35 columns</p>\n",
       "</div>"
      ],
      "text/plain": [
       "    nationality  gold  silver  bronze  total_medals       country code  \\\n",
       "0           BUL     0       1       6             7      Bulgaria  BUL   \n",
       "1           AFG     0       0       0             0   Afghanistan  AFG   \n",
       "2           EGY     0       0       3             3         Egypt  EGY   \n",
       "3           RSA     2       7      14            23  South Africa  RSA   \n",
       "4           GAB     0       0       0             0         Gabon  GAB   \n",
       "..          ...   ...     ...     ...           ...           ...  ...   \n",
       "130         BRA    37       8       6            51        Brazil  BRA   \n",
       "131         TAN     0       0       0             0      Tanzania  TAN   \n",
       "132         ZIM     0       0       0             0      Zimbabwe  ZIM   \n",
       "133         HAI     0       0       0             0         Haiti  HAI   \n",
       "134         ALG     0       2       0             2       Algeria  ALG   \n",
       "\n",
       "      population  gdp_per_capita       Country  ...  \\\n",
       "0      7177991.0     6993.477360      Bulgaria  ...   \n",
       "1     32526562.0      594.323081   Afghanistan  ...   \n",
       "2     91508084.0     3614.746766         Egypt  ...   \n",
       "3     54956920.0     5723.973357  South Africa  ...   \n",
       "4      1725292.0     8266.445605         Gabon  ...   \n",
       "..           ...             ...           ...  ...   \n",
       "130  207847528.0     8538.589975        Brazil  ...   \n",
       "131   53470420.0      878.975106      Tanzania  ...   \n",
       "132   15602751.0      924.143819      Zimbabwe  ...   \n",
       "133   10711067.0      818.343298         Haiti  ...   \n",
       "134   39666519.0     4206.031232       Algeria  ...   \n",
       "\n",
       "    Lower_Confidence_Interval_2017  Economy_GDP_per_Capita_2017  Family_2017  \\\n",
       "0                         4.624306                     1.161459     1.434379   \n",
       "1                         3.714338                     0.401477     0.581543   \n",
       "2                         4.644866                     0.989702     0.997471   \n",
       "3                         4.728565                     1.054699     1.384789   \n",
       "4                         4.372639                     1.198210     1.155620   \n",
       "..                             ...                          ...          ...   \n",
       "130                       6.544531                     1.107353     1.431306   \n",
       "131                       3.236570                     0.511136     1.041990   \n",
       "132                       3.771300                     0.375847     1.083096   \n",
       "133                       3.471285                     0.368610     0.640450   \n",
       "134                       5.765714                     1.091864     1.146217   \n",
       "\n",
       "     Health_Life Expectancy_2017  Freedom_2017  Generosity_2017  \\\n",
       "0                       0.708218      0.289232         0.113178   \n",
       "1                       0.180747      0.106180         0.311871   \n",
       "2                       0.520187      0.282110         0.128631   \n",
       "3                       0.187080      0.479247         0.139362   \n",
       "4                       0.356579      0.312329         0.043785   \n",
       "..                           ...           ...              ...   \n",
       "130                     0.616552      0.437454         0.162350   \n",
       "131                     0.364509      0.390018         0.354256   \n",
       "132                     0.196764      0.336384         0.189143   \n",
       "133                     0.277321      0.030370         0.489204   \n",
       "134                     0.617585      0.233336         0.069437   \n",
       "\n",
       "     Trust_Government_Corruption_2017  Dystopia_Residual_2017  Happy_diff  \\\n",
       "0                            0.011052                0.996139       0.497   \n",
       "1                            0.061158                2.150801       0.434   \n",
       "2                            0.114381                1.702161       0.373   \n",
       "3                            0.072509                1.510909       0.370   \n",
       "4                            0.076047                1.322916       0.344   \n",
       "..                                ...                     ...         ...   \n",
       "130                          0.111093                2.769267      -0.317   \n",
       "131                          0.066035                0.621130      -0.317   \n",
       "132                          0.095375                1.597970      -0.318   \n",
       "133                          0.099872                1.697168      -0.425   \n",
       "134                          0.146096                2.567604      -0.483   \n",
       "\n",
       "     GDP_diff  \n",
       "0    0.048399  \n",
       "1    0.019207  \n",
       "2    0.035752  \n",
       "3    0.030539  \n",
       "4    0.039700  \n",
       "..        ...  \n",
       "130  0.019813  \n",
       "131  0.039586  \n",
       "132  0.025437  \n",
       "133  0.027640  \n",
       "134  0.039204  \n",
       "\n",
       "[135 rows x 35 columns]"
      ]
     },
     "execution_count": 137,
     "metadata": {},
     "output_type": "execute_result"
    }
   ],
   "source": [
    "olympic_sorted_happ=olympic_corr_clean.sort_values(by='Happy_diff',ascending=False,ignore_index=True)\n",
    "olympic_sorted_happ=olympic_sorted_happ.reindex()\n",
    "olympic_sorted_happ"
   ]
  },
  {
   "cell_type": "code",
   "execution_count": 138,
   "metadata": {
    "scrolled": false
   },
   "outputs": [
    {
     "data": {
      "text/html": [
       "<div>\n",
       "<style scoped>\n",
       "    .dataframe tbody tr th:only-of-type {\n",
       "        vertical-align: middle;\n",
       "    }\n",
       "\n",
       "    .dataframe tbody tr th {\n",
       "        vertical-align: top;\n",
       "    }\n",
       "\n",
       "    .dataframe thead th {\n",
       "        text-align: right;\n",
       "    }\n",
       "</style>\n",
       "<table border=\"1\" class=\"dataframe\">\n",
       "  <thead>\n",
       "    <tr style=\"text-align: right;\">\n",
       "      <th></th>\n",
       "      <th>country</th>\n",
       "      <th>Happiness_Score_2016</th>\n",
       "      <th>total_medals</th>\n",
       "      <th>Happiness_Score_2017</th>\n",
       "      <th>Happy_diff</th>\n",
       "    </tr>\n",
       "  </thead>\n",
       "  <tbody>\n",
       "    <tr>\n",
       "      <th>130</th>\n",
       "      <td>Brazil</td>\n",
       "      <td>6.952</td>\n",
       "      <td>51</td>\n",
       "      <td>6.635</td>\n",
       "      <td>-0.317</td>\n",
       "    </tr>\n",
       "  </tbody>\n",
       "</table>\n",
       "</div>"
      ],
      "text/plain": [
       "    country  Happiness_Score_2016  total_medals  Happiness_Score_2017  \\\n",
       "130  Brazil                 6.952            51                 6.635   \n",
       "\n",
       "     Happy_diff  \n",
       "130      -0.317  "
      ]
     },
     "execution_count": 138,
     "metadata": {},
     "output_type": "execute_result"
    }
   ],
   "source": [
    "olympic_sorted_happ[olympic_sorted_happ['country']=='Brazil'][['country',\n",
    "                    'Happiness_Score_2016',\n",
    "                    'total_medals',\n",
    "                    'Happiness_Score_2017',\n",
    "                    'Happy_diff']].head()"
   ]
  },
  {
   "cell_type": "markdown",
   "metadata": {},
   "source": [
    "We can see that Brazil is a the 130th place which means the the people in Brazil is getting more sad than most of the countries after the Olympic Game."
   ]
  },
  {
   "cell_type": "code",
   "execution_count": 145,
   "metadata": {},
   "outputs": [
    {
     "data": {
      "text/html": [
       "<div>\n",
       "<style scoped>\n",
       "    .dataframe tbody tr th:only-of-type {\n",
       "        vertical-align: middle;\n",
       "    }\n",
       "\n",
       "    .dataframe tbody tr th {\n",
       "        vertical-align: top;\n",
       "    }\n",
       "\n",
       "    .dataframe thead th {\n",
       "        text-align: right;\n",
       "    }\n",
       "</style>\n",
       "<table border=\"1\" class=\"dataframe\">\n",
       "  <thead>\n",
       "    <tr style=\"text-align: right;\">\n",
       "      <th></th>\n",
       "      <th>country</th>\n",
       "      <th>Happiness_Score_2016</th>\n",
       "      <th>total_medals</th>\n",
       "      <th>Happiness_Score_2017</th>\n",
       "      <th>Happy_diff</th>\n",
       "    </tr>\n",
       "  </thead>\n",
       "  <tbody>\n",
       "    <tr>\n",
       "      <th>110</th>\n",
       "      <td>United States</td>\n",
       "      <td>7.104</td>\n",
       "      <td>264</td>\n",
       "      <td>6.993</td>\n",
       "      <td>-0.111</td>\n",
       "    </tr>\n",
       "  </tbody>\n",
       "</table>\n",
       "</div>"
      ],
      "text/plain": [
       "           country  Happiness_Score_2016  total_medals  Happiness_Score_2017  \\\n",
       "110  United States                 7.104           264                 6.993   \n",
       "\n",
       "     Happy_diff  \n",
       "110      -0.111  "
      ]
     },
     "execution_count": 145,
     "metadata": {},
     "output_type": "execute_result"
    }
   ],
   "source": [
    "olympic_sorted_happ[olympic_sorted_happ['country']=='United States'][['country',\n",
    "                    'Happiness_Score_2016',\n",
    "                    'total_medals',\n",
    "                    'Happiness_Score_2017',\n",
    "                    'Happy_diff']].head()"
   ]
  },
  {
   "cell_type": "markdown",
   "metadata": {},
   "source": [
    "We also take a look at the United States. Being the most medal winning country in Rio 2016, USA seems to be less happy in 2017."
   ]
  },
  {
   "cell_type": "markdown",
   "metadata": {},
   "source": [
    "And now we also want to see how the GDP different after being a host of the olympic game."
   ]
  },
  {
   "cell_type": "code",
   "execution_count": 139,
   "metadata": {},
   "outputs": [
    {
     "name": "stderr",
     "output_type": "stream",
     "text": [
      "<ipython-input-139-b28fa28f038e>:1: SettingWithCopyWarning: \n",
      "A value is trying to be set on a copy of a slice from a DataFrame.\n",
      "Try using .loc[row_indexer,col_indexer] = value instead\n",
      "\n",
      "See the caveats in the documentation: https://pandas.pydata.org/pandas-docs/stable/user_guide/indexing.html#returning-a-view-versus-a-copy\n",
      "  olympic_corr_clean['GDP_diff']=olympic_corr_clean['Economy_GDP_per_Capita_2017']-olympic_corr_clean['Economy_GDP_per_Capita_2016']\n"
     ]
    }
   ],
   "source": [
    "olympic_corr_clean['GDP_diff']=olympic_corr_clean['Economy_GDP_per_Capita_2017']-olympic_corr_clean['Economy_GDP_per_Capita_2016']"
   ]
  },
  {
   "cell_type": "code",
   "execution_count": 140,
   "metadata": {},
   "outputs": [
    {
     "data": {
      "text/html": [
       "<div>\n",
       "<style scoped>\n",
       "    .dataframe tbody tr th:only-of-type {\n",
       "        vertical-align: middle;\n",
       "    }\n",
       "\n",
       "    .dataframe tbody tr th {\n",
       "        vertical-align: top;\n",
       "    }\n",
       "\n",
       "    .dataframe thead th {\n",
       "        text-align: right;\n",
       "    }\n",
       "</style>\n",
       "<table border=\"1\" class=\"dataframe\">\n",
       "  <thead>\n",
       "    <tr style=\"text-align: right;\">\n",
       "      <th></th>\n",
       "      <th>nationality</th>\n",
       "      <th>gold</th>\n",
       "      <th>silver</th>\n",
       "      <th>bronze</th>\n",
       "      <th>total_medals</th>\n",
       "      <th>country</th>\n",
       "      <th>code</th>\n",
       "      <th>population</th>\n",
       "      <th>gdp_per_capita</th>\n",
       "      <th>Country</th>\n",
       "      <th>...</th>\n",
       "      <th>Lower_Confidence_Interval_2017</th>\n",
       "      <th>Economy_GDP_per_Capita_2017</th>\n",
       "      <th>Family_2017</th>\n",
       "      <th>Health_Life Expectancy_2017</th>\n",
       "      <th>Freedom_2017</th>\n",
       "      <th>Generosity_2017</th>\n",
       "      <th>Trust_Government_Corruption_2017</th>\n",
       "      <th>Dystopia_Residual_2017</th>\n",
       "      <th>Happy_diff</th>\n",
       "      <th>GDP_diff</th>\n",
       "    </tr>\n",
       "  </thead>\n",
       "  <tbody>\n",
       "    <tr>\n",
       "      <th>0</th>\n",
       "      <td>MLI</td>\n",
       "      <td>0</td>\n",
       "      <td>0</td>\n",
       "      <td>0</td>\n",
       "      <td>0</td>\n",
       "      <td>Mali</td>\n",
       "      <td>MLI</td>\n",
       "      <td>17599694.0</td>\n",
       "      <td>724.256283</td>\n",
       "      <td>Mali</td>\n",
       "      <td>...</td>\n",
       "      <td>4.110329</td>\n",
       "      <td>0.476180</td>\n",
       "      <td>1.281473</td>\n",
       "      <td>0.169366</td>\n",
       "      <td>0.306614</td>\n",
       "      <td>0.183354</td>\n",
       "      <td>0.104970</td>\n",
       "      <td>1.668191</td>\n",
       "      <td>0.117</td>\n",
       "      <td>0.163260</td>\n",
       "    </tr>\n",
       "    <tr>\n",
       "      <th>1</th>\n",
       "      <td>MAW</td>\n",
       "      <td>0</td>\n",
       "      <td>0</td>\n",
       "      <td>0</td>\n",
       "      <td>0</td>\n",
       "      <td>Malawi</td>\n",
       "      <td>MAW</td>\n",
       "      <td>17215232.0</td>\n",
       "      <td>371.985748</td>\n",
       "      <td>Malawi</td>\n",
       "      <td>...</td>\n",
       "      <td>3.862521</td>\n",
       "      <td>0.233442</td>\n",
       "      <td>0.512569</td>\n",
       "      <td>0.315090</td>\n",
       "      <td>0.466915</td>\n",
       "      <td>0.287170</td>\n",
       "      <td>0.072712</td>\n",
       "      <td>2.081786</td>\n",
       "      <td>-0.186</td>\n",
       "      <td>0.146352</td>\n",
       "    </tr>\n",
       "    <tr>\n",
       "      <th>2</th>\n",
       "      <td>GEO</td>\n",
       "      <td>2</td>\n",
       "      <td>1</td>\n",
       "      <td>4</td>\n",
       "      <td>7</td>\n",
       "      <td>Georgia</td>\n",
       "      <td>GEO</td>\n",
       "      <td>3679000.0</td>\n",
       "      <td>3795.973308</td>\n",
       "      <td>Georgia</td>\n",
       "      <td>...</td>\n",
       "      <td>4.197066</td>\n",
       "      <td>0.950613</td>\n",
       "      <td>0.570615</td>\n",
       "      <td>0.649547</td>\n",
       "      <td>0.309410</td>\n",
       "      <td>0.054009</td>\n",
       "      <td>0.251667</td>\n",
       "      <td>1.500138</td>\n",
       "      <td>0.034</td>\n",
       "      <td>0.112693</td>\n",
       "    </tr>\n",
       "    <tr>\n",
       "      <th>3</th>\n",
       "      <td>KAZ</td>\n",
       "      <td>3</td>\n",
       "      <td>5</td>\n",
       "      <td>9</td>\n",
       "      <td>17</td>\n",
       "      <td>Kazakhstan</td>\n",
       "      <td>KAZ</td>\n",
       "      <td>17544126.0</td>\n",
       "      <td>10509.981070</td>\n",
       "      <td>Kazakhstan</td>\n",
       "      <td>...</td>\n",
       "      <td>5.734358</td>\n",
       "      <td>1.284556</td>\n",
       "      <td>1.384369</td>\n",
       "      <td>0.606042</td>\n",
       "      <td>0.437454</td>\n",
       "      <td>0.201964</td>\n",
       "      <td>0.119283</td>\n",
       "      <td>1.784893</td>\n",
       "      <td>-0.100</td>\n",
       "      <td>0.055126</td>\n",
       "    </tr>\n",
       "    <tr>\n",
       "      <th>4</th>\n",
       "      <td>ISL</td>\n",
       "      <td>0</td>\n",
       "      <td>0</td>\n",
       "      <td>0</td>\n",
       "      <td>0</td>\n",
       "      <td>Iceland</td>\n",
       "      <td>ISL</td>\n",
       "      <td>330823.0</td>\n",
       "      <td>50173.339916</td>\n",
       "      <td>Iceland</td>\n",
       "      <td>...</td>\n",
       "      <td>7.385970</td>\n",
       "      <td>1.480633</td>\n",
       "      <td>1.610574</td>\n",
       "      <td>0.833552</td>\n",
       "      <td>0.627163</td>\n",
       "      <td>0.475540</td>\n",
       "      <td>0.153527</td>\n",
       "      <td>2.322715</td>\n",
       "      <td>0.003</td>\n",
       "      <td>0.053973</td>\n",
       "    </tr>\n",
       "    <tr>\n",
       "      <th>...</th>\n",
       "      <td>...</td>\n",
       "      <td>...</td>\n",
       "      <td>...</td>\n",
       "      <td>...</td>\n",
       "      <td>...</td>\n",
       "      <td>...</td>\n",
       "      <td>...</td>\n",
       "      <td>...</td>\n",
       "      <td>...</td>\n",
       "      <td>...</td>\n",
       "      <td>...</td>\n",
       "      <td>...</td>\n",
       "      <td>...</td>\n",
       "      <td>...</td>\n",
       "      <td>...</td>\n",
       "      <td>...</td>\n",
       "      <td>...</td>\n",
       "      <td>...</td>\n",
       "      <td>...</td>\n",
       "      <td>...</td>\n",
       "      <td>...</td>\n",
       "    </tr>\n",
       "    <tr>\n",
       "      <th>130</th>\n",
       "      <td>LBR</td>\n",
       "      <td>0</td>\n",
       "      <td>0</td>\n",
       "      <td>0</td>\n",
       "      <td>0</td>\n",
       "      <td>Liberia</td>\n",
       "      <td>LBR</td>\n",
       "      <td>4503438.0</td>\n",
       "      <td>455.873935</td>\n",
       "      <td>Liberia</td>\n",
       "      <td>...</td>\n",
       "      <td>3.412244</td>\n",
       "      <td>0.119042</td>\n",
       "      <td>0.872118</td>\n",
       "      <td>0.229918</td>\n",
       "      <td>0.332881</td>\n",
       "      <td>0.266550</td>\n",
       "      <td>0.038948</td>\n",
       "      <td>1.673286</td>\n",
       "      <td>-0.089</td>\n",
       "      <td>0.011982</td>\n",
       "    </tr>\n",
       "    <tr>\n",
       "      <th>131</th>\n",
       "      <td>ANG</td>\n",
       "      <td>0</td>\n",
       "      <td>0</td>\n",
       "      <td>0</td>\n",
       "      <td>0</td>\n",
       "      <td>Angola</td>\n",
       "      <td>ANG</td>\n",
       "      <td>25021974.0</td>\n",
       "      <td>4101.472152</td>\n",
       "      <td>Angola</td>\n",
       "      <td>...</td>\n",
       "      <td>3.638358</td>\n",
       "      <td>0.858428</td>\n",
       "      <td>1.104412</td>\n",
       "      <td>0.049869</td>\n",
       "      <td>0.000000</td>\n",
       "      <td>0.097926</td>\n",
       "      <td>0.069720</td>\n",
       "      <td>1.614482</td>\n",
       "      <td>-0.071</td>\n",
       "      <td>0.011118</td>\n",
       "    </tr>\n",
       "    <tr>\n",
       "      <th>132</th>\n",
       "      <td>SLE</td>\n",
       "      <td>0</td>\n",
       "      <td>0</td>\n",
       "      <td>0</td>\n",
       "      <td>0</td>\n",
       "      <td>Sierra Leone</td>\n",
       "      <td>SLE</td>\n",
       "      <td>6453184.0</td>\n",
       "      <td>653.131816</td>\n",
       "      <td>Sierra Leone</td>\n",
       "      <td>...</td>\n",
       "      <td>4.567357</td>\n",
       "      <td>0.368421</td>\n",
       "      <td>0.984136</td>\n",
       "      <td>0.005565</td>\n",
       "      <td>0.318698</td>\n",
       "      <td>0.293041</td>\n",
       "      <td>0.071095</td>\n",
       "      <td>2.668460</td>\n",
       "      <td>0.074</td>\n",
       "      <td>0.003571</td>\n",
       "    </tr>\n",
       "    <tr>\n",
       "      <th>133</th>\n",
       "      <td>JOR</td>\n",
       "      <td>1</td>\n",
       "      <td>0</td>\n",
       "      <td>0</td>\n",
       "      <td>1</td>\n",
       "      <td>Jordan</td>\n",
       "      <td>JOR</td>\n",
       "      <td>7594547.0</td>\n",
       "      <td>4940.045836</td>\n",
       "      <td>Jordan</td>\n",
       "      <td>...</td>\n",
       "      <td>5.223590</td>\n",
       "      <td>0.991012</td>\n",
       "      <td>1.239089</td>\n",
       "      <td>0.604590</td>\n",
       "      <td>0.418421</td>\n",
       "      <td>0.172170</td>\n",
       "      <td>0.119803</td>\n",
       "      <td>1.791177</td>\n",
       "      <td>0.033</td>\n",
       "      <td>-0.005718</td>\n",
       "    </tr>\n",
       "    <tr>\n",
       "      <th>134</th>\n",
       "      <td>LIB</td>\n",
       "      <td>0</td>\n",
       "      <td>0</td>\n",
       "      <td>0</td>\n",
       "      <td>0</td>\n",
       "      <td>Lebanon</td>\n",
       "      <td>LIB</td>\n",
       "      <td>5850743.0</td>\n",
       "      <td>8047.645086</td>\n",
       "      <td>Lebanon</td>\n",
       "      <td>...</td>\n",
       "      <td>5.131118</td>\n",
       "      <td>1.074988</td>\n",
       "      <td>1.129624</td>\n",
       "      <td>0.735081</td>\n",
       "      <td>0.288516</td>\n",
       "      <td>0.264451</td>\n",
       "      <td>0.037514</td>\n",
       "      <td>1.695074</td>\n",
       "      <td>0.096</td>\n",
       "      <td>-0.047692</td>\n",
       "    </tr>\n",
       "  </tbody>\n",
       "</table>\n",
       "<p>135 rows × 35 columns</p>\n",
       "</div>"
      ],
      "text/plain": [
       "    nationality  gold  silver  bronze  total_medals       country code  \\\n",
       "0           MLI     0       0       0             0          Mali  MLI   \n",
       "1           MAW     0       0       0             0        Malawi  MAW   \n",
       "2           GEO     2       1       4             7       Georgia  GEO   \n",
       "3           KAZ     3       5       9            17    Kazakhstan  KAZ   \n",
       "4           ISL     0       0       0             0       Iceland  ISL   \n",
       "..          ...   ...     ...     ...           ...           ...  ...   \n",
       "130         LBR     0       0       0             0       Liberia  LBR   \n",
       "131         ANG     0       0       0             0        Angola  ANG   \n",
       "132         SLE     0       0       0             0  Sierra Leone  SLE   \n",
       "133         JOR     1       0       0             1        Jordan  JOR   \n",
       "134         LIB     0       0       0             0       Lebanon  LIB   \n",
       "\n",
       "     population  gdp_per_capita       Country  ...  \\\n",
       "0    17599694.0      724.256283          Mali  ...   \n",
       "1    17215232.0      371.985748        Malawi  ...   \n",
       "2     3679000.0     3795.973308       Georgia  ...   \n",
       "3    17544126.0    10509.981070    Kazakhstan  ...   \n",
       "4      330823.0    50173.339916       Iceland  ...   \n",
       "..          ...             ...           ...  ...   \n",
       "130   4503438.0      455.873935       Liberia  ...   \n",
       "131  25021974.0     4101.472152        Angola  ...   \n",
       "132   6453184.0      653.131816  Sierra Leone  ...   \n",
       "133   7594547.0     4940.045836        Jordan  ...   \n",
       "134   5850743.0     8047.645086       Lebanon  ...   \n",
       "\n",
       "    Lower_Confidence_Interval_2017  Economy_GDP_per_Capita_2017  Family_2017  \\\n",
       "0                         4.110329                     0.476180     1.281473   \n",
       "1                         3.862521                     0.233442     0.512569   \n",
       "2                         4.197066                     0.950613     0.570615   \n",
       "3                         5.734358                     1.284556     1.384369   \n",
       "4                         7.385970                     1.480633     1.610574   \n",
       "..                             ...                          ...          ...   \n",
       "130                       3.412244                     0.119042     0.872118   \n",
       "131                       3.638358                     0.858428     1.104412   \n",
       "132                       4.567357                     0.368421     0.984136   \n",
       "133                       5.223590                     0.991012     1.239089   \n",
       "134                       5.131118                     1.074988     1.129624   \n",
       "\n",
       "     Health_Life Expectancy_2017  Freedom_2017  Generosity_2017  \\\n",
       "0                       0.169366      0.306614         0.183354   \n",
       "1                       0.315090      0.466915         0.287170   \n",
       "2                       0.649547      0.309410         0.054009   \n",
       "3                       0.606042      0.437454         0.201964   \n",
       "4                       0.833552      0.627163         0.475540   \n",
       "..                           ...           ...              ...   \n",
       "130                     0.229918      0.332881         0.266550   \n",
       "131                     0.049869      0.000000         0.097926   \n",
       "132                     0.005565      0.318698         0.293041   \n",
       "133                     0.604590      0.418421         0.172170   \n",
       "134                     0.735081      0.288516         0.264451   \n",
       "\n",
       "     Trust_Government_Corruption_2017  Dystopia_Residual_2017  Happy_diff  \\\n",
       "0                            0.104970                1.668191       0.117   \n",
       "1                            0.072712                2.081786      -0.186   \n",
       "2                            0.251667                1.500138       0.034   \n",
       "3                            0.119283                1.784893      -0.100   \n",
       "4                            0.153527                2.322715       0.003   \n",
       "..                                ...                     ...         ...   \n",
       "130                          0.038948                1.673286      -0.089   \n",
       "131                          0.069720                1.614482      -0.071   \n",
       "132                          0.071095                2.668460       0.074   \n",
       "133                          0.119803                1.791177       0.033   \n",
       "134                          0.037514                1.695074       0.096   \n",
       "\n",
       "     GDP_diff  \n",
       "0    0.163260  \n",
       "1    0.146352  \n",
       "2    0.112693  \n",
       "3    0.055126  \n",
       "4    0.053973  \n",
       "..        ...  \n",
       "130  0.011982  \n",
       "131  0.011118  \n",
       "132  0.003571  \n",
       "133 -0.005718  \n",
       "134 -0.047692  \n",
       "\n",
       "[135 rows x 35 columns]"
      ]
     },
     "execution_count": 140,
     "metadata": {},
     "output_type": "execute_result"
    }
   ],
   "source": [
    "olympic_sorted_gdp=olympic_corr_clean.sort_values(by='GDP_diff',ascending=False,ignore_index=True)\n",
    "olympic_sorted_gdp=olympic_sorted_gdp.reindex()\n",
    "olympic_sorted_gdp"
   ]
  },
  {
   "cell_type": "code",
   "execution_count": 144,
   "metadata": {
    "scrolled": true
   },
   "outputs": [
    {
     "data": {
      "text/html": [
       "<div>\n",
       "<style scoped>\n",
       "    .dataframe tbody tr th:only-of-type {\n",
       "        vertical-align: middle;\n",
       "    }\n",
       "\n",
       "    .dataframe tbody tr th {\n",
       "        vertical-align: top;\n",
       "    }\n",
       "\n",
       "    .dataframe thead th {\n",
       "        text-align: right;\n",
       "    }\n",
       "</style>\n",
       "<table border=\"1\" class=\"dataframe\">\n",
       "  <thead>\n",
       "    <tr style=\"text-align: right;\">\n",
       "      <th></th>\n",
       "      <th>country</th>\n",
       "      <th>Economy_GDP_per_Capita_2017</th>\n",
       "      <th>total_medals</th>\n",
       "      <th>Economy_GDP_per_Capita_2017</th>\n",
       "      <th>GDP_diff</th>\n",
       "    </tr>\n",
       "  </thead>\n",
       "  <tbody>\n",
       "    <tr>\n",
       "      <th>126</th>\n",
       "      <td>Brazil</td>\n",
       "      <td>1.107353</td>\n",
       "      <td>51</td>\n",
       "      <td>1.107353</td>\n",
       "      <td>0.019813</td>\n",
       "    </tr>\n",
       "  </tbody>\n",
       "</table>\n",
       "</div>"
      ],
      "text/plain": [
       "    country  Economy_GDP_per_Capita_2017  total_medals  \\\n",
       "126  Brazil                     1.107353            51   \n",
       "\n",
       "     Economy_GDP_per_Capita_2017  GDP_diff  \n",
       "126                     1.107353  0.019813  "
      ]
     },
     "execution_count": 144,
     "metadata": {},
     "output_type": "execute_result"
    }
   ],
   "source": [
    "olympic_sorted_gdp[olympic_sorted_gdp['country']=='Brazil'][['country',\n",
    "                    'Economy_GDP_per_Capita_2017',\n",
    "                    'total_medals',\n",
    "                    'Economy_GDP_per_Capita_2017',\n",
    "                    'GDP_diff']].head()"
   ]
  },
  {
   "cell_type": "markdown",
   "metadata": {},
   "source": [
    "We can see that Brazil is in 126th place of the change in GDP. It is showing that even hosting one of the biggest worldwide sports event in the country, there is not much of a economics growth for this country in the case of Rio 2016 Olympics."
   ]
  }
 ],
 "metadata": {
  "kernelspec": {
   "display_name": "Python 3",
   "language": "python",
   "name": "python3"
  },
  "language_info": {
   "codemirror_mode": {
    "name": "ipython",
    "version": 3
   },
   "file_extension": ".py",
   "mimetype": "text/x-python",
   "name": "python",
   "nbconvert_exporter": "python",
   "pygments_lexer": "ipython3",
   "version": "3.8.5"
  }
 },
 "nbformat": 4,
 "nbformat_minor": 2
}
