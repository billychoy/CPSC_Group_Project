{
 "cells": [
  {
   "cell_type": "markdown",
   "metadata": {},
   "source": [
    "# TABLE OF CONTENTS\n",
    "1. [PROBLEM STATEMENT](#prob-stat)\n",
    "2. [THE DATA](#data)\n",
    "    1. [Supplemental Data - Olympic](#supdata-olympic)\n",
    "3. [BACKGROUND AND FINDING](#finding)\n",
    "4. [READ IN THE DATA](#read)\n",
    "    1. [Reading Olympic .csv files](#read_olympic) \n",
    "    2. [GETTING TO KNOW THE DATA](#know)\n",
    "5. [DATA PREPARATION](#prepare)\n",
    "    1. [Happy 2016 Dataframe](#happy-2016)\n",
    "        1. [Rename Key Column](#rename_col_2016)\n",
    "    2. [Happy 2017 Dataframe](#happy-2017)\n",
    "        1. [Rename Key Column](#rename_col_2017)\n",
    "        2. [Align country name](#col_2017)\n",
    "    3. [Athletes Dataframe](#athletes)\n",
    "        1. [Data Selection](#select_athletes) \n",
    "        2. [Create Medal Count for analysis purpose](#create_col_athletes)\n",
    "    4. [Countries Dataframe](#countries)\n",
    "        1. [Data Selection](#select_class)\n",
    "        2. [Create Key Column](#create_col_class)\n",
    "        3. [Sync nationality between Country and Medals](#sync_national) \n",
    "6. [COMBINE THE DATASETS](#combine)\n",
    "    1. [Combine dataset-happiness data](#combine_happy)\n",
    "    2. [Combine dataset-Olympic Game data](#combine_olympic)\n",
    "    3. [Combine dataset-Happiness Clean and Olympic Clean](#combine_happy_olymic) \n",
    "    \n",
    "*** TBC ***\n",
    "7. [FIND CORRELATIONS](#find_corr)\n",
    "    1. [Correlations Plots](#corr_plots)\n",
    "        1. [Positive Correlations Plot](#pos_corr_plot)\n",
    "        1. [Negative Correlations Plot](#neg_corr_plot)\n",
    "    2. [Correlations Analysis](#corr_analysis)"
   ]
  },
  {
   "cell_type": "markdown",
   "metadata": {},
   "source": [
    "# PROBLEM STATEMENT<a id='prob-stat'></a>"
   ]
  },
  {
   "cell_type": "markdown",
   "metadata": {},
   "source": [
    "We would like to explorer whether the world happiest index in 2016 and 2017 has any correlation with Olympic Game 2016\n",
    "\n",
    "In this project, we'll collect the raw data from Olympic game 206 and the world happiest index on the years 2016 and year 2017.\n",
    "We will then perform data cleaning, table join, and aggregation before analysing. \n",
    "\n",
    "Our team members: Ashley Keung, Jill Lau, Jonathan Chu and Billy Choy"
   ]
  },
  {
   "cell_type": "markdown",
   "metadata": {},
   "source": [
    "***"
   ]
  },
  {
   "cell_type": "markdown",
   "metadata": {},
   "source": [
    "# THE DATA<a id='data'></a>"
   ]
  },
  {
   "cell_type": "markdown",
   "metadata": {},
   "source": [
    "The World Happiness Report is a United Nations Sustainable Development Solutions Network publication. It contains articles and rankings of national happiness, based on respondent ratings of their own lives, which the report also correlates with various life factors. As of March 2021, Finland had been ranked the happiest country in the world four times in a row.\n",
    "\n",
    "The happiness index files are made available by World Happiest Report on the Kaggle website https://www.kaggle.com/unsdsn/world-happiness. So let's create a new directory named \"happiness\" in our project directory and download these two files in the directory. Also, for the sake of brevity, let's rename the data files as \"Happiness_2016.csv\" and \"Happiness_2017.csv\", respectively. A concise description of our primary datasets is as follows:\n",
    "\n",
    "Main datasets:\n",
    "- __Happiness_2016.csv__ - World Happiest Index in 2016\n",
    "- __Happiness_2017.csv__ - World Happiest Index in 2017\n",
    "\n",
    "Now let's go ahead and have a look at these datasets."
   ]
  },
  {
   "cell_type": "code",
   "execution_count": 69,
   "metadata": {},
   "outputs": [],
   "source": [
    "#import libraries\n",
    "import pandas as pd\n",
    "import numpy as np\n",
    "import matplotlib.pyplot as plt\n",
    "import seaborn as sns\n",
    "from scipy.stats import pearsonr\n",
    "%matplotlib inline"
   ]
  },
  {
   "cell_type": "code",
   "execution_count": 70,
   "metadata": {},
   "outputs": [
    {
     "data": {
      "text/html": [
       "<div>\n",
       "<style scoped>\n",
       "    .dataframe tbody tr th:only-of-type {\n",
       "        vertical-align: middle;\n",
       "    }\n",
       "\n",
       "    .dataframe tbody tr th {\n",
       "        vertical-align: top;\n",
       "    }\n",
       "\n",
       "    .dataframe thead th {\n",
       "        text-align: right;\n",
       "    }\n",
       "</style>\n",
       "<table border=\"1\" class=\"dataframe\">\n",
       "  <thead>\n",
       "    <tr style=\"text-align: right;\">\n",
       "      <th></th>\n",
       "      <th>Country</th>\n",
       "      <th>Region</th>\n",
       "      <th>Happiness Rank</th>\n",
       "      <th>Happiness Score</th>\n",
       "      <th>Lower Confidence Interval</th>\n",
       "      <th>Upper Confidence Interval</th>\n",
       "      <th>Economy (GDP per Capita)</th>\n",
       "      <th>Family</th>\n",
       "      <th>Health (Life Expectancy)</th>\n",
       "      <th>Freedom</th>\n",
       "      <th>Trust (Government Corruption)</th>\n",
       "      <th>Generosity</th>\n",
       "      <th>Dystopia Residual</th>\n",
       "    </tr>\n",
       "  </thead>\n",
       "  <tbody>\n",
       "    <tr>\n",
       "      <th>0</th>\n",
       "      <td>Denmark</td>\n",
       "      <td>Western Europe</td>\n",
       "      <td>1</td>\n",
       "      <td>7.526</td>\n",
       "      <td>7.460</td>\n",
       "      <td>7.592</td>\n",
       "      <td>1.44178</td>\n",
       "      <td>1.16374</td>\n",
       "      <td>0.79504</td>\n",
       "      <td>0.57941</td>\n",
       "      <td>0.44453</td>\n",
       "      <td>0.36171</td>\n",
       "      <td>2.73939</td>\n",
       "    </tr>\n",
       "    <tr>\n",
       "      <th>1</th>\n",
       "      <td>Switzerland</td>\n",
       "      <td>Western Europe</td>\n",
       "      <td>2</td>\n",
       "      <td>7.509</td>\n",
       "      <td>7.428</td>\n",
       "      <td>7.590</td>\n",
       "      <td>1.52733</td>\n",
       "      <td>1.14524</td>\n",
       "      <td>0.86303</td>\n",
       "      <td>0.58557</td>\n",
       "      <td>0.41203</td>\n",
       "      <td>0.28083</td>\n",
       "      <td>2.69463</td>\n",
       "    </tr>\n",
       "    <tr>\n",
       "      <th>2</th>\n",
       "      <td>Iceland</td>\n",
       "      <td>Western Europe</td>\n",
       "      <td>3</td>\n",
       "      <td>7.501</td>\n",
       "      <td>7.333</td>\n",
       "      <td>7.669</td>\n",
       "      <td>1.42666</td>\n",
       "      <td>1.18326</td>\n",
       "      <td>0.86733</td>\n",
       "      <td>0.56624</td>\n",
       "      <td>0.14975</td>\n",
       "      <td>0.47678</td>\n",
       "      <td>2.83137</td>\n",
       "    </tr>\n",
       "    <tr>\n",
       "      <th>3</th>\n",
       "      <td>Norway</td>\n",
       "      <td>Western Europe</td>\n",
       "      <td>4</td>\n",
       "      <td>7.498</td>\n",
       "      <td>7.421</td>\n",
       "      <td>7.575</td>\n",
       "      <td>1.57744</td>\n",
       "      <td>1.12690</td>\n",
       "      <td>0.79579</td>\n",
       "      <td>0.59609</td>\n",
       "      <td>0.35776</td>\n",
       "      <td>0.37895</td>\n",
       "      <td>2.66465</td>\n",
       "    </tr>\n",
       "    <tr>\n",
       "      <th>4</th>\n",
       "      <td>Finland</td>\n",
       "      <td>Western Europe</td>\n",
       "      <td>5</td>\n",
       "      <td>7.413</td>\n",
       "      <td>7.351</td>\n",
       "      <td>7.475</td>\n",
       "      <td>1.40598</td>\n",
       "      <td>1.13464</td>\n",
       "      <td>0.81091</td>\n",
       "      <td>0.57104</td>\n",
       "      <td>0.41004</td>\n",
       "      <td>0.25492</td>\n",
       "      <td>2.82596</td>\n",
       "    </tr>\n",
       "  </tbody>\n",
       "</table>\n",
       "</div>"
      ],
      "text/plain": [
       "       Country          Region  Happiness Rank  Happiness Score  \\\n",
       "0      Denmark  Western Europe               1            7.526   \n",
       "1  Switzerland  Western Europe               2            7.509   \n",
       "2      Iceland  Western Europe               3            7.501   \n",
       "3       Norway  Western Europe               4            7.498   \n",
       "4      Finland  Western Europe               5            7.413   \n",
       "\n",
       "   Lower Confidence Interval  Upper Confidence Interval  \\\n",
       "0                      7.460                      7.592   \n",
       "1                      7.428                      7.590   \n",
       "2                      7.333                      7.669   \n",
       "3                      7.421                      7.575   \n",
       "4                      7.351                      7.475   \n",
       "\n",
       "   Economy (GDP per Capita)   Family  Health (Life Expectancy)  Freedom  \\\n",
       "0                   1.44178  1.16374                   0.79504  0.57941   \n",
       "1                   1.52733  1.14524                   0.86303  0.58557   \n",
       "2                   1.42666  1.18326                   0.86733  0.56624   \n",
       "3                   1.57744  1.12690                   0.79579  0.59609   \n",
       "4                   1.40598  1.13464                   0.81091  0.57104   \n",
       "\n",
       "   Trust (Government Corruption)  Generosity  Dystopia Residual  \n",
       "0                        0.44453     0.36171            2.73939  \n",
       "1                        0.41203     0.28083            2.69463  \n",
       "2                        0.14975     0.47678            2.83137  \n",
       "3                        0.35776     0.37895            2.66465  \n",
       "4                        0.41004     0.25492            2.82596  "
      ]
     },
     "execution_count": 70,
     "metadata": {},
     "output_type": "execute_result"
    }
   ],
   "source": [
    "#Read Happiness_2016 csv and store as happy_2016 dataframe\n",
    "happy_2016 = pd.read_csv(\"Happiness_2016.csv\")\n",
    "happy_2016.head()"
   ]
  },
  {
   "cell_type": "code",
   "execution_count": 71,
   "metadata": {},
   "outputs": [
    {
     "data": {
      "text/html": [
       "<div>\n",
       "<style scoped>\n",
       "    .dataframe tbody tr th:only-of-type {\n",
       "        vertical-align: middle;\n",
       "    }\n",
       "\n",
       "    .dataframe tbody tr th {\n",
       "        vertical-align: top;\n",
       "    }\n",
       "\n",
       "    .dataframe thead th {\n",
       "        text-align: right;\n",
       "    }\n",
       "</style>\n",
       "<table border=\"1\" class=\"dataframe\">\n",
       "  <thead>\n",
       "    <tr style=\"text-align: right;\">\n",
       "      <th></th>\n",
       "      <th>Country</th>\n",
       "      <th>Happiness.Rank</th>\n",
       "      <th>Happiness.Score</th>\n",
       "      <th>Whisker.high</th>\n",
       "      <th>Whisker.low</th>\n",
       "      <th>Economy..GDP.per.Capita.</th>\n",
       "      <th>Family</th>\n",
       "      <th>Health..Life.Expectancy.</th>\n",
       "      <th>Freedom</th>\n",
       "      <th>Generosity</th>\n",
       "      <th>Trust..Government.Corruption.</th>\n",
       "      <th>Dystopia.Residual</th>\n",
       "    </tr>\n",
       "  </thead>\n",
       "  <tbody>\n",
       "    <tr>\n",
       "      <th>0</th>\n",
       "      <td>Norway</td>\n",
       "      <td>1</td>\n",
       "      <td>7.537</td>\n",
       "      <td>7.594445</td>\n",
       "      <td>7.479556</td>\n",
       "      <td>1.616463</td>\n",
       "      <td>1.533524</td>\n",
       "      <td>0.796667</td>\n",
       "      <td>0.635423</td>\n",
       "      <td>0.362012</td>\n",
       "      <td>0.315964</td>\n",
       "      <td>2.277027</td>\n",
       "    </tr>\n",
       "    <tr>\n",
       "      <th>1</th>\n",
       "      <td>Denmark</td>\n",
       "      <td>2</td>\n",
       "      <td>7.522</td>\n",
       "      <td>7.581728</td>\n",
       "      <td>7.462272</td>\n",
       "      <td>1.482383</td>\n",
       "      <td>1.551122</td>\n",
       "      <td>0.792566</td>\n",
       "      <td>0.626007</td>\n",
       "      <td>0.355280</td>\n",
       "      <td>0.400770</td>\n",
       "      <td>2.313707</td>\n",
       "    </tr>\n",
       "    <tr>\n",
       "      <th>2</th>\n",
       "      <td>Iceland</td>\n",
       "      <td>3</td>\n",
       "      <td>7.504</td>\n",
       "      <td>7.622030</td>\n",
       "      <td>7.385970</td>\n",
       "      <td>1.480633</td>\n",
       "      <td>1.610574</td>\n",
       "      <td>0.833552</td>\n",
       "      <td>0.627163</td>\n",
       "      <td>0.475540</td>\n",
       "      <td>0.153527</td>\n",
       "      <td>2.322715</td>\n",
       "    </tr>\n",
       "    <tr>\n",
       "      <th>3</th>\n",
       "      <td>Switzerland</td>\n",
       "      <td>4</td>\n",
       "      <td>7.494</td>\n",
       "      <td>7.561772</td>\n",
       "      <td>7.426227</td>\n",
       "      <td>1.564980</td>\n",
       "      <td>1.516912</td>\n",
       "      <td>0.858131</td>\n",
       "      <td>0.620071</td>\n",
       "      <td>0.290549</td>\n",
       "      <td>0.367007</td>\n",
       "      <td>2.276716</td>\n",
       "    </tr>\n",
       "    <tr>\n",
       "      <th>4</th>\n",
       "      <td>Finland</td>\n",
       "      <td>5</td>\n",
       "      <td>7.469</td>\n",
       "      <td>7.527542</td>\n",
       "      <td>7.410458</td>\n",
       "      <td>1.443572</td>\n",
       "      <td>1.540247</td>\n",
       "      <td>0.809158</td>\n",
       "      <td>0.617951</td>\n",
       "      <td>0.245483</td>\n",
       "      <td>0.382612</td>\n",
       "      <td>2.430182</td>\n",
       "    </tr>\n",
       "  </tbody>\n",
       "</table>\n",
       "</div>"
      ],
      "text/plain": [
       "       Country  Happiness.Rank  Happiness.Score  Whisker.high  Whisker.low  \\\n",
       "0       Norway               1            7.537      7.594445     7.479556   \n",
       "1      Denmark               2            7.522      7.581728     7.462272   \n",
       "2      Iceland               3            7.504      7.622030     7.385970   \n",
       "3  Switzerland               4            7.494      7.561772     7.426227   \n",
       "4      Finland               5            7.469      7.527542     7.410458   \n",
       "\n",
       "   Economy..GDP.per.Capita.    Family  Health..Life.Expectancy.   Freedom  \\\n",
       "0                  1.616463  1.533524                  0.796667  0.635423   \n",
       "1                  1.482383  1.551122                  0.792566  0.626007   \n",
       "2                  1.480633  1.610574                  0.833552  0.627163   \n",
       "3                  1.564980  1.516912                  0.858131  0.620071   \n",
       "4                  1.443572  1.540247                  0.809158  0.617951   \n",
       "\n",
       "   Generosity  Trust..Government.Corruption.  Dystopia.Residual  \n",
       "0    0.362012                       0.315964           2.277027  \n",
       "1    0.355280                       0.400770           2.313707  \n",
       "2    0.475540                       0.153527           2.322715  \n",
       "3    0.290549                       0.367007           2.276716  \n",
       "4    0.245483                       0.382612           2.430182  "
      ]
     },
     "execution_count": 71,
     "metadata": {},
     "output_type": "execute_result"
    }
   ],
   "source": [
    "#Read Happiness_2017 csv and store as happy_2017 dataframe\n",
    "happy_2017 = pd.read_csv(\"Happiness_2017.csv\")\n",
    "happy_2017.head()"
   ]
  },
  {
   "cell_type": "markdown",
   "metadata": {},
   "source": [
    "We can see that happy_2016 has 13 columns while happy_2017 has 12 columns. Even though the exact measurements are between years, some column names changed, and one column (Region) is missing in 2017. Data cleansing is required before our analysis.\n",
    "\n",
    "On the other hand, we would like to explore the happiness index before and after the Olympic games in 2016. Consequently, we must supplement the Olympic Games 2016 to complete the analysis."
   ]
  },
  {
   "cell_type": "markdown",
   "metadata": {},
   "source": [
    "***"
   ]
  },
  {
   "cell_type": "markdown",
   "metadata": {},
   "source": [
    "# Supplemental Data - Olympic<a id='supdata-olympic'></a>"
   ]
  },
  {
   "cell_type": "markdown",
   "metadata": {},
   "source": [
    "The Kaggle website https://www.kaggle.com/rio2016/olympic-games, \"2016 Olympics in Rio de Janeiro\", has several related data sets on Olympic Games 2016. So let's also download these files and their associated metadata files in the \"Olympic\" directory.\n",
    "\n",
    "The data files and their descriptions are as follows:\n",
    "\n",
    "Supplemental datasets:\n",
    "\n",
    "- __athletes.csv__ - This file contains Athlete information, including the name, nationality, gender (sex), date of birth(dob), height, weight, type of sports, gold medal, silver medal, and bronze medal.\n",
    "- __countries.csv__ - This file contain country name, code, population and GDP per capital."
   ]
  },
  {
   "cell_type": "markdown",
   "metadata": {},
   "source": [
    "***"
   ]
  },
  {
   "cell_type": "markdown",
   "metadata": {},
   "source": [
    "# BACKGROUND AND FINDING<a id='finding'></a>"
   ]
  },
  {
   "cell_type": "markdown",
   "metadata": {},
   "source": [
    "So let's do some background research on Google before moving on to coding, as this will help us understand how to combine and analyze the data.\n",
    "\n",
    "In this case, we'll want to research the following:\n",
    "\n",
    "    Olympic Game 2016\n",
    "    World Happiest Index 2016\n",
    "    World Happiest Index 2017\n",
    "\n",
    "Based on our research on each of the topics as mentioned above and an examination of the metadata file associated with each dataset, we can state the following:\n",
    "\n",
    "- Olympic Games, 2016, has 201 countries joined the game. \n",
    "- World Happiest Index 2016 has a rating of 157 countries.\n",
    "To analyze the Happiest Index change, we will use the countries from the World Happiest Index as a base to match with the country in the Olympic Games.\n",
    "- On the other hand, the linkage between Olympic files are:\n",
    "    - Countries.[National] link up with Athlete.[National]"
   ]
  },
  {
   "cell_type": "markdown",
   "metadata": {},
   "source": [
    "Now the assumptions are all set up. We are ready to examine the data. Since all of these datasets are interrelated, we'll need to combine them into a single data set before finding correlations."
   ]
  },
  {
   "cell_type": "markdown",
   "metadata": {},
   "source": [
    "***"
   ]
  },
  {
   "cell_type": "markdown",
   "metadata": {},
   "source": [
    "# READ IN THE DATA<a id='read'></a>"
   ]
  },
  {
   "cell_type": "markdown",
   "metadata": {},
   "source": [
    "## Reading .csv files of Olympic Game<a id='read_olympic'></a>"
   ]
  },
  {
   "cell_type": "markdown",
   "metadata": {},
   "source": [
    "Let's read the Olympic game CSV files with the command below."
   ]
  },
  {
   "cell_type": "code",
   "execution_count": 72,
   "metadata": {},
   "outputs": [],
   "source": [
    "#import olympic data\n",
    "athletes = pd.read_csv(\"athletes.csv\")\n",
    "countries = pd.read_csv(\"countries.csv\")"
   ]
  },
  {
   "cell_type": "markdown",
   "metadata": {},
   "source": [
    "Our primary analysis uses Happiest Index as a base, and we store Olympic related tables with the data frame named above for later usage. The ideal key to join both datasets will be the country name."
   ]
  },
  {
   "cell_type": "markdown",
   "metadata": {},
   "source": [
    "## GETTING TO KNOW THE DATA<a id='know'></a>"
   ]
  },
  {
   "cell_type": "markdown",
   "metadata": {},
   "source": [
    "Now it's about to explore each of the individual datasets we stored into a central repository (the dictionary) above. We will also closely examine the Excel metadata file associated with each data file. This will ensure no gaps in our understanding of the data, such as thinking that a column represents something other than what it does."
   ]
  },
  {
   "cell_type": "code",
   "execution_count": 73,
   "metadata": {
    "scrolled": false
   },
   "outputs": [
    {
     "data": {
      "text/html": [
       "<div>\n",
       "<style scoped>\n",
       "    .dataframe tbody tr th:only-of-type {\n",
       "        vertical-align: middle;\n",
       "    }\n",
       "\n",
       "    .dataframe tbody tr th {\n",
       "        vertical-align: top;\n",
       "    }\n",
       "\n",
       "    .dataframe thead th {\n",
       "        text-align: right;\n",
       "    }\n",
       "</style>\n",
       "<table border=\"1\" class=\"dataframe\">\n",
       "  <thead>\n",
       "    <tr style=\"text-align: right;\">\n",
       "      <th></th>\n",
       "      <th>id</th>\n",
       "      <th>name</th>\n",
       "      <th>nationality</th>\n",
       "      <th>sex</th>\n",
       "      <th>dob</th>\n",
       "      <th>height</th>\n",
       "      <th>weight</th>\n",
       "      <th>sport</th>\n",
       "      <th>gold</th>\n",
       "      <th>silver</th>\n",
       "      <th>bronze</th>\n",
       "    </tr>\n",
       "  </thead>\n",
       "  <tbody>\n",
       "    <tr>\n",
       "      <th>0</th>\n",
       "      <td>736041664</td>\n",
       "      <td>A Jesus Garcia</td>\n",
       "      <td>ESP</td>\n",
       "      <td>male</td>\n",
       "      <td>10/17/69</td>\n",
       "      <td>1.72</td>\n",
       "      <td>64.0</td>\n",
       "      <td>athletics</td>\n",
       "      <td>0</td>\n",
       "      <td>0</td>\n",
       "      <td>0</td>\n",
       "    </tr>\n",
       "    <tr>\n",
       "      <th>1</th>\n",
       "      <td>532037425</td>\n",
       "      <td>A Lam Shin</td>\n",
       "      <td>KOR</td>\n",
       "      <td>female</td>\n",
       "      <td>9/23/86</td>\n",
       "      <td>1.68</td>\n",
       "      <td>56.0</td>\n",
       "      <td>fencing</td>\n",
       "      <td>0</td>\n",
       "      <td>0</td>\n",
       "      <td>0</td>\n",
       "    </tr>\n",
       "    <tr>\n",
       "      <th>2</th>\n",
       "      <td>435962603</td>\n",
       "      <td>Aaron Brown</td>\n",
       "      <td>CAN</td>\n",
       "      <td>male</td>\n",
       "      <td>5/27/92</td>\n",
       "      <td>1.98</td>\n",
       "      <td>79.0</td>\n",
       "      <td>athletics</td>\n",
       "      <td>0</td>\n",
       "      <td>0</td>\n",
       "      <td>1</td>\n",
       "    </tr>\n",
       "    <tr>\n",
       "      <th>3</th>\n",
       "      <td>521041435</td>\n",
       "      <td>Aaron Cook</td>\n",
       "      <td>MDA</td>\n",
       "      <td>male</td>\n",
       "      <td>1/2/91</td>\n",
       "      <td>1.83</td>\n",
       "      <td>80.0</td>\n",
       "      <td>taekwondo</td>\n",
       "      <td>0</td>\n",
       "      <td>0</td>\n",
       "      <td>0</td>\n",
       "    </tr>\n",
       "    <tr>\n",
       "      <th>4</th>\n",
       "      <td>33922579</td>\n",
       "      <td>Aaron Gate</td>\n",
       "      <td>NZL</td>\n",
       "      <td>male</td>\n",
       "      <td>11/26/90</td>\n",
       "      <td>1.81</td>\n",
       "      <td>71.0</td>\n",
       "      <td>cycling</td>\n",
       "      <td>0</td>\n",
       "      <td>0</td>\n",
       "      <td>0</td>\n",
       "    </tr>\n",
       "  </tbody>\n",
       "</table>\n",
       "</div>"
      ],
      "text/plain": [
       "          id            name nationality     sex       dob  height  weight  \\\n",
       "0  736041664  A Jesus Garcia         ESP    male  10/17/69    1.72    64.0   \n",
       "1  532037425      A Lam Shin         KOR  female   9/23/86    1.68    56.0   \n",
       "2  435962603     Aaron Brown         CAN    male   5/27/92    1.98    79.0   \n",
       "3  521041435      Aaron Cook         MDA    male    1/2/91    1.83    80.0   \n",
       "4   33922579      Aaron Gate         NZL    male  11/26/90    1.81    71.0   \n",
       "\n",
       "       sport  gold  silver  bronze  \n",
       "0  athletics     0       0       0  \n",
       "1    fencing     0       0       0  \n",
       "2  athletics     0       0       1  \n",
       "3  taekwondo     0       0       0  \n",
       "4    cycling     0       0       0  "
      ]
     },
     "execution_count": 73,
     "metadata": {},
     "output_type": "execute_result"
    }
   ],
   "source": [
    "#Check athletes data frame with header record\n",
    "athletes.head()"
   ]
  },
  {
   "cell_type": "markdown",
   "metadata": {},
   "source": [
    "By looking at the Athlete dataset, it tells us:\n",
    " 1. 'ID' is a unique assigned key that ideally can join with an events data frame.\n",
    " 2. Nationality refers to a country's short form to map with code in the country's data frame.\n",
    " 3. 'dob refers to the date of birth which is not a unique variable.\n",
    " 4. 'Sport' refers to the type of sport that can join with an events data frame."
   ]
  },
  {
   "cell_type": "code",
   "execution_count": 74,
   "metadata": {},
   "outputs": [
    {
     "data": {
      "text/html": [
       "<div>\n",
       "<style scoped>\n",
       "    .dataframe tbody tr th:only-of-type {\n",
       "        vertical-align: middle;\n",
       "    }\n",
       "\n",
       "    .dataframe tbody tr th {\n",
       "        vertical-align: top;\n",
       "    }\n",
       "\n",
       "    .dataframe thead th {\n",
       "        text-align: right;\n",
       "    }\n",
       "</style>\n",
       "<table border=\"1\" class=\"dataframe\">\n",
       "  <thead>\n",
       "    <tr style=\"text-align: right;\">\n",
       "      <th></th>\n",
       "      <th>country</th>\n",
       "      <th>code</th>\n",
       "      <th>population</th>\n",
       "      <th>gdp_per_capita</th>\n",
       "    </tr>\n",
       "  </thead>\n",
       "  <tbody>\n",
       "    <tr>\n",
       "      <th>0</th>\n",
       "      <td>Afghanistan</td>\n",
       "      <td>AFG</td>\n",
       "      <td>32526562.0</td>\n",
       "      <td>594.323081</td>\n",
       "    </tr>\n",
       "    <tr>\n",
       "      <th>1</th>\n",
       "      <td>Albania</td>\n",
       "      <td>ALB</td>\n",
       "      <td>2889167.0</td>\n",
       "      <td>3945.217582</td>\n",
       "    </tr>\n",
       "    <tr>\n",
       "      <th>2</th>\n",
       "      <td>Algeria</td>\n",
       "      <td>ALG</td>\n",
       "      <td>39666519.0</td>\n",
       "      <td>4206.031232</td>\n",
       "    </tr>\n",
       "    <tr>\n",
       "      <th>3</th>\n",
       "      <td>American Samoa*</td>\n",
       "      <td>ASA</td>\n",
       "      <td>55538.0</td>\n",
       "      <td>NaN</td>\n",
       "    </tr>\n",
       "    <tr>\n",
       "      <th>4</th>\n",
       "      <td>Andorra</td>\n",
       "      <td>AND</td>\n",
       "      <td>70473.0</td>\n",
       "      <td>NaN</td>\n",
       "    </tr>\n",
       "  </tbody>\n",
       "</table>\n",
       "</div>"
      ],
      "text/plain": [
       "           country code  population  gdp_per_capita\n",
       "0      Afghanistan  AFG  32526562.0      594.323081\n",
       "1          Albania  ALB   2889167.0     3945.217582\n",
       "2          Algeria  ALG  39666519.0     4206.031232\n",
       "3  American Samoa*  ASA     55538.0             NaN\n",
       "4          Andorra  AND     70473.0             NaN"
      ]
     },
     "execution_count": 74,
     "metadata": {},
     "output_type": "execute_result"
    }
   ],
   "source": [
    "#Check countries data frame with header record\n",
    "countries.head()"
   ]
  },
  {
   "cell_type": "markdown",
   "metadata": {},
   "source": [
    "Country data frame shows the country name with national code, population and GDP per capital.\n",
    "By looking at the first five records, gdp_per_capita will contain a Null value which may need to apply to handle later on."
   ]
  },
  {
   "cell_type": "markdown",
   "metadata": {},
   "source": [
    "***"
   ]
  },
  {
   "cell_type": "markdown",
   "metadata": {},
   "source": [
    "# DATA PREPARATION<a id='prepare'></a>"
   ]
  },
  {
   "cell_type": "markdown",
   "metadata": {},
   "source": [
    "We'll now look at each dataset one by one to see more details about the data contained in each column and its type. To do this, we'll import a custom function from a module we wrote in another project."
   ]
  },
  {
   "cell_type": "markdown",
   "metadata": {},
   "source": [
    "## Happy 2016 Dataframe <a id='happy-2016'></a>"
   ]
  },
  {
   "cell_type": "markdown",
   "metadata": {},
   "source": [
    "Let's look into the Happy 2016 Dataframe in detail, starting with a data type check on all columns."
   ]
  },
  {
   "cell_type": "code",
   "execution_count": 75,
   "metadata": {},
   "outputs": [
    {
     "data": {
      "text/plain": [
       "Country                           object\n",
       "Region                            object\n",
       "Happiness Rank                     int64\n",
       "Happiness Score                  float64\n",
       "Lower Confidence Interval        float64\n",
       "Upper Confidence Interval        float64\n",
       "Economy (GDP per Capita)         float64\n",
       "Family                           float64\n",
       "Health (Life Expectancy)         float64\n",
       "Freedom                          float64\n",
       "Trust (Government Corruption)    float64\n",
       "Generosity                       float64\n",
       "Dystopia Residual                float64\n",
       "dtype: object"
      ]
     },
     "execution_count": 75,
     "metadata": {},
     "output_type": "execute_result"
    }
   ],
   "source": [
    "#Check Data type in Happy_2016 data frame\n",
    "happy_2016.dtypes"
   ]
  },
  {
   "cell_type": "markdown",
   "metadata": {},
   "source": [
    "After checking the data type, there is no casting required for this data frame."
   ]
  },
  {
   "cell_type": "markdown",
   "metadata": {},
   "source": [
    "### Rename Key Column <a id='rename_col_2016'></a>"
   ]
  },
  {
   "cell_type": "markdown",
   "metadata": {},
   "source": [
    "As mentioned earlier, column names are different in happy_2016 and happy_2017. All column names must align on both datasets to perform data checking. After checking the data type, there is no casting required for this data frame."
   ]
  },
  {
   "cell_type": "code",
   "execution_count": 76,
   "metadata": {},
   "outputs": [],
   "source": [
    "#rename happy_2016 column names\n",
    "#This transformation take care of space and bracket\n",
    "happy_2016 = happy_2016.rename(\n",
    "    columns={'Happiness Rank': 'Happiness_Rank', \n",
    "             'Happiness Score': 'Happiness_Score', \n",
    "             'Lower Confidence Interval': 'Lower_Confidence_Interval', \n",
    "             'Upper Confidence Interval': 'Upper_Confidence_Interval',\n",
    "             'Economy (GDP per Capita)': 'Economy_GDP_per_Capita', \n",
    "             'Health (Life Expectancy)': 'Health_Life Expectancy', \n",
    "             'Trust (Government Corruption)': 'Trust_Government_Corruption', \n",
    "             'Dystopia Residual': 'Dystopia_Residual'})"
   ]
  },
  {
   "cell_type": "code",
   "execution_count": 77,
   "metadata": {},
   "outputs": [
    {
     "data": {
      "text/plain": [
       "Index(['Country', 'Region', 'Happiness_Rank', 'Happiness_Score',\n",
       "       'Lower_Confidence_Interval', 'Upper_Confidence_Interval',\n",
       "       'Economy_GDP_per_Capita', 'Family', 'Health_Life Expectancy', 'Freedom',\n",
       "       'Trust_Government_Corruption', 'Generosity', 'Dystopia_Residual'],\n",
       "      dtype='object')"
      ]
     },
     "execution_count": 77,
     "metadata": {},
     "output_type": "execute_result"
    }
   ],
   "source": [
    "#Validate the results\n",
    "happy_2016.columns"
   ]
  },
  {
   "cell_type": "markdown",
   "metadata": {},
   "source": [
    "## Happy 2017 Dataframe<a id='happy-2017'></a>"
   ]
  },
  {
   "cell_type": "markdown",
   "metadata": {},
   "source": [
    "Let's look into the Happy 2017 Dataframe in detail, starting with a data type check on all columns."
   ]
  },
  {
   "cell_type": "code",
   "execution_count": 78,
   "metadata": {},
   "outputs": [
    {
     "data": {
      "text/plain": [
       "Country                           object\n",
       "Happiness.Rank                     int64\n",
       "Happiness.Score                  float64\n",
       "Whisker.high                     float64\n",
       "Whisker.low                      float64\n",
       "Economy..GDP.per.Capita.         float64\n",
       "Family                           float64\n",
       "Health..Life.Expectancy.         float64\n",
       "Freedom                          float64\n",
       "Generosity                       float64\n",
       "Trust..Government.Corruption.    float64\n",
       "Dystopia.Residual                float64\n",
       "dtype: object"
      ]
     },
     "execution_count": 78,
     "metadata": {},
     "output_type": "execute_result"
    }
   ],
   "source": [
    "#Check Data type in Happy_2017 data frame\n",
    "happy_2017.dtypes"
   ]
  },
  {
   "cell_type": "markdown",
   "metadata": {},
   "source": [
    "After checking the data type, there is no casting required for this data frame."
   ]
  },
  {
   "cell_type": "markdown",
   "metadata": {},
   "source": [
    "### Rename Key Column<a id='rename_col_2017'></a>"
   ]
  },
  {
   "cell_type": "markdown",
   "metadata": {},
   "source": [
    "Similar to the previous session, the year_2017 dataset almost requires data cleansing on column names."
   ]
  },
  {
   "cell_type": "code",
   "execution_count": 79,
   "metadata": {},
   "outputs": [],
   "source": [
    "#rename happy_2017 column names\n",
    "#This transformation take care of space and bracket\n",
    "happy_2017 = happy_2017.rename(\n",
    "    columns={'Happiness.Rank': 'Happiness_Rank', \n",
    "             'Happiness.Score': 'Happiness_Score', \n",
    "             'Whisker.low': 'Lower_Confidence_Interval', \n",
    "             'Whisker.high': 'Upper_Confidence_Interval',\n",
    "             'Economy..GDP.per.Capita.': 'Economy_GDP_per_Capita', \n",
    "             'Health..Life.Expectancy.': 'Health_Life Expectancy', \n",
    "             'Trust..Government.Corruption.': 'Trust_Government_Corruption', \n",
    "             'Dystopia.Residual': 'Dystopia_Residual'})"
   ]
  },
  {
   "cell_type": "code",
   "execution_count": 80,
   "metadata": {},
   "outputs": [
    {
     "data": {
      "text/plain": [
       "Index(['Country', 'Happiness_Rank', 'Happiness_Score',\n",
       "       'Upper_Confidence_Interval', 'Lower_Confidence_Interval',\n",
       "       'Economy_GDP_per_Capita', 'Family', 'Health_Life Expectancy', 'Freedom',\n",
       "       'Generosity', 'Trust_Government_Corruption', 'Dystopia_Residual'],\n",
       "      dtype='object')"
      ]
     },
     "execution_count": 80,
     "metadata": {},
     "output_type": "execute_result"
    }
   ],
   "source": [
    "#double check result\n",
    "happy_2017.columns"
   ]
  },
  {
   "cell_type": "markdown",
   "metadata": {},
   "source": [
    "### Align country name  <a id='col_2017'></a>"
   ]
  },
  {
   "cell_type": "markdown",
   "metadata": {},
   "source": [
    "There are value different on Country in year 2016 and 2017, by using the diff functions. We found.\n",
    "- Hong Kong\n",
    "- Taiwan"
   ]
  },
  {
   "cell_type": "code",
   "execution_count": 81,
   "metadata": {},
   "outputs": [
    {
     "data": {
      "text/plain": [
       "{'Comoros',\n",
       " 'Hong Kong',\n",
       " 'Laos',\n",
       " 'Puerto Rico',\n",
       " 'Somaliland Region',\n",
       " 'Suriname',\n",
       " 'Taiwan'}"
      ]
     },
     "execution_count": 81,
     "metadata": {},
     "output_type": "execute_result"
    }
   ],
   "source": [
    "set(happy_2016['Country'].unique())-set(happy_2017['Country'].unique())"
   ]
  },
  {
   "cell_type": "code",
   "execution_count": 82,
   "metadata": {},
   "outputs": [
    {
     "data": {
      "text/plain": [
       "{'Central African Republic',\n",
       " 'Hong Kong S.A.R., China',\n",
       " 'Lesotho',\n",
       " 'Mozambique',\n",
       " 'Taiwan Province of China'}"
      ]
     },
     "execution_count": 82,
     "metadata": {},
     "output_type": "execute_result"
    }
   ],
   "source": [
    "set(happy_2017['Country'].unique())-set(happy_2016['Country'].unique())"
   ]
  },
  {
   "cell_type": "code",
   "execution_count": 83,
   "metadata": {},
   "outputs": [
    {
     "name": "stderr",
     "output_type": "stream",
     "text": [
      "<ipython-input-83-38a310cf4424>:1: SettingWithCopyWarning: \n",
      "A value is trying to be set on a copy of a slice from a DataFrame\n",
      "\n",
      "See the caveats in the documentation: https://pandas.pydata.org/pandas-docs/stable/user_guide/indexing.html#returning-a-view-versus-a-copy\n",
      "  happy_2017['Country'][happy_2017['Country'] == 'Taiwan Province of China']  = 'Taiwan'\n",
      "<ipython-input-83-38a310cf4424>:2: SettingWithCopyWarning: \n",
      "A value is trying to be set on a copy of a slice from a DataFrame\n",
      "\n",
      "See the caveats in the documentation: https://pandas.pydata.org/pandas-docs/stable/user_guide/indexing.html#returning-a-view-versus-a-copy\n",
      "  happy_2017['Country'][happy_2017['Country'] == 'Hong Kong S.A.R., China']  = 'Hong Kong'\n"
     ]
    }
   ],
   "source": [
    "happy_2017['Country'][happy_2017['Country'] == 'Taiwan Province of China']  = 'Taiwan'\n",
    "happy_2017['Country'][happy_2017['Country'] == 'Hong Kong S.A.R., China']  = 'Hong Kong'"
   ]
  },
  {
   "cell_type": "code",
   "execution_count": 84,
   "metadata": {},
   "outputs": [
    {
     "data": {
      "text/plain": [
       "{'Central African Republic', 'Lesotho', 'Mozambique'}"
      ]
     },
     "execution_count": 84,
     "metadata": {},
     "output_type": "execute_result"
    }
   ],
   "source": [
    "set(happy_2017['Country'].unique())-set(happy_2016['Country'].unique())"
   ]
  },
  {
   "cell_type": "markdown",
   "metadata": {},
   "source": [
    "## Athletes Dataframe<a id='athletes'></a>"
   ]
  },
  {
   "cell_type": "markdown",
   "metadata": {},
   "source": [
    "Examine the Athlete table and check on its columns."
   ]
  },
  {
   "cell_type": "code",
   "execution_count": 85,
   "metadata": {
    "scrolled": true
   },
   "outputs": [
    {
     "data": {
      "text/plain": [
       "id               int64\n",
       "name            object\n",
       "nationality     object\n",
       "sex             object\n",
       "dob             object\n",
       "height         float64\n",
       "weight         float64\n",
       "sport           object\n",
       "gold             int64\n",
       "silver           int64\n",
       "bronze           int64\n",
       "dtype: object"
      ]
     },
     "execution_count": 85,
     "metadata": {},
     "output_type": "execute_result"
    }
   ],
   "source": [
    "#Check Data type in Happy_2016 data frame\n",
    "athletes.dtypes"
   ]
  },
  {
   "cell_type": "markdown",
   "metadata": {},
   "source": [
    "### Data Selection<a id='select_athletes'></a>"
   ]
  },
  {
   "cell_type": "markdown",
   "metadata": {},
   "source": [
    "For our analysis purpose, we only focus on several dataset columns. We create a subset of data with Nationality, gold, silver, bronze for analysis usage."
   ]
  },
  {
   "cell_type": "code",
   "execution_count": 86,
   "metadata": {},
   "outputs": [],
   "source": [
    "#Create subset of dataframe athlete1 which only contains 4 columns below\n",
    "athletes1 = athletes[[\"nationality\",\"gold\",\"silver\",\"bronze\"]]"
   ]
  },
  {
   "cell_type": "markdown",
   "metadata": {},
   "source": [
    "### Create Medal Count for analysis purpose<a id='create_col_athletes'></a>"
   ]
  },
  {
   "cell_type": "markdown",
   "metadata": {},
   "source": [
    "Since our analysis is on the country level, athlete tables contain multiple records per nationality; we provide a grouping by nationality and medal count for further analysis."
   ]
  },
  {
   "cell_type": "code",
   "execution_count": 87,
   "metadata": {},
   "outputs": [],
   "source": [
    "#Create medals counts from athletes1 dataframe with group up nationality\n",
    "medals = athletes1.groupby(by='nationality', axis=0, as_index=False).sum()\n",
    "\n",
    "#Create new series as total medal onto the medals dataset\n",
    "medals['total_medals'] = medals['gold'] + medals['silver'] + medals['bronze']"
   ]
  },
  {
   "cell_type": "code",
   "execution_count": 88,
   "metadata": {},
   "outputs": [
    {
     "data": {
      "text/html": [
       "<div>\n",
       "<style scoped>\n",
       "    .dataframe tbody tr th:only-of-type {\n",
       "        vertical-align: middle;\n",
       "    }\n",
       "\n",
       "    .dataframe tbody tr th {\n",
       "        vertical-align: top;\n",
       "    }\n",
       "\n",
       "    .dataframe thead th {\n",
       "        text-align: right;\n",
       "    }\n",
       "</style>\n",
       "<table border=\"1\" class=\"dataframe\">\n",
       "  <thead>\n",
       "    <tr style=\"text-align: right;\">\n",
       "      <th></th>\n",
       "      <th>nationality</th>\n",
       "      <th>gold</th>\n",
       "      <th>silver</th>\n",
       "      <th>bronze</th>\n",
       "      <th>total_medals</th>\n",
       "    </tr>\n",
       "  </thead>\n",
       "  <tbody>\n",
       "    <tr>\n",
       "      <th>0</th>\n",
       "      <td>AFG</td>\n",
       "      <td>0</td>\n",
       "      <td>0</td>\n",
       "      <td>0</td>\n",
       "      <td>0</td>\n",
       "    </tr>\n",
       "    <tr>\n",
       "      <th>1</th>\n",
       "      <td>ALB</td>\n",
       "      <td>0</td>\n",
       "      <td>0</td>\n",
       "      <td>0</td>\n",
       "      <td>0</td>\n",
       "    </tr>\n",
       "    <tr>\n",
       "      <th>2</th>\n",
       "      <td>ALG</td>\n",
       "      <td>0</td>\n",
       "      <td>2</td>\n",
       "      <td>0</td>\n",
       "      <td>2</td>\n",
       "    </tr>\n",
       "    <tr>\n",
       "      <th>3</th>\n",
       "      <td>AND</td>\n",
       "      <td>0</td>\n",
       "      <td>0</td>\n",
       "      <td>0</td>\n",
       "      <td>0</td>\n",
       "    </tr>\n",
       "    <tr>\n",
       "      <th>4</th>\n",
       "      <td>ANG</td>\n",
       "      <td>0</td>\n",
       "      <td>0</td>\n",
       "      <td>0</td>\n",
       "      <td>0</td>\n",
       "    </tr>\n",
       "  </tbody>\n",
       "</table>\n",
       "</div>"
      ],
      "text/plain": [
       "  nationality  gold  silver  bronze  total_medals\n",
       "0         AFG     0       0       0             0\n",
       "1         ALB     0       0       0             0\n",
       "2         ALG     0       2       0             2\n",
       "3         AND     0       0       0             0\n",
       "4         ANG     0       0       0             0"
      ]
     },
     "execution_count": 88,
     "metadata": {},
     "output_type": "execute_result"
    }
   ],
   "source": [
    "#Check Medal table after transformation\n",
    "medals.head()"
   ]
  },
  {
   "cell_type": "markdown",
   "metadata": {},
   "source": [
    "## Countries Dataframe<a id='countries'></a>"
   ]
  },
  {
   "cell_type": "code",
   "execution_count": 89,
   "metadata": {},
   "outputs": [
    {
     "data": {
      "text/plain": [
       "country            object\n",
       "code               object\n",
       "population        float64\n",
       "gdp_per_capita    float64\n",
       "dtype: object"
      ]
     },
     "execution_count": 89,
     "metadata": {},
     "output_type": "execute_result"
    }
   ],
   "source": [
    "#Check on the countries data type\n",
    "countries.dtypes"
   ]
  },
  {
   "cell_type": "markdown",
   "metadata": {},
   "source": [
    "### Sync nationality between Country and Medals <a id='sync_national'></a>"
   ]
  },
  {
   "cell_type": "code",
   "execution_count": 90,
   "metadata": {},
   "outputs": [
    {
     "data": {
      "text/plain": [
       "{'IOA', 'KIR', 'KOS', 'MHL', 'MNE', 'ROT', 'ROU', 'SRB', 'SSD', 'TTO', 'TUV'}"
      ]
     },
     "execution_count": 90,
     "metadata": {},
     "output_type": "execute_result"
    }
   ],
   "source": [
    "#data cleansing - find out if there is nay unmatch nationality and country\n",
    "set(medals['nationality'].unique())-set(countries['code'].unique())"
   ]
  },
  {
   "cell_type": "code",
   "execution_count": 91,
   "metadata": {},
   "outputs": [
    {
     "data": {
      "text/plain": [
       "{'AHO', 'KUW', 'ROM', 'SCG', 'TRI'}"
      ]
     },
     "execution_count": 91,
     "metadata": {},
     "output_type": "execute_result"
    }
   ],
   "source": [
    "set(countries['code'].unique())-set(medals['nationality'].unique())"
   ]
  },
  {
   "cell_type": "code",
   "execution_count": 92,
   "metadata": {},
   "outputs": [],
   "source": [
    "extra_countries1 = {'country': 'Independent Olympic Athletes', 'code':'IOA' }\n",
    "extra_countries2 = {'country': 'Kiribati', 'code':'KIR' }\n",
    "extra_countries3 = {'country': 'Kosovo', 'code':'KOS' }\n",
    "extra_countries4 = {'country': 'Marshall Islands', 'code':'MHL' }\n",
    "extra_countries5 = {'country': 'Montenegro', 'code':'MNE' }\n",
    "extra_countries6 = {'country': 'Refugee Olympic Team', 'code':'ROT' }\n",
    "extra_countries7 = {'country': 'Romania', 'code':'ROU' }\n",
    "extra_countries8 = {'country': 'Serbia', 'code':'SRB' }\n",
    "extra_countries9 = {'country': 'South Sudan', 'code':'SSD' }\n",
    "extra_countries10 = {'country': 'Trinidad and Tobago', 'code':'TTO' }\n",
    "extra_countries11 = {'country': 'Tuvalu', 'code':'TUV' }\n",
    "\n",
    "countries = countries.append(extra_countries1, ignore_index=True)\n",
    "countries = countries.append(extra_countries2, ignore_index=True)\n",
    "countries = countries.append(extra_countries3, ignore_index=True)\n",
    "countries = countries.append(extra_countries4, ignore_index=True)\n",
    "countries = countries.append(extra_countries5, ignore_index=True)\n",
    "countries = countries.append(extra_countries6, ignore_index=True)\n",
    "countries = countries.append(extra_countries7, ignore_index=True)\n",
    "countries = countries.append(extra_countries8, ignore_index=True)\n",
    "countries = countries.append(extra_countries9, ignore_index=True)\n",
    "countries = countries.append(extra_countries10, ignore_index=True)\n",
    "countries = countries.append(extra_countries11, ignore_index=True)"
   ]
  },
  {
   "cell_type": "code",
   "execution_count": 93,
   "metadata": {},
   "outputs": [
    {
     "data": {
      "text/plain": [
       "212"
      ]
     },
     "execution_count": 93,
     "metadata": {},
     "output_type": "execute_result"
    }
   ],
   "source": [
    "len(countries)"
   ]
  },
  {
   "cell_type": "code",
   "execution_count": 94,
   "metadata": {},
   "outputs": [
    {
     "data": {
      "text/html": [
       "<div>\n",
       "<style scoped>\n",
       "    .dataframe tbody tr th:only-of-type {\n",
       "        vertical-align: middle;\n",
       "    }\n",
       "\n",
       "    .dataframe tbody tr th {\n",
       "        vertical-align: top;\n",
       "    }\n",
       "\n",
       "    .dataframe thead th {\n",
       "        text-align: right;\n",
       "    }\n",
       "</style>\n",
       "<table border=\"1\" class=\"dataframe\">\n",
       "  <thead>\n",
       "    <tr style=\"text-align: right;\">\n",
       "      <th></th>\n",
       "      <th>country</th>\n",
       "      <th>code</th>\n",
       "      <th>population</th>\n",
       "      <th>gdp_per_capita</th>\n",
       "    </tr>\n",
       "  </thead>\n",
       "  <tbody>\n",
       "    <tr>\n",
       "      <th>201</th>\n",
       "      <td>Independent Olympic Athletes</td>\n",
       "      <td>IOA</td>\n",
       "      <td>NaN</td>\n",
       "      <td>NaN</td>\n",
       "    </tr>\n",
       "    <tr>\n",
       "      <th>202</th>\n",
       "      <td>Kiribati</td>\n",
       "      <td>KIR</td>\n",
       "      <td>NaN</td>\n",
       "      <td>NaN</td>\n",
       "    </tr>\n",
       "    <tr>\n",
       "      <th>203</th>\n",
       "      <td>Kosovo</td>\n",
       "      <td>KOS</td>\n",
       "      <td>NaN</td>\n",
       "      <td>NaN</td>\n",
       "    </tr>\n",
       "    <tr>\n",
       "      <th>204</th>\n",
       "      <td>Marshall Islands</td>\n",
       "      <td>MHL</td>\n",
       "      <td>NaN</td>\n",
       "      <td>NaN</td>\n",
       "    </tr>\n",
       "    <tr>\n",
       "      <th>205</th>\n",
       "      <td>Montenegro</td>\n",
       "      <td>MNE</td>\n",
       "      <td>NaN</td>\n",
       "      <td>NaN</td>\n",
       "    </tr>\n",
       "    <tr>\n",
       "      <th>206</th>\n",
       "      <td>Refugee Olympic Team</td>\n",
       "      <td>ROT</td>\n",
       "      <td>NaN</td>\n",
       "      <td>NaN</td>\n",
       "    </tr>\n",
       "    <tr>\n",
       "      <th>207</th>\n",
       "      <td>Romania</td>\n",
       "      <td>ROU</td>\n",
       "      <td>NaN</td>\n",
       "      <td>NaN</td>\n",
       "    </tr>\n",
       "    <tr>\n",
       "      <th>208</th>\n",
       "      <td>Serbia</td>\n",
       "      <td>SRB</td>\n",
       "      <td>NaN</td>\n",
       "      <td>NaN</td>\n",
       "    </tr>\n",
       "    <tr>\n",
       "      <th>209</th>\n",
       "      <td>South Sudan</td>\n",
       "      <td>SSD</td>\n",
       "      <td>NaN</td>\n",
       "      <td>NaN</td>\n",
       "    </tr>\n",
       "    <tr>\n",
       "      <th>210</th>\n",
       "      <td>Trinidad and Tobago</td>\n",
       "      <td>TTO</td>\n",
       "      <td>NaN</td>\n",
       "      <td>NaN</td>\n",
       "    </tr>\n",
       "    <tr>\n",
       "      <th>211</th>\n",
       "      <td>Tuvalu</td>\n",
       "      <td>TUV</td>\n",
       "      <td>NaN</td>\n",
       "      <td>NaN</td>\n",
       "    </tr>\n",
       "  </tbody>\n",
       "</table>\n",
       "</div>"
      ],
      "text/plain": [
       "                          country code  population  gdp_per_capita\n",
       "201  Independent Olympic Athletes  IOA         NaN             NaN\n",
       "202                      Kiribati  KIR         NaN             NaN\n",
       "203                        Kosovo  KOS         NaN             NaN\n",
       "204              Marshall Islands  MHL         NaN             NaN\n",
       "205                    Montenegro  MNE         NaN             NaN\n",
       "206          Refugee Olympic Team  ROT         NaN             NaN\n",
       "207                       Romania  ROU         NaN             NaN\n",
       "208                        Serbia  SRB         NaN             NaN\n",
       "209                   South Sudan  SSD         NaN             NaN\n",
       "210           Trinidad and Tobago  TTO         NaN             NaN\n",
       "211                        Tuvalu  TUV         NaN             NaN"
      ]
     },
     "execution_count": 94,
     "metadata": {},
     "output_type": "execute_result"
    }
   ],
   "source": [
    "#double check the update of nationality \n",
    "countries[countries[\"code\"].str.\n",
    "          contains(\"IOA|KIR|KOS|MHL|MNE|ROT|ROU|SRB|SSD|TTO|TUV\")]"
   ]
  },
  {
   "cell_type": "markdown",
   "metadata": {},
   "source": [
    "***"
   ]
  },
  {
   "cell_type": "markdown",
   "metadata": {},
   "source": [
    "# COMBINE THE DATASETS<a id='combine'></a>"
   ]
  },
  {
   "cell_type": "markdown",
   "metadata": {},
   "source": [
    "Finally, we can now manipulate the data frame above and turn them into meaningful datasets. Before starting the merge, let's quickly visualize the number of rows in each cleaned dataset, which can help us decide which join strategies (left, right, inner, or outer).\n",
    "\n",
    "To perform correlation, here have three datasets required as below: \n",
    "- Blend two sets of happiness data together - happy_2016 + happy_2017\n",
    "- Join Olympic Game tables into one data frame- countries + medals (aggregated from athletes)\n",
    "- Combine the above two tables for correlation analysis\n",
    "\n",
    "We will discuss these steps one by one."
   ]
  },
  {
   "cell_type": "markdown",
   "metadata": {},
   "source": [
    "## 1.Combine dataset - happiness data <a id='combine_happy'></a>"
   ]
  },
  {
   "cell_type": "markdown",
   "metadata": {},
   "source": [
    "After cleaning the happiness data, we could first check for the row count of the key (country) from both tables."
   ]
  },
  {
   "cell_type": "code",
   "execution_count": 105,
   "metadata": {},
   "outputs": [
    {
     "data": {
      "image/png": "[encoded data removed]",
      "text/plain": [
       "<Figure size 432x288 with 1 Axes>"
      ]
     },
     "metadata": {
      "needs_background": "light"
     },
     "output_type": "display_data"
    }
   ],
   "source": [
    "table = ['Happy 2016','Happy 2017']\n",
    "unique_key = [happy_2016['Country'].nunique(),happy_2017['Country'].nunique()]\n",
    "plots = sns.barplot(x=table, y=unique_key)\n",
    "for bar in plots.patches:\n",
    "    plots.annotate(bar.get_height(),\n",
    "                   (bar.get_x() + bar.get_width() / 2,\n",
    "                    bar.get_height()), ha='center', va='center',\n",
    "                   size=14, xytext=(0, -10),\n",
    "                   textcoords='offset points')\n",
    "plt.xlabel(\"Tables\", size=12)\n",
    "plt.ylabel(\"Unique Key Count\", size=12)\n",
    "plt.title(\"Unique Key Count in Happiness Tables\", size=18)\n",
    "plt.show()"
   ]
  },
  {
   "cell_type": "markdown",
   "metadata": {},
   "source": [
    "The critical value count on both tables is unmatched. We could take a closer look at the unmatched value before merging them."
   ]
  },
  {
   "cell_type": "code",
   "execution_count": 106,
   "metadata": {},
   "outputs": [
    {
     "data": {
      "text/plain": [
       "{'Comoros', 'Laos', 'Puerto Rico', 'Somaliland Region', 'Suriname'}"
      ]
     },
     "execution_count": 106,
     "metadata": {},
     "output_type": "execute_result"
    }
   ],
   "source": [
    "set(happy_2016['Country'].unique())-set(happy_2017['Country'].unique())"
   ]
  },
  {
   "cell_type": "code",
   "execution_count": 107,
   "metadata": {},
   "outputs": [
    {
     "data": {
      "text/plain": [
       "{'Central African Republic', 'Lesotho', 'Mozambique'}"
      ]
     },
     "execution_count": 107,
     "metadata": {},
     "output_type": "execute_result"
    }
   ],
   "source": [
    "set(happy_2017['Country'].unique())-set(happy_2016['Country'].unique())"
   ]
  },
  {
   "cell_type": "markdown",
   "metadata": {},
   "source": [
    "From the result above, we notice that both tables have unmatched countries. The odd columns are around __5% of the total row counts__. We would decide to keep all data first to try to match the Olympic Game data in a later stage. Therefore, we will merge the happiness data \"happy_2016\" and \"happy_2017\" into \"happy_compare_clean\" by using outer join to keep all the data first."
   ]
  },
  {
   "cell_type": "code",
   "execution_count": 108,
   "metadata": {},
   "outputs": [
    {
     "data": {
      "text/plain": [
       "0"
      ]
     },
     "execution_count": 108,
     "metadata": {},
     "output_type": "execute_result"
    }
   ],
   "source": [
    "happy_compare_clean = pd.merge(happy_2016, happy_2017, \n",
    "                               how='outer', on='Country', \n",
    "                               suffixes=('_2016', '_2017'))\n",
    "##check any duplicated rows\n",
    "len(happy_compare_clean) - happy_compare_clean['Country'].nunique()"
   ]
  },
  {
   "cell_type": "markdown",
   "metadata": {},
   "source": [
    "***"
   ]
  },
  {
   "cell_type": "markdown",
   "metadata": {},
   "source": [
    "## 2. Combine dataset - Olympic Game data<a id='combine_olympic'></a>"
   ]
  },
  {
   "cell_type": "markdown",
   "metadata": {},
   "source": [
    "There are two tables source from Olympic Game,  \"athletes\" and \"countries\". From the cleaning process, we aggregated the \"athletes\" data into \"medals\", so we would try to combine the \"medals\" and \"countries\" tables.\n",
    "\n",
    "First of all, we should define the key in both tables. In this case, the key is that two tables are not in the same name. The key of the two tables are as follow:\n",
    "- Medals table -> nationality\n",
    "- Countries table -> code"
   ]
  },
  {
   "cell_type": "code",
   "execution_count": 109,
   "metadata": {},
   "outputs": [
    {
     "data": {
      "image/png": "[encoded data removed]",
      "text/plain": [
       "<Figure size 432x288 with 1 Axes>"
      ]
     },
     "metadata": {
      "needs_background": "light"
     },
     "output_type": "display_data"
    }
   ],
   "source": [
    "table = ['Medals','Countries']\n",
    "unique_key = [medals['nationality'].nunique(),countries['code'].nunique()]\n",
    "plots = sns.barplot(x=table, y=unique_key)\n",
    "for bar in plots.patches:\n",
    "    plots.annotate(bar.get_height(),\n",
    "                   (bar.get_x() + bar.get_width() / 2,\n",
    "                    bar.get_height()), ha='center', va='center',\n",
    "                   size=14, xytext=(0, -10),\n",
    "                   textcoords='offset points')\n",
    "plt.xlabel(\"Tables\", size=12)\n",
    "plt.ylabel(\"Unique Key Count\", size=12)\n",
    "plt.title(\"Unique Key Count in Olympic Game Tables\", size=18)\n",
    "plt.show()"
   ]
  },
  {
   "cell_type": "markdown",
   "metadata": {},
   "source": [
    "The critical value count of both tables are unmatched, and we could take a closer look before merging them."
   ]
  },
  {
   "cell_type": "code",
   "execution_count": 110,
   "metadata": {},
   "outputs": [
    {
     "data": {
      "text/plain": [
       "set()"
      ]
     },
     "execution_count": 110,
     "metadata": {},
     "output_type": "execute_result"
    }
   ],
   "source": [
    "set(medals['nationality'].unique())-set(countries['code'].unique())"
   ]
  },
  {
   "cell_type": "code",
   "execution_count": 111,
   "metadata": {},
   "outputs": [
    {
     "data": {
      "text/plain": [
       "{'AHO', 'KUW', 'ROM', 'SCG', 'TRI'}"
      ]
     },
     "execution_count": 111,
     "metadata": {},
     "output_type": "execute_result"
    }
   ],
   "source": [
    "set(countries['code'].unique())-set(medals['nationality'].unique())"
   ]
  },
  {
   "cell_type": "markdown",
   "metadata": {},
   "source": [
    "From the result of the above checking, we notice that there is unmatched countries appearted in countries table. The odd columns are around __2% of the total row counts__. However, we would only consider the countries with medals. The countries are not appearing on the medals table can be ignored. Therefore, we will merge the Olympic data \"medals\" and \"countries\" into \"Olympic\" by using left join to keep all the medal related data first."
   ]
  },
  {
   "cell_type": "code",
   "execution_count": 112,
   "metadata": {},
   "outputs": [
    {
     "data": {
      "text/plain": [
       "0"
      ]
     },
     "execution_count": 112,
     "metadata": {},
     "output_type": "execute_result"
    }
   ],
   "source": [
    "olympic = pd.merge(medals, countries, how='left', \n",
    "                   left_on='nationality', right_on='code')\n",
    "##check any duplicated rows\n",
    "len(olympic) - olympic['nationality'].nunique()"
   ]
  },
  {
   "cell_type": "markdown",
   "metadata": {},
   "source": [
    "***"
   ]
  },
  {
   "cell_type": "markdown",
   "metadata": {},
   "source": [
    "### 3. Combine dataset - Happiness Clean and Olympic Clean <a id='combine_happy_olymic'></a>"
   ]
  },
  {
   "cell_type": "markdown",
   "metadata": {},
   "source": [
    "We combine the previous two clean datasets into a single dataset for analysis and correlation check. Let's check on the value count on both data set, and we are using the country value for mapping purposes."
   ]
  },
  {
   "cell_type": "code",
   "execution_count": 113,
   "metadata": {},
   "outputs": [
    {
     "data": {
      "image/png": "[encoded data removed]",
      "text/plain": [
       "<Figure size 432x288 with 1 Axes>"
      ]
     },
     "metadata": {
      "needs_background": "light"
     },
     "output_type": "display_data"
    }
   ],
   "source": [
    "table = ['Olympic','Happy Compare Clean']\n",
    "unique_key = [olympic['country'].nunique(),happy_compare_clean['Country'].nunique()]\n",
    "plots = sns.barplot(x=table, y=unique_key)\n",
    "for bar in plots.patches:\n",
    "    plots.annotate(bar.get_height(),\n",
    "                   (bar.get_x() + bar.get_width() / 2,\n",
    "                    bar.get_height()), ha='center', va='center',\n",
    "                   size=14, xytext=(0, -10),\n",
    "                   textcoords='offset points')\n",
    "plt.xlabel(\"Tables\", size=12)\n",
    "plt.ylabel(\"Unique Key Count\", size=12)\n",
    "plt.title(\"Unique Key Count in two Dataset\", size=18)\n",
    "plt.show()"
   ]
  },
  {
   "cell_type": "markdown",
   "metadata": {},
   "source": [
    "The critical value count of both tables are mismatched, and let investigate before further actions."
   ]
  },
  {
   "cell_type": "code",
   "execution_count": 117,
   "metadata": {
    "scrolled": true
   },
   "outputs": [
    {
     "data": {
      "text/plain": [
       "{'American Samoa',\n",
       " 'Andorra',\n",
       " 'Antigua and Barbuda',\n",
       " 'Aruba',\n",
       " 'Bahamas',\n",
       " 'Barbados',\n",
       " 'Bermuda',\n",
       " 'British Virgin Islands',\n",
       " 'Brunei',\n",
       " 'Burma',\n",
       " 'Cape Verde',\n",
       " 'Cayman Islands',\n",
       " 'Congo',\n",
       " 'Congo, Dem Rep',\n",
       " 'Cook Islands',\n",
       " \"Cote d'Ivoire\",\n",
       " 'Cuba',\n",
       " 'Djibouti',\n",
       " 'Dominica',\n",
       " 'East Timor (Timor-Leste)',\n",
       " 'Equatorial Guinea',\n",
       " 'Eritrea',\n",
       " 'Fiji',\n",
       " 'Gambia',\n",
       " 'Grenada',\n",
       " 'Guam',\n",
       " 'Guinea-Bissau',\n",
       " 'Guyana',\n",
       " 'Independent Olympic Athletes',\n",
       " 'Kiribati',\n",
       " 'Korea, North',\n",
       " 'Liechtenstein',\n",
       " 'Maldives',\n",
       " 'Marshall Islands',\n",
       " 'Micronesia',\n",
       " 'Monaco',\n",
       " 'Nauru',\n",
       " 'Oman',\n",
       " 'Palau',\n",
       " 'Palestine, Occupied Territories',\n",
       " 'Papua New Guinea',\n",
       " 'Refugee Olympic Team',\n",
       " 'Saint Kitts and Nevis',\n",
       " 'Saint Lucia',\n",
       " 'Saint Vincent and the Grenadines',\n",
       " 'Samoa',\n",
       " 'San Marino',\n",
       " 'Sao Tome and Principe',\n",
       " 'Seychelles',\n",
       " 'Solomon Islands',\n",
       " 'Swaziland',\n",
       " 'Tonga',\n",
       " 'Tuvalu',\n",
       " 'Vanuatu',\n",
       " 'Virgin Islands'}"
      ]
     },
     "execution_count": 117,
     "metadata": {},
     "output_type": "execute_result"
    }
   ],
   "source": [
    "set(olympic['country'].unique())-set(happy_compare_clean['Country'].unique())"
   ]
  },
  {
   "cell_type": "code",
   "execution_count": 115,
   "metadata": {},
   "outputs": [
    {
     "data": {
      "text/plain": [
       "{'Congo (Brazzaville)',\n",
       " 'Congo (Kinshasa)',\n",
       " 'Ivory Coast',\n",
       " 'Kuwait',\n",
       " 'Myanmar',\n",
       " 'North Cyprus',\n",
       " 'Palestinian Territories',\n",
       " 'Somaliland Region'}"
      ]
     },
     "execution_count": 115,
     "metadata": {},
     "output_type": "execute_result"
    }
   ],
   "source": [
    "set(happy_compare_clean['Country'].unique())-set(olympic['country'].unique())"
   ]
  },
  {
   "cell_type": "markdown",
   "metadata": {},
   "source": [
    "From the result above, we notice that both tables have unmatched countries. The unmatched columns are around __23% of the total row counts__. We need further cleansing before joining two tables."
   ]
  },
  {
   "cell_type": "markdown",
   "metadata": {},
   "source": [
    "### Data cleansing before correlation"
   ]
  },
  {
   "cell_type": "markdown",
   "metadata": {},
   "source": [
    "After the investigation, some country names do not match on both datasets; for instance, Congo is used in Olympic while happiness uses Congo(Brazzaville). We will perform another data cleansing before combining these datasets.\n",
    "\n",
    "List of Unmatch table name\n",
    "- 'Congo' in olympic Congo(Brazzaville) in happiness_2016\n",
    "- 'Congo, Dem Rep' in olympic vs Congo(Kinshasa) in happiness_2016\n",
    "- Hong Kong* in olympic vs Hong Kong in happiness_2016\n",
    "- Puerto Rico* in olympic vs Puerto Rico in happiness_2016\n",
    "- Korea, South in olympic vs South Korea in happiness_2016"
   ]
  },
  {
   "cell_type": "markdown",
   "metadata": {},
   "source": [
    "1. Update the unmatched countries name"
   ]
  },
  {
   "cell_type": "code",
   "execution_count": 128,
   "metadata": {},
   "outputs": [
    {
     "name": "stderr",
     "output_type": "stream",
     "text": [
      "<ipython-input-128-18ef0f027dd1>:2: SettingWithCopyWarning: \n",
      "A value is trying to be set on a copy of a slice from a DataFrame\n",
      "\n",
      "See the caveats in the documentation: https://pandas.pydata.org/pandas-docs/stable/user_guide/indexing.html#returning-a-view-versus-a-copy\n",
      "  olympic['country'][olympic['country'] == 'Congo']  = 'Congo (Brazzaville)'\n",
      "<ipython-input-128-18ef0f027dd1>:3: SettingWithCopyWarning: \n",
      "A value is trying to be set on a copy of a slice from a DataFrame\n",
      "\n",
      "See the caveats in the documentation: https://pandas.pydata.org/pandas-docs/stable/user_guide/indexing.html#returning-a-view-versus-a-copy\n",
      "  olympic['country'][olympic['country'] == 'Congo, Dem Rep']  = 'Congo (Kinshasa)'\n",
      "<ipython-input-128-18ef0f027dd1>:5: SettingWithCopyWarning: \n",
      "A value is trying to be set on a copy of a slice from a DataFrame\n",
      "\n",
      "See the caveats in the documentation: https://pandas.pydata.org/pandas-docs/stable/user_guide/indexing.html#returning-a-view-versus-a-copy\n",
      "  olympic['country'][olympic['country'] == 'Korea, South']  = 'South Korea'\n"
     ]
    }
   ],
   "source": [
    "#Update Congo\n",
    "olympic['country'][olympic['country'] == 'Congo']  = 'Congo (Brazzaville)'\n",
    "olympic['country'][olympic['country'] == 'Congo, Dem Rep']  = 'Congo (Kinshasa)'\n",
    "#Korea, South in olympic vs South Korea in happiness_2016\n",
    "olympic['country'][olympic['country'] == 'Korea, South']  = 'South Korea'"
   ]
  },
  {
   "cell_type": "code",
   "execution_count": 129,
   "metadata": {},
   "outputs": [
    {
     "data": {
      "text/html": [
       "<div>\n",
       "<style scoped>\n",
       "    .dataframe tbody tr th:only-of-type {\n",
       "        vertical-align: middle;\n",
       "    }\n",
       "\n",
       "    .dataframe tbody tr th {\n",
       "        vertical-align: top;\n",
       "    }\n",
       "\n",
       "    .dataframe thead th {\n",
       "        text-align: right;\n",
       "    }\n",
       "</style>\n",
       "<table border=\"1\" class=\"dataframe\">\n",
       "  <thead>\n",
       "    <tr style=\"text-align: right;\">\n",
       "      <th></th>\n",
       "      <th>nationality</th>\n",
       "      <th>gold</th>\n",
       "      <th>silver</th>\n",
       "      <th>bronze</th>\n",
       "      <th>total_medals</th>\n",
       "      <th>country</th>\n",
       "      <th>code</th>\n",
       "      <th>population</th>\n",
       "      <th>gdp_per_capita</th>\n",
       "    </tr>\n",
       "  </thead>\n",
       "  <tbody>\n",
       "    <tr>\n",
       "      <th>81</th>\n",
       "      <td>HKG</td>\n",
       "      <td>0</td>\n",
       "      <td>0</td>\n",
       "      <td>0</td>\n",
       "      <td>0</td>\n",
       "      <td>Hong Kong</td>\n",
       "      <td>HKG</td>\n",
       "      <td>7305700.0</td>\n",
       "      <td>42327.839957</td>\n",
       "    </tr>\n",
       "    <tr>\n",
       "      <th>154</th>\n",
       "      <td>PUR</td>\n",
       "      <td>1</td>\n",
       "      <td>0</td>\n",
       "      <td>0</td>\n",
       "      <td>1</td>\n",
       "      <td>Puerto Rico</td>\n",
       "      <td>PUR</td>\n",
       "      <td>3474182.0</td>\n",
       "      <td>NaN</td>\n",
       "    </tr>\n",
       "  </tbody>\n",
       "</table>\n",
       "</div>"
      ],
      "text/plain": [
       "    nationality  gold  silver  bronze  total_medals      country code  \\\n",
       "81          HKG     0       0       0             0    Hong Kong  HKG   \n",
       "154         PUR     1       0       0             1  Puerto Rico  PUR   \n",
       "\n",
       "     population  gdp_per_capita  \n",
       "81    7305700.0    42327.839957  \n",
       "154   3474182.0             NaN  "
      ]
     },
     "execution_count": 129,
     "metadata": {},
     "output_type": "execute_result"
    }
   ],
   "source": [
    "#Validation check after remove asterisk\n",
    "olympic[olympic[\"country\"].str.\n",
    "          contains(\"Hong Kong|Puerto Rico\")] "
   ]
  },
  {
   "cell_type": "code",
   "execution_count": 130,
   "metadata": {},
   "outputs": [
    {
     "data": {
      "text/html": [
       "<div>\n",
       "<style scoped>\n",
       "    .dataframe tbody tr th:only-of-type {\n",
       "        vertical-align: middle;\n",
       "    }\n",
       "\n",
       "    .dataframe tbody tr th {\n",
       "        vertical-align: top;\n",
       "    }\n",
       "\n",
       "    .dataframe thead th {\n",
       "        text-align: right;\n",
       "    }\n",
       "</style>\n",
       "<table border=\"1\" class=\"dataframe\">\n",
       "  <thead>\n",
       "    <tr style=\"text-align: right;\">\n",
       "      <th></th>\n",
       "      <th>nationality</th>\n",
       "      <th>gold</th>\n",
       "      <th>silver</th>\n",
       "      <th>bronze</th>\n",
       "      <th>total_medals</th>\n",
       "      <th>country</th>\n",
       "      <th>code</th>\n",
       "      <th>population</th>\n",
       "      <th>gdp_per_capita</th>\n",
       "    </tr>\n",
       "  </thead>\n",
       "  <tbody>\n",
       "    <tr>\n",
       "      <th>102</th>\n",
       "      <td>KOR</td>\n",
       "      <td>13</td>\n",
       "      <td>3</td>\n",
       "      <td>10</td>\n",
       "      <td>26</td>\n",
       "      <td>South Korea</td>\n",
       "      <td>KOR</td>\n",
       "      <td>50617045.0</td>\n",
       "      <td>27221.524051</td>\n",
       "    </tr>\n",
       "  </tbody>\n",
       "</table>\n",
       "</div>"
      ],
      "text/plain": [
       "    nationality  gold  silver  bronze  total_medals      country code  \\\n",
       "102         KOR    13       3      10            26  South Korea  KOR   \n",
       "\n",
       "     population  gdp_per_capita  \n",
       "102  50617045.0    27221.524051  "
      ]
     },
     "execution_count": 130,
     "metadata": {},
     "output_type": "execute_result"
    }
   ],
   "source": [
    "# Validation check on South Korea\n",
    "olympic[olympic['country'] == 'South Korea']"
   ]
  },
  {
   "cell_type": "markdown",
   "metadata": {},
   "source": [
    "2. Remove asterisk ('*') from the country name"
   ]
  },
  {
   "cell_type": "code",
   "execution_count": 131,
   "metadata": {},
   "outputs": [],
   "source": [
    "#solve problems of #Hong Kong* in olympic vs Hong Kong in happiness_2016 & \n",
    "#Puerto Rico* in olympic vs Puerto Rico in happiness_2016\n",
    "olympic['country'] = olympic['country'].str.rstrip('*')"
   ]
  },
  {
   "cell_type": "markdown",
   "metadata": {},
   "source": [
    "After further cleaning on the data, we could join the tables together now. As we would like to compare the countries with Happiness data and Olympic together, we choose to use inner join to merge them together to keep the data existing in both tables only. "
   ]
  },
  {
   "cell_type": "code",
   "execution_count": 134,
   "metadata": {},
   "outputs": [
    {
     "data": {
      "text/plain": [
       "0"
      ]
     },
     "execution_count": 134,
     "metadata": {},
     "output_type": "execute_result"
    }
   ],
   "source": [
    "olympic_corr = pd.merge(olympic, happy_compare_clean, how='inner', \n",
    "                        left_on='country', right_on='Country')\n",
    "##check any duplicated rows\n",
    "len(olympic_corr) - olympic_corr['country'].nunique()"
   ]
  },
  {
   "cell_type": "markdown",
   "metadata": {},
   "source": [
    "After all the cleansing, we can now merge both tables into olympic_corr for data analysis.\n",
    "\n",
    "First, check all the column names."
   ]
  },
  {
   "cell_type": "code",
   "execution_count": 135,
   "metadata": {},
   "outputs": [
    {
     "data": {
      "text/plain": [
       "Index(['nationality', 'gold', 'silver', 'bronze', 'total_medals', 'country',\n",
       "       'code', 'population', 'gdp_per_capita', 'Country', 'Region',\n",
       "       'Happiness_Rank_2016', 'Happiness_Score_2016',\n",
       "       'Lower_Confidence_Interval_2016', 'Upper_Confidence_Interval_2016',\n",
       "       'Economy_GDP_per_Capita_2016', 'Family_2016',\n",
       "       'Health_Life Expectancy_2016', 'Freedom_2016',\n",
       "       'Trust_Government_Corruption_2016', 'Generosity_2016',\n",
       "       'Dystopia_Residual_2016', 'Happiness_Rank_2017', 'Happiness_Score_2017',\n",
       "       'Upper_Confidence_Interval_2017', 'Lower_Confidence_Interval_2017',\n",
       "       'Economy_GDP_per_Capita_2017', 'Family_2017',\n",
       "       'Health_Life Expectancy_2017', 'Freedom_2017', 'Generosity_2017',\n",
       "       'Trust_Government_Corruption_2017', 'Dystopia_Residual_2017'],\n",
       "      dtype='object')"
      ]
     },
     "execution_count": 135,
     "metadata": {},
     "output_type": "execute_result"
    }
   ],
   "source": [
    "olympic_corr.columns"
   ]
  },
  {
   "cell_type": "code",
   "execution_count": 136,
   "metadata": {},
   "outputs": [
    {
     "data": {
      "text/plain": [
       "0"
      ]
     },
     "execution_count": 136,
     "metadata": {},
     "output_type": "execute_result"
    }
   ],
   "source": [
    "olympic_corr['Country'].isna().sum()"
   ]
  },
  {
   "cell_type": "code",
   "execution_count": 137,
   "metadata": {},
   "outputs": [],
   "source": [
    "olympic_corr_clean=olympic_corr.dropna()"
   ]
  },
  {
   "cell_type": "code",
   "execution_count": 138,
   "metadata": {},
   "outputs": [
    {
     "data": {
      "text/html": [
       "<div>\n",
       "<style scoped>\n",
       "    .dataframe tbody tr th:only-of-type {\n",
       "        vertical-align: middle;\n",
       "    }\n",
       "\n",
       "    .dataframe tbody tr th {\n",
       "        vertical-align: top;\n",
       "    }\n",
       "\n",
       "    .dataframe thead th {\n",
       "        text-align: right;\n",
       "    }\n",
       "</style>\n",
       "<table border=\"1\" class=\"dataframe\">\n",
       "  <thead>\n",
       "    <tr style=\"text-align: right;\">\n",
       "      <th></th>\n",
       "      <th>nationality</th>\n",
       "      <th>gold</th>\n",
       "      <th>silver</th>\n",
       "      <th>bronze</th>\n",
       "      <th>total_medals</th>\n",
       "      <th>country</th>\n",
       "      <th>code</th>\n",
       "      <th>population</th>\n",
       "      <th>gdp_per_capita</th>\n",
       "    </tr>\n",
       "  </thead>\n",
       "  <tbody>\n",
       "    <tr>\n",
       "      <th>198</th>\n",
       "      <td>USA</td>\n",
       "      <td>139</td>\n",
       "      <td>54</td>\n",
       "      <td>71</td>\n",
       "      <td>264</td>\n",
       "      <td>United States</td>\n",
       "      <td>USA</td>\n",
       "      <td>3.214188e+08</td>\n",
       "      <td>56115.718426</td>\n",
       "    </tr>\n",
       "    <tr>\n",
       "      <th>72</th>\n",
       "      <td>GER</td>\n",
       "      <td>49</td>\n",
       "      <td>44</td>\n",
       "      <td>67</td>\n",
       "      <td>160</td>\n",
       "      <td>Germany</td>\n",
       "      <td>GER</td>\n",
       "      <td>8.141314e+07</td>\n",
       "      <td>41313.313995</td>\n",
       "    </tr>\n",
       "    <tr>\n",
       "      <th>68</th>\n",
       "      <td>GBR</td>\n",
       "      <td>64</td>\n",
       "      <td>55</td>\n",
       "      <td>26</td>\n",
       "      <td>145</td>\n",
       "      <td>United Kingdom</td>\n",
       "      <td>GBR</td>\n",
       "      <td>6.513823e+07</td>\n",
       "      <td>43875.969614</td>\n",
       "    </tr>\n",
       "    <tr>\n",
       "      <th>159</th>\n",
       "      <td>RUS</td>\n",
       "      <td>52</td>\n",
       "      <td>29</td>\n",
       "      <td>34</td>\n",
       "      <td>115</td>\n",
       "      <td>Russia</td>\n",
       "      <td>RUS</td>\n",
       "      <td>1.440968e+08</td>\n",
       "      <td>9092.580536</td>\n",
       "    </tr>\n",
       "    <tr>\n",
       "      <th>38</th>\n",
       "      <td>CHN</td>\n",
       "      <td>46</td>\n",
       "      <td>30</td>\n",
       "      <td>37</td>\n",
       "      <td>113</td>\n",
       "      <td>China</td>\n",
       "      <td>CHN</td>\n",
       "      <td>1.371220e+09</td>\n",
       "      <td>8027.683810</td>\n",
       "    </tr>\n",
       "    <tr>\n",
       "      <th>...</th>\n",
       "      <td>...</td>\n",
       "      <td>...</td>\n",
       "      <td>...</td>\n",
       "      <td>...</td>\n",
       "      <td>...</td>\n",
       "      <td>...</td>\n",
       "      <td>...</td>\n",
       "      <td>...</td>\n",
       "      <td>...</td>\n",
       "    </tr>\n",
       "    <tr>\n",
       "      <th>94</th>\n",
       "      <td>IVB</td>\n",
       "      <td>0</td>\n",
       "      <td>0</td>\n",
       "      <td>0</td>\n",
       "      <td>0</td>\n",
       "      <td>British Virgin Islands</td>\n",
       "      <td>IVB</td>\n",
       "      <td>3.011700e+04</td>\n",
       "      <td>NaN</td>\n",
       "    </tr>\n",
       "    <tr>\n",
       "      <th>100</th>\n",
       "      <td>KGZ</td>\n",
       "      <td>0</td>\n",
       "      <td>0</td>\n",
       "      <td>0</td>\n",
       "      <td>0</td>\n",
       "      <td>Kyrgyzstan</td>\n",
       "      <td>KGZ</td>\n",
       "      <td>5.957000e+06</td>\n",
       "      <td>1103.215352</td>\n",
       "    </tr>\n",
       "    <tr>\n",
       "      <th>101</th>\n",
       "      <td>KIR</td>\n",
       "      <td>0</td>\n",
       "      <td>0</td>\n",
       "      <td>0</td>\n",
       "      <td>0</td>\n",
       "      <td>Kiribati</td>\n",
       "      <td>KIR</td>\n",
       "      <td>NaN</td>\n",
       "      <td>NaN</td>\n",
       "    </tr>\n",
       "    <tr>\n",
       "      <th>1</th>\n",
       "      <td>ALB</td>\n",
       "      <td>0</td>\n",
       "      <td>0</td>\n",
       "      <td>0</td>\n",
       "      <td>0</td>\n",
       "      <td>Albania</td>\n",
       "      <td>ALB</td>\n",
       "      <td>2.889167e+06</td>\n",
       "      <td>3945.217582</td>\n",
       "    </tr>\n",
       "    <tr>\n",
       "      <th>206</th>\n",
       "      <td>ZIM</td>\n",
       "      <td>0</td>\n",
       "      <td>0</td>\n",
       "      <td>0</td>\n",
       "      <td>0</td>\n",
       "      <td>Zimbabwe</td>\n",
       "      <td>ZIM</td>\n",
       "      <td>1.560275e+07</td>\n",
       "      <td>924.143819</td>\n",
       "    </tr>\n",
       "  </tbody>\n",
       "</table>\n",
       "<p>207 rows × 9 columns</p>\n",
       "</div>"
      ],
      "text/plain": [
       "    nationality  gold  silver  bronze  total_medals                 country  \\\n",
       "198         USA   139      54      71           264           United States   \n",
       "72          GER    49      44      67           160                 Germany   \n",
       "68          GBR    64      55      26           145          United Kingdom   \n",
       "159         RUS    52      29      34           115                  Russia   \n",
       "38          CHN    46      30      37           113                   China   \n",
       "..          ...   ...     ...     ...           ...                     ...   \n",
       "94          IVB     0       0       0             0  British Virgin Islands   \n",
       "100         KGZ     0       0       0             0              Kyrgyzstan   \n",
       "101         KIR     0       0       0             0                Kiribati   \n",
       "1           ALB     0       0       0             0                 Albania   \n",
       "206         ZIM     0       0       0             0                Zimbabwe   \n",
       "\n",
       "    code    population  gdp_per_capita  \n",
       "198  USA  3.214188e+08    56115.718426  \n",
       "72   GER  8.141314e+07    41313.313995  \n",
       "68   GBR  6.513823e+07    43875.969614  \n",
       "159  RUS  1.440968e+08     9092.580536  \n",
       "38   CHN  1.371220e+09     8027.683810  \n",
       "..   ...           ...             ...  \n",
       "94   IVB  3.011700e+04             NaN  \n",
       "100  KGZ  5.957000e+06     1103.215352  \n",
       "101  KIR           NaN             NaN  \n",
       "1    ALB  2.889167e+06     3945.217582  \n",
       "206  ZIM  1.560275e+07      924.143819  \n",
       "\n",
       "[207 rows x 9 columns]"
      ]
     },
     "execution_count": 138,
     "metadata": {},
     "output_type": "execute_result"
    }
   ],
   "source": [
    "olympic.sort_values(by='total_medals',ascending=False)"
   ]
  },
  {
   "cell_type": "markdown",
   "metadata": {},
   "source": [
    "# ***** Missing Data<a id='missing_combined'></a>"
   ]
  },
  {
   "cell_type": "code",
   "execution_count": 139,
   "metadata": {},
   "outputs": [
    {
     "ename": "NameError",
     "evalue": "name 'combined' is not defined",
     "output_type": "error",
     "traceback": [
      "\u001b[1;31m---------------------------------------------------------------------------\u001b[0m",
      "\u001b[1;31mNameError\u001b[0m                                 Traceback (most recent call last)",
      "\u001b[1;32m<ipython-input-139-000cebba56af>\u001b[0m in \u001b[0;36m<module>\u001b[1;34m\u001b[0m\n\u001b[1;32m----> 1\u001b[1;33m \u001b[0mmissing_counts\u001b[0m \u001b[1;33m=\u001b[0m \u001b[0mcombined\u001b[0m\u001b[1;33m.\u001b[0m\u001b[0misna\u001b[0m\u001b[1;33m(\u001b[0m\u001b[1;33m)\u001b[0m\u001b[1;33m.\u001b[0m\u001b[0msum\u001b[0m\u001b[1;33m(\u001b[0m\u001b[1;33m)\u001b[0m\u001b[1;33m.\u001b[0m\u001b[0msort_values\u001b[0m\u001b[1;33m(\u001b[0m\u001b[1;33m)\u001b[0m\u001b[1;33m\u001b[0m\u001b[1;33m\u001b[0m\u001b[0m\n\u001b[0m\u001b[0;32m      2\u001b[0m \u001b[0mmissing_one_plus\u001b[0m \u001b[1;33m=\u001b[0m \u001b[0mmissing_counts\u001b[0m\u001b[1;33m[\u001b[0m\u001b[0mmissing_counts\u001b[0m \u001b[1;33m>=\u001b[0m\u001b[1;36m1\u001b[0m\u001b[1;33m]\u001b[0m\u001b[1;33m\u001b[0m\u001b[1;33m\u001b[0m\u001b[0m\n",
      "\u001b[1;31mNameError\u001b[0m: name 'combined' is not defined"
     ]
    }
   ],
   "source": [
    "missing_counts = combined.isna().sum().sort_values()\n",
    "missing_one_plus = missing_counts[missing_counts >=1]"
   ]
  },
  {
   "cell_type": "code",
   "execution_count": 140,
   "metadata": {
    "scrolled": false
   },
   "outputs": [
    {
     "ename": "NameError",
     "evalue": "name 'missing_one_plus' is not defined",
     "output_type": "error",
     "traceback": [
      "\u001b[1;31m---------------------------------------------------------------------------\u001b[0m",
      "\u001b[1;31mNameError\u001b[0m                                 Traceback (most recent call last)",
      "\u001b[1;32m<ipython-input-140-5c8dd2308d96>\u001b[0m in \u001b[0;36m<module>\u001b[1;34m\u001b[0m\n\u001b[0;32m      1\u001b[0m \u001b[0mfig\u001b[0m\u001b[1;33m,\u001b[0m \u001b[0max\u001b[0m \u001b[1;33m=\u001b[0m \u001b[0mplt\u001b[0m\u001b[1;33m.\u001b[0m\u001b[0msubplots\u001b[0m\u001b[1;33m(\u001b[0m\u001b[0mfigsize\u001b[0m\u001b[1;33m=\u001b[0m\u001b[1;33m(\u001b[0m\u001b[1;36m20\u001b[0m\u001b[1;33m,\u001b[0m\u001b[1;36m20\u001b[0m\u001b[1;33m)\u001b[0m\u001b[1;33m)\u001b[0m\u001b[1;33m\u001b[0m\u001b[1;33m\u001b[0m\u001b[0m\n\u001b[1;32m----> 2\u001b[1;33m \u001b[0max\u001b[0m \u001b[1;33m=\u001b[0m \u001b[0mmissing_one_plus\u001b[0m\u001b[1;33m.\u001b[0m\u001b[0mplot\u001b[0m\u001b[1;33m(\u001b[0m\u001b[0mkind\u001b[0m\u001b[1;33m=\u001b[0m\u001b[1;34m'barh'\u001b[0m\u001b[1;33m,\u001b[0m \u001b[0mxticks\u001b[0m\u001b[1;33m=\u001b[0m\u001b[1;33m[\u001b[0m\u001b[1;36m0\u001b[0m\u001b[1;33m,\u001b[0m\u001b[1;36m100\u001b[0m\u001b[1;33m,\u001b[0m\u001b[1;36m200\u001b[0m\u001b[1;33m,\u001b[0m\u001b[1;36m300\u001b[0m\u001b[1;33m,\u001b[0m\u001b[1;36m400\u001b[0m\u001b[1;33m]\u001b[0m\u001b[1;33m)\u001b[0m\u001b[1;33m\u001b[0m\u001b[1;33m\u001b[0m\u001b[0m\n\u001b[0m\u001b[0;32m      3\u001b[0m \u001b[0mplt\u001b[0m\u001b[1;33m.\u001b[0m\u001b[0mgrid\u001b[0m\u001b[1;33m(\u001b[0m\u001b[0maxis\u001b[0m\u001b[1;33m=\u001b[0m\u001b[1;34m'x'\u001b[0m\u001b[1;33m)\u001b[0m\u001b[1;33m\u001b[0m\u001b[1;33m\u001b[0m\u001b[0m\n\u001b[0;32m      4\u001b[0m \u001b[0msns\u001b[0m\u001b[1;33m.\u001b[0m\u001b[0mdespine\u001b[0m\u001b[1;33m(\u001b[0m\u001b[0mleft\u001b[0m\u001b[1;33m=\u001b[0m\u001b[1;32mTrue\u001b[0m\u001b[1;33m,\u001b[0m \u001b[0mbottom\u001b[0m\u001b[1;33m=\u001b[0m\u001b[1;32mFalse\u001b[0m\u001b[1;33m)\u001b[0m\u001b[1;33m\u001b[0m\u001b[1;33m\u001b[0m\u001b[0m\n",
      "\u001b[1;31mNameError\u001b[0m: name 'missing_one_plus' is not defined"
     ]
    },
    {
     "data": {
      "image/png": "[encoded data removed]",
      "text/plain": [
       "<Figure size 1440x1440 with 1 Axes>"
      ]
     },
     "metadata": {
      "needs_background": "light"
     },
     "output_type": "display_data"
    }
   ],
   "source": [
    "fig, ax = plt.subplots(figsize=(20,20))\n",
    "ax = missing_one_plus.plot(kind='barh', xticks=[0,100,200,300,400])\n",
    "plt.grid(axis='x')\n",
    "sns.despine(left=True, bottom=False)"
   ]
  },
  {
   "cell_type": "markdown",
   "metadata": {},
   "source": [
    "We can see that there are ten columns for which the number of missing values is very high. Since these columns are not useful in further analysis anyway, let's drop them."
   ]
  },
  {
   "cell_type": "code",
   "execution_count": null,
   "metadata": {},
   "outputs": [],
   "source": [
    "cols_to_drop = ['SCHOOLWIDE PUPIL-TEACHER RATIO', 'fl_percent', 'online_ap_courses', 'online_language_courses', \n",
    "                'school_type', 'Number of Exams with scores 3 4 or 5', 'campus_name', 'AP Test Takers ', \n",
    "                'Total Exams Taken', 'advancedplacement_courses']\n",
    "combined.drop(cols_to_drop, axis=1, inplace=True)"
   ]
  },
  {
   "cell_type": "markdown",
   "metadata": {},
   "source": [
    "Since we now have columns with less than 100 missing values, we can now go ahead and impute the missing values for a particular column with the mean value for that column."
   ]
  },
  {
   "cell_type": "code",
   "execution_count": null,
   "metadata": {},
   "outputs": [],
   "source": [
    "combined = combined.fillna(combined.mean()) # for numerical columns\n",
    "combined = combined.fillna(0) # for categorical columns\n",
    "combined.head()"
   ]
  },
  {
   "cell_type": "markdown",
   "metadata": {},
   "source": [
    "Let's confirm that there are no more missing values in our \"combined\" dataset."
   ]
  },
  {
   "cell_type": "code",
   "execution_count": null,
   "metadata": {
    "scrolled": false
   },
   "outputs": [],
   "source": [
    "len(combined.isna().sum()[combined.isna().sum() >= 1])"
   ]
  },
  {
   "cell_type": "markdown",
   "metadata": {},
   "source": [
    "# FIND CORRELATIONS<a id='find_corr'></a>"
   ]
  },
  {
   "cell_type": "code",
   "execution_count": null,
   "metadata": {},
   "outputs": [],
   "source": [
    "plt.rc('figure', figsize=(20,20))"
   ]
  },
  {
   "cell_type": "code",
   "execution_count": null,
   "metadata": {},
   "outputs": [],
   "source": [
    "fig, axes = plt.subplots(4,2)\n",
    "axes[0,0].scatter(olympic_corr_clean['Happiness_Score_2016'],olympic_corr_clean['total_medals'])\n",
    "axes[0,0].set_title('Happiness Score vs Total medals earned in 2016 RIO Olympic')\n",
    "axes[0,1].scatter(olympic_corr_clean['Economy_GDP_per_Capita_2016'],olympic_corr_clean['total_medals'])\n",
    "axes[0,1].set_title('GDP per capita vs Total medals earned in 2016 RIO Olympic')\n",
    "axes[1,0].scatter(olympic_corr_clean['Freedom_2016'],olympic_corr_clean['total_medals'])\n",
    "axes[1,0].set_title('Freedom Score vs Total medals earned in 2016 RIO Olympic')\n",
    "axes[1,1].scatter(olympic_corr_clean['Health_Life Expectancy_2016'],olympic_corr_clean['total_medals'])\n",
    "axes[1,1].set_title('Health Life Expectancy vs Total medals earned in 2016 RIO Olympic')\n",
    "axes[2,0].scatter(olympic_corr_clean['Trust_Government_Corruption_2016'],olympic_corr_clean['total_medals'])\n",
    "axes[2,0].set_title('Trust Government_Corruption vs Total medals earned in 2016 RIO Olympic')\n",
    "axes[2,1].scatter(olympic_corr_clean['Generosity_2016'],olympic_corr_clean['total_medals'])\n",
    "axes[2,1].set_title('Generosity SCore vs Total medals earned in 2016 RIO Olympic')\n",
    "axes[3,0].scatter(olympic_corr_clean['Dystopia_Residual_2016'],olympic_corr_clean['total_medals'])\n",
    "axes[3,0].set_title('Dystopia Residual Score vs Total medals earned in 2016 RIO Olympic')\n",
    "fig.delaxes(axes[3,1])"
   ]
  },
  {
   "cell_type": "markdown",
   "metadata": {},
   "source": [
    "## Correlations Plots<a id='corr_plots'></a>"
   ]
  },
  {
   "cell_type": "markdown",
   "metadata": {},
   "source": [
    "Let's filter the positive and negative correlations first and we'll then plot them one by one."
   ]
  },
  {
   "cell_type": "code",
   "execution_count": null,
   "metadata": {},
   "outputs": [],
   "source": [
    "factor_list=['Happiness_Score_2016',\n",
    "             'Economy_GDP_per_Capita_2016',\n",
    "             'Freedom_2016',\n",
    "             'Health_Life Expectancy_2016',\n",
    "             'Trust_Government_Corruption_2016',\n",
    "             'Generosity_2016',\n",
    "             'Dystopia_Residual_2016']\n",
    "corr=[]\n",
    "for i in range(len(factor_list)):\n",
    "    corr.append(pearsonr\n",
    "                (olympic_corr_clean[factor_list[i]],\n",
    "                 olympic_corr_clean['total_medals']))\n",
    "corr"
   ]
  },
  {
   "cell_type": "code",
   "execution_count": null,
   "metadata": {},
   "outputs": [],
   "source": [
    "olympic_corr_clean['Happy_diff']=olympic_corr_clean['Happiness_Score_2016']-olympic_corr_clean['Happiness_Score_2017']"
   ]
  },
  {
   "cell_type": "code",
   "execution_count": null,
   "metadata": {},
   "outputs": [],
   "source": [
    "olympic_corr_clean"
   ]
  },
  {
   "cell_type": "code",
   "execution_count": null,
   "metadata": {},
   "outputs": [],
   "source": [
    "olympic_corr_clean[['country',\n",
    "                    'Happiness_Score_2016',\n",
    "                    'total_medals',\n",
    "                    'Happiness_Score_2017',\n",
    "                    'Happy_diff']].sort_values(by='Happy_diff',ascending=False).head()"
   ]
  },
  {
   "cell_type": "code",
   "execution_count": null,
   "metadata": {},
   "outputs": [],
   "source": [
    "olympic_corr_clean['GDP_diff']=olympic_corr_clean['Economy_GDP_per_Capita_2016']-olympic_corr_clean['Economy_GDP_per_Capita_2017']"
   ]
  },
  {
   "cell_type": "code",
   "execution_count": null,
   "metadata": {},
   "outputs": [],
   "source": [
    "olympic_corr_clean[['country','Economy_GDP_per_Capita_2016','total_medals','Economy_GDP_per_Capita_2017','GDP_diff']].sort_values(by='GDP_diff',ascending=False).head(10)"
   ]
  },
  {
   "cell_type": "code",
   "execution_count": null,
   "metadata": {},
   "outputs": [],
   "source": [
    "plt.rc('figure', figsize=(10,10))\n",
    "plt.bar(olympic['country'],olympic['total_medals'].sort_values())"
   ]
  },
  {
   "cell_type": "markdown",
   "metadata": {},
   "source": [
    "## Correlations Analysis<a id='corr_analysis'></a>"
   ]
  },
  {
   "cell_type": "markdown",
   "metadata": {},
   "source": [
    "From the above correlations plots, we can conclude the following:\n",
    "\n",
    "__1. SAT Score has strong positive correlation with the percentage of Advanced Regents Examinees at a School__\n",
    "\n",
    "In New York State, Regents Examinations are statewide standardized examinations in core high school subjects required for a certain Regents Diploma to graduate. For higher achieving students, a Regents with Advanced designation, and an Honor designation, are also offered. \n",
    "\n",
    "We can see from the positive correlations plot that both 'Advanced Regents - % of Cohort' and 'Advanced Regents - % of Grads' have a strong positive correlation with SAT Score. This means that the higher the percentage of students in a school who take Advanced Regents Exams, the higher the SAT Score Avg. for that school. This hardly comes as a surprise as students who take the Advanced Regents Exams are obviously higher achieving students and are in a much better position to score highly on the SAT test as well.\n",
    "\n",
    "__2. SAT Score has moderate negative correlation with the percentage of Grad Non-Advanced Regents Examinees at a School__\n",
    "\n",
    "This means that as the percentage of Grad students taking Non-Advanced Regents Exams at a school increases, the SAT Score Avg. for that school tends to decrease. This is interesting as it is somewhat in contrast with point number 1.\n",
    "\n",
    "__3. SAT Score has moderate positive correlation with the percentage of White Students at a School__\n",
    "\n",
    "The higher the percentage of White students studying in a school, the higher the SAT Score for that school. This seems to have a strong racial connotation. However, on a closer look, we can see that the percentage of Asian students is also moderately correlated with SAT Score, albeit not as strongly as that for White students. And this may dispel the idea that a particular race tends to do better on SAT scores. This is further established by the fact that the percentages of Hispanic and Black students also have only a weak negative correlation with the Avg. SAT score.\n",
    "\n",
    "__4. SAT Score has moderate positive correlation with the Number of SAT Test Takers at a School__\n",
    "\n",
    "The higher the number of SAT test takers at a school, the higher the SAT Score Avg. for that school. This implies that as the number of SAT test takers at a school increases, each individual student tends to score relatively higher which in turn leads to a higher SAT Score Avg. for that school.\n",
    "\n",
    "__5. SAT Score has moderate positive correlation with Avg. Class Size at a School__\n",
    "\n",
    "As the average class size at a school increases, SAT Score Avg. also tends to increase for that school. This seems a bit counter-intuitive on a first glance. This is because as the number of students in a class increases, each student is supposed to get less personalized attention and care from the teacher which should lead to lower SAT scores. However it may be that SAT score depends on the independent effort of each individual student and has little to do with class attention and guidance received from the teacher.\n",
    "\n",
    "__6. SAT Score has weak positive/negative correlation with the percentages of Female/Male students at a School__\n",
    "\n",
    "Even though the correlations are weak, this may imply that females in general tend to perform better on the SAT exam as compared with males."
   ]
  },
  {
   "cell_type": "code",
   "execution_count": null,
   "metadata": {},
   "outputs": [],
   "source": []
  },
  {
   "cell_type": "code",
   "execution_count": null,
   "metadata": {},
   "outputs": [],
   "source": []
  }
 ],
 "metadata": {
  "kernelspec": {
   "display_name": "Python 3",
   "language": "python",
   "name": "python3"
  },
  "language_info": {
   "codemirror_mode": {
    "name": "ipython",
    "version": 3
   },
   "file_extension": ".py",
   "mimetype": "text/x-python",
   "name": "python",
   "nbconvert_exporter": "python",
   "pygments_lexer": "ipython3",
   "version": "3.8.5"
  }
 },
 "nbformat": 4,
 "nbformat_minor": 2
}
